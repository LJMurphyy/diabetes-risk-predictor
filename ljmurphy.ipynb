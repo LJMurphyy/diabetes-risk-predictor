{
 "cells": [
  {
   "cell_type": "markdown",
   "id": "c44f1834",
   "metadata": {},
   "source": [
    "## Data Inspection"
   ]
  },
  {
   "cell_type": "code",
   "execution_count": 1,
   "id": "be5bd003",
   "metadata": {},
   "outputs": [],
   "source": [
    "# import pandas as pd\n",
    "\n",
    "# df = pd.read_csv('diabetes_012_health_indicators_BRFSS2015.csv')\n",
    "# print(df.shape)\n",
    "# print(df.columns)\n",
    "# print(df.info())\n",
    "# print(df.describe())\n"
   ]
  },
  {
   "cell_type": "code",
   "execution_count": 2,
   "id": "2f5e1929",
   "metadata": {},
   "outputs": [],
   "source": [
    "# # Binary Target\n",
    "# df['Diabetes_binary'] = df['Diabetes_012'].apply(lambda x: 1 if x > 0 else 0)\n"
   ]
  },
  {
   "cell_type": "code",
   "execution_count": 3,
   "id": "775ab326",
   "metadata": {},
   "outputs": [],
   "source": [
    "# import matplotlib.pyplot as plt\n",
    "\n",
    "# df['Diabetes_binary'].value_counts(normalize=True).plot(kind='bar')\n",
    "# plt.xticks([0, 1], ['No Diabetes', 'Prediabetes/Diabetes'], rotation=0)\n",
    "# plt.title('Class Distribution')\n",
    "# plt.ylabel('Proportion')\n",
    "# plt.show()\n"
   ]
  },
  {
   "cell_type": "code",
   "execution_count": 4,
   "id": "76465eb7",
   "metadata": {},
   "outputs": [],
   "source": [
    "# import seaborn as sns\n",
    "\n",
    "# correlations = df.corr()['Diabetes_binary'].sort_values(ascending=False)\n",
    "# print(correlations.head(10))\n",
    "\n",
    "# top_corr_features = correlations[1:11].index\n",
    "# sns.heatmap(df[top_corr_features].corr(), annot=True, cmap='coolwarm')\n",
    "# plt.title('Heatmap of Top Correlated Features')\n",
    "# plt.show()\n"
   ]
  },
  {
   "cell_type": "code",
   "execution_count": 5,
   "id": "8ba52f75",
   "metadata": {},
   "outputs": [],
   "source": [
    "# # Correct numerical features\n",
    "# num_features = ['BMI', 'PhysHlth', 'MentHlth', 'GenHlth']\n",
    "\n",
    "# for feature in num_features:\n",
    "#     sns.boxplot(x='Diabetes_binary', y=feature, data=df)\n",
    "#     plt.title(f'{feature} vs Diabetes_binary')\n",
    "#     plt.xticks([0, 1], ['No Diabetes', 'Prediabetes/Diabetes'])\n",
    "#     plt.show()\n"
   ]
  },
  {
   "cell_type": "code",
   "execution_count": 6,
   "id": "940adae2",
   "metadata": {},
   "outputs": [],
   "source": [
    "# cat_features = ['HighBP', 'HighChol', 'Smoker', 'PhysActivity', 'DiffWalk', 'Sex', 'Age', 'Education', 'Income']\n",
    "\n",
    "# for feature in cat_features:\n",
    "#     sns.countplot(x=feature, hue='Diabetes_binary', data=df)\n",
    "#     plt.title(f'{feature} Distribution by Diabetes Status')\n",
    "#     plt.legend(title='Diabetes', labels=['No', 'Yes'])\n",
    "#     plt.show()\n"
   ]
  },
  {
   "cell_type": "code",
   "execution_count": 7,
   "id": "5c3254ca",
   "metadata": {},
   "outputs": [],
   "source": [
    "# from sklearn.feature_selection import SelectKBest, f_classif\n",
    "\n",
    "# X = df.drop(columns=['Diabetes_012', 'Diabetes_binary'])\n",
    "# y = df['Diabetes_binary']\n",
    "\n",
    "# selector = SelectKBest(score_func=f_classif, k=10)\n",
    "# selector.fit(X, y)\n",
    "\n",
    "# scores = pd.DataFrame({\n",
    "#     'Feature': X.columns,\n",
    "#     'F-Score': selector.scores_\n",
    "# }).sort_values(by='F-Score', ascending=False)\n",
    "\n",
    "# print(scores)\n"
   ]
  },
  {
   "cell_type": "code",
   "execution_count": 8,
   "id": "c0f4a811",
   "metadata": {},
   "outputs": [],
   "source": [
    "# # BMI vs. Diabetes by HighBP & HighChol\n",
    "# g = sns.FacetGrid(df, col='HighBP', row='HighChol', hue='Diabetes_binary', margin_titles=True)\n",
    "# g.map_dataframe(sns.kdeplot, x='BMI', fill=True)\n",
    "# g.add_legend()\n",
    "# plt.show()\n"
   ]
  },
  {
   "cell_type": "markdown",
   "id": "907f267c",
   "metadata": {},
   "source": [
    "## Neural Network 2: 6-Layer with 8, 16, 21, 32 Neurons\n",
    "\n",
    "---"
   ]
  },
  {
   "cell_type": "code",
   "execution_count": 3,
   "id": "62f7da86",
   "metadata": {},
   "outputs": [],
   "source": [
    "# Produces the required model for all neural networks\n",
    "from tensorflow.keras import Input\n",
    "from tensorflow.keras.models import Sequential\n",
    "from tensorflow.keras.layers import Dense\n",
    "from tensorflow.keras.optimizers import Adam\n",
    "\n",
    "def make_model(units):\n",
    "    # Returns a compiled 6-layer neural network with an assigned amount of neurons\n",
    "    model = Sequential([\n",
    "        Input(shape=(21,)),        # 21 normalized features in\n",
    "        Dense(units, activation='relu'),\n",
    "        Dense(units, activation='relu'),\n",
    "        Dense(units, activation='relu'),\n",
    "        Dense(units, activation='relu'),\n",
    "        Dense(units, activation='relu'),\n",
    "        Dense(units, activation='relu'),\n",
    "        Dense(3, activation='softmax')  # 3 output classes\n",
    "    ])\n",
    "\n",
    "    # Compile\n",
    "    model.compile(\n",
    "        optimizer=Adam(),\n",
    "        loss='sparse_categorical_crossentropy',\n",
    "        metrics=['accuracy']\n",
    "    )\n",
    "    \n",
    "    return model\n"
   ]
  },
  {
   "cell_type": "code",
   "execution_count": 4,
   "id": "de029d25",
   "metadata": {},
   "outputs": [
    {
     "name": "stdout",
     "output_type": "stream",
     "text": [
      "(202944, 21) (202944,)\n",
      "(50736, 21) (50736,)\n",
      "0.0 1.0000000000000002\n"
     ]
    }
   ],
   "source": [
    "# Cell 1: Load & Normalize the Data\n",
    "import pandas as pd\n",
    "from sklearn.model_selection import train_test_split\n",
    "from sklearn.preprocessing import MinMaxScaler\n",
    "\n",
    "# 1. Load the Kaggle CSV (adjust path as needed)\n",
    "df = pd.read_csv('diabetes_012_health_indicators_BRFSS2015.csv')\n",
    "\n",
    "# 2. Split into features (X) and target (y)\n",
    "X = df.drop('Diabetes_012', axis=1).values\n",
    "y = df['Diabetes_012'].values\n",
    "\n",
    "# 3. Train/test split (stratify to keep class proportions)\n",
    "X_train, X_test, y_train, y_test = train_test_split(\n",
    "    X, y,\n",
    "    test_size=0.2,\n",
    "    random_state=42,\n",
    "    stratify=y\n",
    ")\n",
    "\n",
    "# 4. Apply Min–Max normalization so all features lie in [0,1]\n",
    "scaler = MinMaxScaler()\n",
    "X_train_norm = scaler.fit_transform(X_train)\n",
    "X_test_norm  = scaler.transform(X_test)\n",
    "\n",
    "# Now X_train_norm and X_test_norm are ready for your network.\n",
    "print(X_train_norm.shape, y_train.shape)  # should be (202944, 21), (202944,)\n",
    "print(X_test_norm.shape,  y_test.shape)   # should be (50736, 21), (50736,)\n",
    "print(X_train_norm.min(), X_train_norm.max())  # should be 0.0, 1.0"
   ]
  },
  {
   "cell_type": "code",
   "execution_count": 7,
   "id": "384a846d",
   "metadata": {},
   "outputs": [
    {
     "data": {
      "text/html": [
       "<pre style=\"white-space:pre;overflow-x:auto;line-height:normal;font-family:Menlo,'DejaVu Sans Mono',consolas,'Courier New',monospace\"><span style=\"font-weight: bold\">Model: \"sequential_2\"</span>\n",
       "</pre>\n"
      ],
      "text/plain": [
       "\u001b[1mModel: \"sequential_2\"\u001b[0m\n"
      ]
     },
     "metadata": {},
     "output_type": "display_data"
    },
    {
     "data": {
      "text/html": [
       "<pre style=\"white-space:pre;overflow-x:auto;line-height:normal;font-family:Menlo,'DejaVu Sans Mono',consolas,'Courier New',monospace\">┏━━━━━━━━━━━━━━━━━━━━━━━━━━━━━━━━━┳━━━━━━━━━━━━━━━━━━━━━━━━┳━━━━━━━━━━━━━━━┓\n",
       "┃<span style=\"font-weight: bold\"> Layer (type)                    </span>┃<span style=\"font-weight: bold\"> Output Shape           </span>┃<span style=\"font-weight: bold\">       Param # </span>┃\n",
       "┡━━━━━━━━━━━━━━━━━━━━━━━━━━━━━━━━━╇━━━━━━━━━━━━━━━━━━━━━━━━╇━━━━━━━━━━━━━━━┩\n",
       "│ dense_14 (<span style=\"color: #0087ff; text-decoration-color: #0087ff\">Dense</span>)                │ (<span style=\"color: #00d7ff; text-decoration-color: #00d7ff\">None</span>, <span style=\"color: #00af00; text-decoration-color: #00af00\">8</span>)              │           <span style=\"color: #00af00; text-decoration-color: #00af00\">176</span> │\n",
       "├─────────────────────────────────┼────────────────────────┼───────────────┤\n",
       "│ dense_15 (<span style=\"color: #0087ff; text-decoration-color: #0087ff\">Dense</span>)                │ (<span style=\"color: #00d7ff; text-decoration-color: #00d7ff\">None</span>, <span style=\"color: #00af00; text-decoration-color: #00af00\">8</span>)              │            <span style=\"color: #00af00; text-decoration-color: #00af00\">72</span> │\n",
       "├─────────────────────────────────┼────────────────────────┼───────────────┤\n",
       "│ dense_16 (<span style=\"color: #0087ff; text-decoration-color: #0087ff\">Dense</span>)                │ (<span style=\"color: #00d7ff; text-decoration-color: #00d7ff\">None</span>, <span style=\"color: #00af00; text-decoration-color: #00af00\">8</span>)              │            <span style=\"color: #00af00; text-decoration-color: #00af00\">72</span> │\n",
       "├─────────────────────────────────┼────────────────────────┼───────────────┤\n",
       "│ dense_17 (<span style=\"color: #0087ff; text-decoration-color: #0087ff\">Dense</span>)                │ (<span style=\"color: #00d7ff; text-decoration-color: #00d7ff\">None</span>, <span style=\"color: #00af00; text-decoration-color: #00af00\">8</span>)              │            <span style=\"color: #00af00; text-decoration-color: #00af00\">72</span> │\n",
       "├─────────────────────────────────┼────────────────────────┼───────────────┤\n",
       "│ dense_18 (<span style=\"color: #0087ff; text-decoration-color: #0087ff\">Dense</span>)                │ (<span style=\"color: #00d7ff; text-decoration-color: #00d7ff\">None</span>, <span style=\"color: #00af00; text-decoration-color: #00af00\">8</span>)              │            <span style=\"color: #00af00; text-decoration-color: #00af00\">72</span> │\n",
       "├─────────────────────────────────┼────────────────────────┼───────────────┤\n",
       "│ dense_19 (<span style=\"color: #0087ff; text-decoration-color: #0087ff\">Dense</span>)                │ (<span style=\"color: #00d7ff; text-decoration-color: #00d7ff\">None</span>, <span style=\"color: #00af00; text-decoration-color: #00af00\">8</span>)              │            <span style=\"color: #00af00; text-decoration-color: #00af00\">72</span> │\n",
       "├─────────────────────────────────┼────────────────────────┼───────────────┤\n",
       "│ dense_20 (<span style=\"color: #0087ff; text-decoration-color: #0087ff\">Dense</span>)                │ (<span style=\"color: #00d7ff; text-decoration-color: #00d7ff\">None</span>, <span style=\"color: #00af00; text-decoration-color: #00af00\">3</span>)              │            <span style=\"color: #00af00; text-decoration-color: #00af00\">27</span> │\n",
       "└─────────────────────────────────┴────────────────────────┴───────────────┘\n",
       "</pre>\n"
      ],
      "text/plain": [
       "┏━━━━━━━━━━━━━━━━━━━━━━━━━━━━━━━━━┳━━━━━━━━━━━━━━━━━━━━━━━━┳━━━━━━━━━━━━━━━┓\n",
       "┃\u001b[1m \u001b[0m\u001b[1mLayer (type)                   \u001b[0m\u001b[1m \u001b[0m┃\u001b[1m \u001b[0m\u001b[1mOutput Shape          \u001b[0m\u001b[1m \u001b[0m┃\u001b[1m \u001b[0m\u001b[1m      Param #\u001b[0m\u001b[1m \u001b[0m┃\n",
       "┡━━━━━━━━━━━━━━━━━━━━━━━━━━━━━━━━━╇━━━━━━━━━━━━━━━━━━━━━━━━╇━━━━━━━━━━━━━━━┩\n",
       "│ dense_14 (\u001b[38;5;33mDense\u001b[0m)                │ (\u001b[38;5;45mNone\u001b[0m, \u001b[38;5;34m8\u001b[0m)              │           \u001b[38;5;34m176\u001b[0m │\n",
       "├─────────────────────────────────┼────────────────────────┼───────────────┤\n",
       "│ dense_15 (\u001b[38;5;33mDense\u001b[0m)                │ (\u001b[38;5;45mNone\u001b[0m, \u001b[38;5;34m8\u001b[0m)              │            \u001b[38;5;34m72\u001b[0m │\n",
       "├─────────────────────────────────┼────────────────────────┼───────────────┤\n",
       "│ dense_16 (\u001b[38;5;33mDense\u001b[0m)                │ (\u001b[38;5;45mNone\u001b[0m, \u001b[38;5;34m8\u001b[0m)              │            \u001b[38;5;34m72\u001b[0m │\n",
       "├─────────────────────────────────┼────────────────────────┼───────────────┤\n",
       "│ dense_17 (\u001b[38;5;33mDense\u001b[0m)                │ (\u001b[38;5;45mNone\u001b[0m, \u001b[38;5;34m8\u001b[0m)              │            \u001b[38;5;34m72\u001b[0m │\n",
       "├─────────────────────────────────┼────────────────────────┼───────────────┤\n",
       "│ dense_18 (\u001b[38;5;33mDense\u001b[0m)                │ (\u001b[38;5;45mNone\u001b[0m, \u001b[38;5;34m8\u001b[0m)              │            \u001b[38;5;34m72\u001b[0m │\n",
       "├─────────────────────────────────┼────────────────────────┼───────────────┤\n",
       "│ dense_19 (\u001b[38;5;33mDense\u001b[0m)                │ (\u001b[38;5;45mNone\u001b[0m, \u001b[38;5;34m8\u001b[0m)              │            \u001b[38;5;34m72\u001b[0m │\n",
       "├─────────────────────────────────┼────────────────────────┼───────────────┤\n",
       "│ dense_20 (\u001b[38;5;33mDense\u001b[0m)                │ (\u001b[38;5;45mNone\u001b[0m, \u001b[38;5;34m3\u001b[0m)              │            \u001b[38;5;34m27\u001b[0m │\n",
       "└─────────────────────────────────┴────────────────────────┴───────────────┘\n"
      ]
     },
     "metadata": {},
     "output_type": "display_data"
    },
    {
     "data": {
      "text/html": [
       "<pre style=\"white-space:pre;overflow-x:auto;line-height:normal;font-family:Menlo,'DejaVu Sans Mono',consolas,'Courier New',monospace\"><span style=\"font-weight: bold\"> Total params: </span><span style=\"color: #00af00; text-decoration-color: #00af00\">563</span> (2.20 KB)\n",
       "</pre>\n"
      ],
      "text/plain": [
       "\u001b[1m Total params: \u001b[0m\u001b[38;5;34m563\u001b[0m (2.20 KB)\n"
      ]
     },
     "metadata": {},
     "output_type": "display_data"
    },
    {
     "data": {
      "text/html": [
       "<pre style=\"white-space:pre;overflow-x:auto;line-height:normal;font-family:Menlo,'DejaVu Sans Mono',consolas,'Courier New',monospace\"><span style=\"font-weight: bold\"> Trainable params: </span><span style=\"color: #00af00; text-decoration-color: #00af00\">563</span> (2.20 KB)\n",
       "</pre>\n"
      ],
      "text/plain": [
       "\u001b[1m Trainable params: \u001b[0m\u001b[38;5;34m563\u001b[0m (2.20 KB)\n"
      ]
     },
     "metadata": {},
     "output_type": "display_data"
    },
    {
     "data": {
      "text/html": [
       "<pre style=\"white-space:pre;overflow-x:auto;line-height:normal;font-family:Menlo,'DejaVu Sans Mono',consolas,'Courier New',monospace\"><span style=\"font-weight: bold\"> Non-trainable params: </span><span style=\"color: #00af00; text-decoration-color: #00af00\">0</span> (0.00 B)\n",
       "</pre>\n"
      ],
      "text/plain": [
       "\u001b[1m Non-trainable params: \u001b[0m\u001b[38;5;34m0\u001b[0m (0.00 B)\n"
      ]
     },
     "metadata": {},
     "output_type": "display_data"
    },
    {
     "name": "stdout",
     "output_type": "stream",
     "text": [
      "Epoch 1/20\n",
      "\u001b[1m5708/5708\u001b[0m \u001b[32m━━━━━━━━━━━━━━━━━━━━\u001b[0m\u001b[37m\u001b[0m \u001b[1m4s\u001b[0m 584us/step - accuracy: 0.8397 - loss: 0.4739 - val_accuracy: 0.8482 - val_loss: 0.3977\n",
      "Epoch 2/20\n",
      "\u001b[1m5708/5708\u001b[0m \u001b[32m━━━━━━━━━━━━━━━━━━━━\u001b[0m\u001b[37m\u001b[0m \u001b[1m3s\u001b[0m 566us/step - accuracy: 0.8447 - loss: 0.4052 - val_accuracy: 0.8482 - val_loss: 0.3956\n",
      "Epoch 3/20\n",
      "\u001b[1m5708/5708\u001b[0m \u001b[32m━━━━━━━━━━━━━━━━━━━━\u001b[0m\u001b[37m\u001b[0m \u001b[1m3s\u001b[0m 509us/step - accuracy: 0.8476 - loss: 0.3991 - val_accuracy: 0.8475 - val_loss: 0.3949\n",
      "Epoch 4/20\n",
      "\u001b[1m5708/5708\u001b[0m \u001b[32m━━━━━━━━━━━━━━━━━━━━\u001b[0m\u001b[37m\u001b[0m \u001b[1m3s\u001b[0m 493us/step - accuracy: 0.8450 - loss: 0.4031 - val_accuracy: 0.8519 - val_loss: 0.3918\n",
      "Epoch 5/20\n",
      "\u001b[1m5708/5708\u001b[0m \u001b[32m━━━━━━━━━━━━━━━━━━━━\u001b[0m\u001b[37m\u001b[0m \u001b[1m3s\u001b[0m 496us/step - accuracy: 0.8491 - loss: 0.3969 - val_accuracy: 0.8511 - val_loss: 0.3909\n",
      "Epoch 6/20\n",
      "\u001b[1m5708/5708\u001b[0m \u001b[32m━━━━━━━━━━━━━━━━━━━━\u001b[0m\u001b[37m\u001b[0m \u001b[1m3s\u001b[0m 490us/step - accuracy: 0.8490 - loss: 0.3960 - val_accuracy: 0.8497 - val_loss: 0.3931\n",
      "Epoch 7/20\n",
      "\u001b[1m5708/5708\u001b[0m \u001b[32m━━━━━━━━━━━━━━━━━━━━\u001b[0m\u001b[37m\u001b[0m \u001b[1m3s\u001b[0m 496us/step - accuracy: 0.8482 - loss: 0.3957 - val_accuracy: 0.8505 - val_loss: 0.3906\n",
      "Epoch 8/20\n",
      "\u001b[1m5708/5708\u001b[0m \u001b[32m━━━━━━━━━━━━━━━━━━━━\u001b[0m\u001b[37m\u001b[0m \u001b[1m3s\u001b[0m 521us/step - accuracy: 0.8472 - loss: 0.3991 - val_accuracy: 0.8500 - val_loss: 0.3940\n",
      "Epoch 9/20\n",
      "\u001b[1m5708/5708\u001b[0m \u001b[32m━━━━━━━━━━━━━━━━━━━━\u001b[0m\u001b[37m\u001b[0m \u001b[1m3s\u001b[0m 497us/step - accuracy: 0.8494 - loss: 0.3939 - val_accuracy: 0.8509 - val_loss: 0.3900\n",
      "Epoch 10/20\n",
      "\u001b[1m5708/5708\u001b[0m \u001b[32m━━━━━━━━━━━━━━━━━━━━\u001b[0m\u001b[37m\u001b[0m \u001b[1m3s\u001b[0m 535us/step - accuracy: 0.8491 - loss: 0.3957 - val_accuracy: 0.8478 - val_loss: 0.3929\n",
      "Epoch 11/20\n",
      "\u001b[1m5708/5708\u001b[0m \u001b[32m━━━━━━━━━━━━━━━━━━━━\u001b[0m\u001b[37m\u001b[0m \u001b[1m3s\u001b[0m 597us/step - accuracy: 0.8484 - loss: 0.3955 - val_accuracy: 0.8511 - val_loss: 0.3895\n",
      "Epoch 12/20\n",
      "\u001b[1m5708/5708\u001b[0m \u001b[32m━━━━━━━━━━━━━━━━━━━━\u001b[0m\u001b[37m\u001b[0m \u001b[1m3s\u001b[0m 527us/step - accuracy: 0.8492 - loss: 0.3934 - val_accuracy: 0.8509 - val_loss: 0.3934\n",
      "Epoch 13/20\n",
      "\u001b[1m5708/5708\u001b[0m \u001b[32m━━━━━━━━━━━━━━━━━━━━\u001b[0m\u001b[37m\u001b[0m \u001b[1m3s\u001b[0m 563us/step - accuracy: 0.8479 - loss: 0.3964 - val_accuracy: 0.8518 - val_loss: 0.3947\n",
      "Epoch 14/20\n",
      "\u001b[1m5708/5708\u001b[0m \u001b[32m━━━━━━━━━━━━━━━━━━━━\u001b[0m\u001b[37m\u001b[0m \u001b[1m3s\u001b[0m 522us/step - accuracy: 0.8486 - loss: 0.3945 - val_accuracy: 0.8504 - val_loss: 0.3904\n",
      "Epoch 15/20\n",
      "\u001b[1m5708/5708\u001b[0m \u001b[32m━━━━━━━━━━━━━━━━━━━━\u001b[0m\u001b[37m\u001b[0m \u001b[1m3s\u001b[0m 535us/step - accuracy: 0.8514 - loss: 0.3922 - val_accuracy: 0.8512 - val_loss: 0.3896\n",
      "Epoch 16/20\n",
      "\u001b[1m5708/5708\u001b[0m \u001b[32m━━━━━━━━━━━━━━━━━━━━\u001b[0m\u001b[37m\u001b[0m \u001b[1m3s\u001b[0m 537us/step - accuracy: 0.8497 - loss: 0.3929 - val_accuracy: 0.8494 - val_loss: 0.3890\n",
      "Epoch 17/20\n",
      "\u001b[1m5708/5708\u001b[0m \u001b[32m━━━━━━━━━━━━━━━━━━━━\u001b[0m\u001b[37m\u001b[0m \u001b[1m3s\u001b[0m 520us/step - accuracy: 0.8510 - loss: 0.3922 - val_accuracy: 0.8515 - val_loss: 0.3903\n",
      "Epoch 18/20\n",
      "\u001b[1m5708/5708\u001b[0m \u001b[32m━━━━━━━━━━━━━━━━━━━━\u001b[0m\u001b[37m\u001b[0m \u001b[1m3s\u001b[0m 529us/step - accuracy: 0.8503 - loss: 0.3932 - val_accuracy: 0.8513 - val_loss: 0.3904\n",
      "Epoch 19/20\n",
      "\u001b[1m5708/5708\u001b[0m \u001b[32m━━━━━━━━━━━━━━━━━━━━\u001b[0m\u001b[37m\u001b[0m \u001b[1m3s\u001b[0m 573us/step - accuracy: 0.8504 - loss: 0.3921 - val_accuracy: 0.8489 - val_loss: 0.3909\n",
      "Epoch 20/20\n",
      "\u001b[1m5708/5708\u001b[0m \u001b[32m━━━━━━━━━━━━━━━━━━━━\u001b[0m\u001b[37m\u001b[0m \u001b[1m3s\u001b[0m 524us/step - accuracy: 0.8496 - loss: 0.3925 - val_accuracy: 0.8514 - val_loss: 0.3893\n",
      "\u001b[1m1586/1586\u001b[0m \u001b[32m━━━━━━━━━━━━━━━━━━━━\u001b[0m\u001b[37m\u001b[0m \u001b[1m0s\u001b[0m 239us/step\n",
      "8 neurons time to train: 61.4s, MSE: 0.5522, R²: -0.1328, ACC: 0.8483\n"
     ]
    }
   ],
   "source": [
    "# Cell 2: 6 layer neural network with 8 neurons\n",
    "#         Build, train & evaluate 8-unit model\n",
    "import time \n",
    "# numpy as np\n",
    "from sklearn.metrics import mean_squared_error, r2_score, accuracy_score\n",
    "\n",
    "model_8_neurons = make_model(8)\n",
    "model_8_neurons.summary()\n",
    "\n",
    "start = time.time()\n",
    "history_8 = model_8_neurons.fit(\n",
    "    X_train_norm, y_train,\n",
    "    epochs=20, batch_size=32,\n",
    "    validation_split=0.1, verbose=1\n",
    ")\n",
    "train_time_8 = time.time() - start\n",
    "\n",
    "y_pred_8 = model_8_neurons.predict(X_test_norm).argmax(axis=1)\n",
    "mse_8 = mean_squared_error(y_test, y_pred_8)\n",
    "r2_8  = r2_score(y_test, y_pred_8)\n",
    "acc_8 = accuracy_score(y_test, y_pred_8)\n",
    "\n",
    "print(f\"8 neurons time to train: {train_time_8:.1f}s, MSE: {mse_8:.4f}, R²: {r2_8:.4f}, ACC: {acc_8:.4f}\")\n"
   ]
  },
  {
   "cell_type": "code",
   "execution_count": 10,
   "id": "92381e22",
   "metadata": {},
   "outputs": [
    {
     "data": {
      "text/html": [
       "<pre style=\"white-space:pre;overflow-x:auto;line-height:normal;font-family:Menlo,'DejaVu Sans Mono',consolas,'Courier New',monospace\"><span style=\"font-weight: bold\">Model: \"sequential_5\"</span>\n",
       "</pre>\n"
      ],
      "text/plain": [
       "\u001b[1mModel: \"sequential_5\"\u001b[0m\n"
      ]
     },
     "metadata": {},
     "output_type": "display_data"
    },
    {
     "data": {
      "text/html": [
       "<pre style=\"white-space:pre;overflow-x:auto;line-height:normal;font-family:Menlo,'DejaVu Sans Mono',consolas,'Courier New',monospace\">┏━━━━━━━━━━━━━━━━━━━━━━━━━━━━━━━━━┳━━━━━━━━━━━━━━━━━━━━━━━━┳━━━━━━━━━━━━━━━┓\n",
       "┃<span style=\"font-weight: bold\"> Layer (type)                    </span>┃<span style=\"font-weight: bold\"> Output Shape           </span>┃<span style=\"font-weight: bold\">       Param # </span>┃\n",
       "┡━━━━━━━━━━━━━━━━━━━━━━━━━━━━━━━━━╇━━━━━━━━━━━━━━━━━━━━━━━━╇━━━━━━━━━━━━━━━┩\n",
       "│ dense_35 (<span style=\"color: #0087ff; text-decoration-color: #0087ff\">Dense</span>)                │ (<span style=\"color: #00d7ff; text-decoration-color: #00d7ff\">None</span>, <span style=\"color: #00af00; text-decoration-color: #00af00\">16</span>)             │           <span style=\"color: #00af00; text-decoration-color: #00af00\">352</span> │\n",
       "├─────────────────────────────────┼────────────────────────┼───────────────┤\n",
       "│ dense_36 (<span style=\"color: #0087ff; text-decoration-color: #0087ff\">Dense</span>)                │ (<span style=\"color: #00d7ff; text-decoration-color: #00d7ff\">None</span>, <span style=\"color: #00af00; text-decoration-color: #00af00\">16</span>)             │           <span style=\"color: #00af00; text-decoration-color: #00af00\">272</span> │\n",
       "├─────────────────────────────────┼────────────────────────┼───────────────┤\n",
       "│ dense_37 (<span style=\"color: #0087ff; text-decoration-color: #0087ff\">Dense</span>)                │ (<span style=\"color: #00d7ff; text-decoration-color: #00d7ff\">None</span>, <span style=\"color: #00af00; text-decoration-color: #00af00\">16</span>)             │           <span style=\"color: #00af00; text-decoration-color: #00af00\">272</span> │\n",
       "├─────────────────────────────────┼────────────────────────┼───────────────┤\n",
       "│ dense_38 (<span style=\"color: #0087ff; text-decoration-color: #0087ff\">Dense</span>)                │ (<span style=\"color: #00d7ff; text-decoration-color: #00d7ff\">None</span>, <span style=\"color: #00af00; text-decoration-color: #00af00\">16</span>)             │           <span style=\"color: #00af00; text-decoration-color: #00af00\">272</span> │\n",
       "├─────────────────────────────────┼────────────────────────┼───────────────┤\n",
       "│ dense_39 (<span style=\"color: #0087ff; text-decoration-color: #0087ff\">Dense</span>)                │ (<span style=\"color: #00d7ff; text-decoration-color: #00d7ff\">None</span>, <span style=\"color: #00af00; text-decoration-color: #00af00\">16</span>)             │           <span style=\"color: #00af00; text-decoration-color: #00af00\">272</span> │\n",
       "├─────────────────────────────────┼────────────────────────┼───────────────┤\n",
       "│ dense_40 (<span style=\"color: #0087ff; text-decoration-color: #0087ff\">Dense</span>)                │ (<span style=\"color: #00d7ff; text-decoration-color: #00d7ff\">None</span>, <span style=\"color: #00af00; text-decoration-color: #00af00\">16</span>)             │           <span style=\"color: #00af00; text-decoration-color: #00af00\">272</span> │\n",
       "├─────────────────────────────────┼────────────────────────┼───────────────┤\n",
       "│ dense_41 (<span style=\"color: #0087ff; text-decoration-color: #0087ff\">Dense</span>)                │ (<span style=\"color: #00d7ff; text-decoration-color: #00d7ff\">None</span>, <span style=\"color: #00af00; text-decoration-color: #00af00\">3</span>)              │            <span style=\"color: #00af00; text-decoration-color: #00af00\">51</span> │\n",
       "└─────────────────────────────────┴────────────────────────┴───────────────┘\n",
       "</pre>\n"
      ],
      "text/plain": [
       "┏━━━━━━━━━━━━━━━━━━━━━━━━━━━━━━━━━┳━━━━━━━━━━━━━━━━━━━━━━━━┳━━━━━━━━━━━━━━━┓\n",
       "┃\u001b[1m \u001b[0m\u001b[1mLayer (type)                   \u001b[0m\u001b[1m \u001b[0m┃\u001b[1m \u001b[0m\u001b[1mOutput Shape          \u001b[0m\u001b[1m \u001b[0m┃\u001b[1m \u001b[0m\u001b[1m      Param #\u001b[0m\u001b[1m \u001b[0m┃\n",
       "┡━━━━━━━━━━━━━━━━━━━━━━━━━━━━━━━━━╇━━━━━━━━━━━━━━━━━━━━━━━━╇━━━━━━━━━━━━━━━┩\n",
       "│ dense_35 (\u001b[38;5;33mDense\u001b[0m)                │ (\u001b[38;5;45mNone\u001b[0m, \u001b[38;5;34m16\u001b[0m)             │           \u001b[38;5;34m352\u001b[0m │\n",
       "├─────────────────────────────────┼────────────────────────┼───────────────┤\n",
       "│ dense_36 (\u001b[38;5;33mDense\u001b[0m)                │ (\u001b[38;5;45mNone\u001b[0m, \u001b[38;5;34m16\u001b[0m)             │           \u001b[38;5;34m272\u001b[0m │\n",
       "├─────────────────────────────────┼────────────────────────┼───────────────┤\n",
       "│ dense_37 (\u001b[38;5;33mDense\u001b[0m)                │ (\u001b[38;5;45mNone\u001b[0m, \u001b[38;5;34m16\u001b[0m)             │           \u001b[38;5;34m272\u001b[0m │\n",
       "├─────────────────────────────────┼────────────────────────┼───────────────┤\n",
       "│ dense_38 (\u001b[38;5;33mDense\u001b[0m)                │ (\u001b[38;5;45mNone\u001b[0m, \u001b[38;5;34m16\u001b[0m)             │           \u001b[38;5;34m272\u001b[0m │\n",
       "├─────────────────────────────────┼────────────────────────┼───────────────┤\n",
       "│ dense_39 (\u001b[38;5;33mDense\u001b[0m)                │ (\u001b[38;5;45mNone\u001b[0m, \u001b[38;5;34m16\u001b[0m)             │           \u001b[38;5;34m272\u001b[0m │\n",
       "├─────────────────────────────────┼────────────────────────┼───────────────┤\n",
       "│ dense_40 (\u001b[38;5;33mDense\u001b[0m)                │ (\u001b[38;5;45mNone\u001b[0m, \u001b[38;5;34m16\u001b[0m)             │           \u001b[38;5;34m272\u001b[0m │\n",
       "├─────────────────────────────────┼────────────────────────┼───────────────┤\n",
       "│ dense_41 (\u001b[38;5;33mDense\u001b[0m)                │ (\u001b[38;5;45mNone\u001b[0m, \u001b[38;5;34m3\u001b[0m)              │            \u001b[38;5;34m51\u001b[0m │\n",
       "└─────────────────────────────────┴────────────────────────┴───────────────┘\n"
      ]
     },
     "metadata": {},
     "output_type": "display_data"
    },
    {
     "data": {
      "text/html": [
       "<pre style=\"white-space:pre;overflow-x:auto;line-height:normal;font-family:Menlo,'DejaVu Sans Mono',consolas,'Courier New',monospace\"><span style=\"font-weight: bold\"> Total params: </span><span style=\"color: #00af00; text-decoration-color: #00af00\">1,763</span> (6.89 KB)\n",
       "</pre>\n"
      ],
      "text/plain": [
       "\u001b[1m Total params: \u001b[0m\u001b[38;5;34m1,763\u001b[0m (6.89 KB)\n"
      ]
     },
     "metadata": {},
     "output_type": "display_data"
    },
    {
     "data": {
      "text/html": [
       "<pre style=\"white-space:pre;overflow-x:auto;line-height:normal;font-family:Menlo,'DejaVu Sans Mono',consolas,'Courier New',monospace\"><span style=\"font-weight: bold\"> Trainable params: </span><span style=\"color: #00af00; text-decoration-color: #00af00\">1,763</span> (6.89 KB)\n",
       "</pre>\n"
      ],
      "text/plain": [
       "\u001b[1m Trainable params: \u001b[0m\u001b[38;5;34m1,763\u001b[0m (6.89 KB)\n"
      ]
     },
     "metadata": {},
     "output_type": "display_data"
    },
    {
     "data": {
      "text/html": [
       "<pre style=\"white-space:pre;overflow-x:auto;line-height:normal;font-family:Menlo,'DejaVu Sans Mono',consolas,'Courier New',monospace\"><span style=\"font-weight: bold\"> Non-trainable params: </span><span style=\"color: #00af00; text-decoration-color: #00af00\">0</span> (0.00 B)\n",
       "</pre>\n"
      ],
      "text/plain": [
       "\u001b[1m Non-trainable params: \u001b[0m\u001b[38;5;34m0\u001b[0m (0.00 B)\n"
      ]
     },
     "metadata": {},
     "output_type": "display_data"
    },
    {
     "name": "stdout",
     "output_type": "stream",
     "text": [
      "Epoch 1/20\n",
      "\u001b[1m5708/5708\u001b[0m \u001b[32m━━━━━━━━━━━━━━━━━━━━\u001b[0m\u001b[37m\u001b[0m \u001b[1m4s\u001b[0m 569us/step - accuracy: 0.8336 - loss: 0.4383 - val_accuracy: 0.8490 - val_loss: 0.3966\n",
      "Epoch 2/20\n",
      "\u001b[1m5708/5708\u001b[0m \u001b[32m━━━━━━━━━━━━━━━━━━━━\u001b[0m\u001b[37m\u001b[0m \u001b[1m3s\u001b[0m 516us/step - accuracy: 0.8456 - loss: 0.4002 - val_accuracy: 0.8500 - val_loss: 0.3982\n",
      "Epoch 3/20\n",
      "\u001b[1m5708/5708\u001b[0m \u001b[32m━━━━━━━━━━━━━━━━━━━━\u001b[0m\u001b[37m\u001b[0m \u001b[1m3s\u001b[0m 516us/step - accuracy: 0.8463 - loss: 0.4002 - val_accuracy: 0.8499 - val_loss: 0.3939\n",
      "Epoch 4/20\n",
      "\u001b[1m5708/5708\u001b[0m \u001b[32m━━━━━━━━━━━━━━━━━━━━\u001b[0m\u001b[37m\u001b[0m \u001b[1m3s\u001b[0m 514us/step - accuracy: 0.8483 - loss: 0.3969 - val_accuracy: 0.8506 - val_loss: 0.3905\n",
      "Epoch 5/20\n",
      "\u001b[1m5708/5708\u001b[0m \u001b[32m━━━━━━━━━━━━━━━━━━━━\u001b[0m\u001b[37m\u001b[0m \u001b[1m3s\u001b[0m 519us/step - accuracy: 0.8475 - loss: 0.3981 - val_accuracy: 0.8504 - val_loss: 0.3898\n",
      "Epoch 6/20\n",
      "\u001b[1m5708/5708\u001b[0m \u001b[32m━━━━━━━━━━━━━━━━━━━━\u001b[0m\u001b[37m\u001b[0m \u001b[1m3s\u001b[0m 514us/step - accuracy: 0.8474 - loss: 0.3986 - val_accuracy: 0.8507 - val_loss: 0.3903\n",
      "Epoch 7/20\n",
      "\u001b[1m5708/5708\u001b[0m \u001b[32m━━━━━━━━━━━━━━━━━━━━\u001b[0m\u001b[37m\u001b[0m \u001b[1m3s\u001b[0m 524us/step - accuracy: 0.8485 - loss: 0.3948 - val_accuracy: 0.8511 - val_loss: 0.3917\n",
      "Epoch 8/20\n",
      "\u001b[1m5708/5708\u001b[0m \u001b[32m━━━━━━━━━━━━━━━━━━━━\u001b[0m\u001b[37m\u001b[0m \u001b[1m3s\u001b[0m 511us/step - accuracy: 0.8468 - loss: 0.3998 - val_accuracy: 0.8513 - val_loss: 0.3902\n",
      "Epoch 9/20\n",
      "\u001b[1m5708/5708\u001b[0m \u001b[32m━━━━━━━━━━━━━━━━━━━━\u001b[0m\u001b[37m\u001b[0m \u001b[1m3s\u001b[0m 542us/step - accuracy: 0.8487 - loss: 0.3951 - val_accuracy: 0.8515 - val_loss: 0.3892\n",
      "Epoch 10/20\n",
      "\u001b[1m5708/5708\u001b[0m \u001b[32m━━━━━━━━━━━━━━━━━━━━\u001b[0m\u001b[37m\u001b[0m \u001b[1m3s\u001b[0m 513us/step - accuracy: 0.8486 - loss: 0.3972 - val_accuracy: 0.8522 - val_loss: 0.3916\n",
      "Epoch 11/20\n",
      "\u001b[1m5708/5708\u001b[0m \u001b[32m━━━━━━━━━━━━━━━━━━━━\u001b[0m\u001b[37m\u001b[0m \u001b[1m3s\u001b[0m 574us/step - accuracy: 0.8488 - loss: 0.3918 - val_accuracy: 0.8512 - val_loss: 0.3894\n",
      "Epoch 12/20\n",
      "\u001b[1m5708/5708\u001b[0m \u001b[32m━━━━━━━━━━━━━━━━━━━━\u001b[0m\u001b[37m\u001b[0m \u001b[1m3s\u001b[0m 590us/step - accuracy: 0.8486 - loss: 0.3951 - val_accuracy: 0.8501 - val_loss: 0.3911\n",
      "Epoch 13/20\n",
      "\u001b[1m5708/5708\u001b[0m \u001b[32m━━━━━━━━━━━━━━━━━━━━\u001b[0m\u001b[37m\u001b[0m \u001b[1m3s\u001b[0m 554us/step - accuracy: 0.8488 - loss: 0.3942 - val_accuracy: 0.8499 - val_loss: 0.3899\n",
      "Epoch 14/20\n",
      "\u001b[1m5708/5708\u001b[0m \u001b[32m━━━━━━━━━━━━━━━━━━━━\u001b[0m\u001b[37m\u001b[0m \u001b[1m3s\u001b[0m 588us/step - accuracy: 0.8497 - loss: 0.3952 - val_accuracy: 0.8521 - val_loss: 0.3905\n",
      "Epoch 15/20\n",
      "\u001b[1m5708/5708\u001b[0m \u001b[32m━━━━━━━━━━━━━━━━━━━━\u001b[0m\u001b[37m\u001b[0m \u001b[1m3s\u001b[0m 603us/step - accuracy: 0.8499 - loss: 0.3941 - val_accuracy: 0.8503 - val_loss: 0.3897\n",
      "Epoch 16/20\n",
      "\u001b[1m5708/5708\u001b[0m \u001b[32m━━━━━━━━━━━━━━━━━━━━\u001b[0m\u001b[37m\u001b[0m \u001b[1m3s\u001b[0m 591us/step - accuracy: 0.8490 - loss: 0.3949 - val_accuracy: 0.8513 - val_loss: 0.3899\n",
      "Epoch 17/20\n",
      "\u001b[1m5708/5708\u001b[0m \u001b[32m━━━━━━━━━━━━━━━━━━━━\u001b[0m\u001b[37m\u001b[0m \u001b[1m3s\u001b[0m 594us/step - accuracy: 0.8514 - loss: 0.3892 - val_accuracy: 0.8514 - val_loss: 0.3907\n",
      "Epoch 18/20\n",
      "\u001b[1m5708/5708\u001b[0m \u001b[32m━━━━━━━━━━━━━━━━━━━━\u001b[0m\u001b[37m\u001b[0m \u001b[1m3s\u001b[0m 567us/step - accuracy: 0.8491 - loss: 0.3945 - val_accuracy: 0.8510 - val_loss: 0.3920\n",
      "Epoch 19/20\n",
      "\u001b[1m5708/5708\u001b[0m \u001b[32m━━━━━━━━━━━━━━━━━━━━\u001b[0m\u001b[37m\u001b[0m \u001b[1m3s\u001b[0m 584us/step - accuracy: 0.8499 - loss: 0.3940 - val_accuracy: 0.8509 - val_loss: 0.3902\n",
      "Epoch 20/20\n",
      "\u001b[1m5708/5708\u001b[0m \u001b[32m━━━━━━━━━━━━━━━━━━━━\u001b[0m\u001b[37m\u001b[0m \u001b[1m3s\u001b[0m 594us/step - accuracy: 0.8489 - loss: 0.3952 - val_accuracy: 0.8508 - val_loss: 0.3917\n",
      "\u001b[1m1586/1586\u001b[0m \u001b[32m━━━━━━━━━━━━━━━━━━━━\u001b[0m\u001b[37m\u001b[0m \u001b[1m0s\u001b[0m 269us/step\n",
      "16 neurons time to train: 64.1s, MSE: 0.5520, R²: -0.1325, ACC: 0.8483\n"
     ]
    }
   ],
   "source": [
    "# Cell 2: 6 layer neural network with 16 neurons\n",
    "#         Build, train & evaluate 8-unit model\n",
    "import time \n",
    "# numpy as np\n",
    "from sklearn.metrics import mean_squared_error, r2_score, accuracy_score\n",
    "\n",
    "model_16_neurons = make_model(16)\n",
    "model_16_neurons.summary()\n",
    "\n",
    "start = time.time()\n",
    "history_16 = model_16_neurons.fit(\n",
    "    X_train_norm, y_train,\n",
    "    epochs=20, batch_size=32,\n",
    "    validation_split=0.1, verbose=1\n",
    ")\n",
    "train_time_16 = time.time() - start\n",
    "\n",
    "y_pred_16 = model_16_neurons.predict(X_test_norm).argmax(axis=1)\n",
    "mse_16 = mean_squared_error(y_test, y_pred_16)\n",
    "r2_16  = r2_score(y_test, y_pred_16)\n",
    "acc_16 = accuracy_score(y_test, y_pred_16)\n",
    "\n",
    "print(f\"16 neurons time to train: {train_time_16:.1f}s, MSE: {mse_16:.4f}, R²: {r2_16:.4f}, ACC: {acc_16:.4f}\")\n"
   ]
  },
  {
   "cell_type": "code",
   "execution_count": null,
   "id": "af11d620",
   "metadata": {},
   "outputs": [
    {
     "data": {
      "text/html": [
       "<pre style=\"white-space:pre;overflow-x:auto;line-height:normal;font-family:Menlo,'DejaVu Sans Mono',consolas,'Courier New',monospace\"><span style=\"font-weight: bold\">Model: \"sequential_6\"</span>\n",
       "</pre>\n"
      ],
      "text/plain": [
       "\u001b[1mModel: \"sequential_6\"\u001b[0m\n"
      ]
     },
     "metadata": {},
     "output_type": "display_data"
    },
    {
     "data": {
      "text/html": [
       "<pre style=\"white-space:pre;overflow-x:auto;line-height:normal;font-family:Menlo,'DejaVu Sans Mono',consolas,'Courier New',monospace\">┏━━━━━━━━━━━━━━━━━━━━━━━━━━━━━━━━━┳━━━━━━━━━━━━━━━━━━━━━━━━┳━━━━━━━━━━━━━━━┓\n",
       "┃<span style=\"font-weight: bold\"> Layer (type)                    </span>┃<span style=\"font-weight: bold\"> Output Shape           </span>┃<span style=\"font-weight: bold\">       Param # </span>┃\n",
       "┡━━━━━━━━━━━━━━━━━━━━━━━━━━━━━━━━━╇━━━━━━━━━━━━━━━━━━━━━━━━╇━━━━━━━━━━━━━━━┩\n",
       "│ dense_42 (<span style=\"color: #0087ff; text-decoration-color: #0087ff\">Dense</span>)                │ (<span style=\"color: #00d7ff; text-decoration-color: #00d7ff\">None</span>, <span style=\"color: #00af00; text-decoration-color: #00af00\">21</span>)             │           <span style=\"color: #00af00; text-decoration-color: #00af00\">462</span> │\n",
       "├─────────────────────────────────┼────────────────────────┼───────────────┤\n",
       "│ dense_43 (<span style=\"color: #0087ff; text-decoration-color: #0087ff\">Dense</span>)                │ (<span style=\"color: #00d7ff; text-decoration-color: #00d7ff\">None</span>, <span style=\"color: #00af00; text-decoration-color: #00af00\">21</span>)             │           <span style=\"color: #00af00; text-decoration-color: #00af00\">462</span> │\n",
       "├─────────────────────────────────┼────────────────────────┼───────────────┤\n",
       "│ dense_44 (<span style=\"color: #0087ff; text-decoration-color: #0087ff\">Dense</span>)                │ (<span style=\"color: #00d7ff; text-decoration-color: #00d7ff\">None</span>, <span style=\"color: #00af00; text-decoration-color: #00af00\">21</span>)             │           <span style=\"color: #00af00; text-decoration-color: #00af00\">462</span> │\n",
       "├─────────────────────────────────┼────────────────────────┼───────────────┤\n",
       "│ dense_45 (<span style=\"color: #0087ff; text-decoration-color: #0087ff\">Dense</span>)                │ (<span style=\"color: #00d7ff; text-decoration-color: #00d7ff\">None</span>, <span style=\"color: #00af00; text-decoration-color: #00af00\">21</span>)             │           <span style=\"color: #00af00; text-decoration-color: #00af00\">462</span> │\n",
       "├─────────────────────────────────┼────────────────────────┼───────────────┤\n",
       "│ dense_46 (<span style=\"color: #0087ff; text-decoration-color: #0087ff\">Dense</span>)                │ (<span style=\"color: #00d7ff; text-decoration-color: #00d7ff\">None</span>, <span style=\"color: #00af00; text-decoration-color: #00af00\">21</span>)             │           <span style=\"color: #00af00; text-decoration-color: #00af00\">462</span> │\n",
       "├─────────────────────────────────┼────────────────────────┼───────────────┤\n",
       "│ dense_47 (<span style=\"color: #0087ff; text-decoration-color: #0087ff\">Dense</span>)                │ (<span style=\"color: #00d7ff; text-decoration-color: #00d7ff\">None</span>, <span style=\"color: #00af00; text-decoration-color: #00af00\">21</span>)             │           <span style=\"color: #00af00; text-decoration-color: #00af00\">462</span> │\n",
       "├─────────────────────────────────┼────────────────────────┼───────────────┤\n",
       "│ dense_48 (<span style=\"color: #0087ff; text-decoration-color: #0087ff\">Dense</span>)                │ (<span style=\"color: #00d7ff; text-decoration-color: #00d7ff\">None</span>, <span style=\"color: #00af00; text-decoration-color: #00af00\">3</span>)              │            <span style=\"color: #00af00; text-decoration-color: #00af00\">66</span> │\n",
       "└─────────────────────────────────┴────────────────────────┴───────────────┘\n",
       "</pre>\n"
      ],
      "text/plain": [
       "┏━━━━━━━━━━━━━━━━━━━━━━━━━━━━━━━━━┳━━━━━━━━━━━━━━━━━━━━━━━━┳━━━━━━━━━━━━━━━┓\n",
       "┃\u001b[1m \u001b[0m\u001b[1mLayer (type)                   \u001b[0m\u001b[1m \u001b[0m┃\u001b[1m \u001b[0m\u001b[1mOutput Shape          \u001b[0m\u001b[1m \u001b[0m┃\u001b[1m \u001b[0m\u001b[1m      Param #\u001b[0m\u001b[1m \u001b[0m┃\n",
       "┡━━━━━━━━━━━━━━━━━━━━━━━━━━━━━━━━━╇━━━━━━━━━━━━━━━━━━━━━━━━╇━━━━━━━━━━━━━━━┩\n",
       "│ dense_42 (\u001b[38;5;33mDense\u001b[0m)                │ (\u001b[38;5;45mNone\u001b[0m, \u001b[38;5;34m21\u001b[0m)             │           \u001b[38;5;34m462\u001b[0m │\n",
       "├─────────────────────────────────┼────────────────────────┼───────────────┤\n",
       "│ dense_43 (\u001b[38;5;33mDense\u001b[0m)                │ (\u001b[38;5;45mNone\u001b[0m, \u001b[38;5;34m21\u001b[0m)             │           \u001b[38;5;34m462\u001b[0m │\n",
       "├─────────────────────────────────┼────────────────────────┼───────────────┤\n",
       "│ dense_44 (\u001b[38;5;33mDense\u001b[0m)                │ (\u001b[38;5;45mNone\u001b[0m, \u001b[38;5;34m21\u001b[0m)             │           \u001b[38;5;34m462\u001b[0m │\n",
       "├─────────────────────────────────┼────────────────────────┼───────────────┤\n",
       "│ dense_45 (\u001b[38;5;33mDense\u001b[0m)                │ (\u001b[38;5;45mNone\u001b[0m, \u001b[38;5;34m21\u001b[0m)             │           \u001b[38;5;34m462\u001b[0m │\n",
       "├─────────────────────────────────┼────────────────────────┼───────────────┤\n",
       "│ dense_46 (\u001b[38;5;33mDense\u001b[0m)                │ (\u001b[38;5;45mNone\u001b[0m, \u001b[38;5;34m21\u001b[0m)             │           \u001b[38;5;34m462\u001b[0m │\n",
       "├─────────────────────────────────┼────────────────────────┼───────────────┤\n",
       "│ dense_47 (\u001b[38;5;33mDense\u001b[0m)                │ (\u001b[38;5;45mNone\u001b[0m, \u001b[38;5;34m21\u001b[0m)             │           \u001b[38;5;34m462\u001b[0m │\n",
       "├─────────────────────────────────┼────────────────────────┼───────────────┤\n",
       "│ dense_48 (\u001b[38;5;33mDense\u001b[0m)                │ (\u001b[38;5;45mNone\u001b[0m, \u001b[38;5;34m3\u001b[0m)              │            \u001b[38;5;34m66\u001b[0m │\n",
       "└─────────────────────────────────┴────────────────────────┴───────────────┘\n"
      ]
     },
     "metadata": {},
     "output_type": "display_data"
    },
    {
     "data": {
      "text/html": [
       "<pre style=\"white-space:pre;overflow-x:auto;line-height:normal;font-family:Menlo,'DejaVu Sans Mono',consolas,'Courier New',monospace\"><span style=\"font-weight: bold\"> Total params: </span><span style=\"color: #00af00; text-decoration-color: #00af00\">2,838</span> (11.09 KB)\n",
       "</pre>\n"
      ],
      "text/plain": [
       "\u001b[1m Total params: \u001b[0m\u001b[38;5;34m2,838\u001b[0m (11.09 KB)\n"
      ]
     },
     "metadata": {},
     "output_type": "display_data"
    },
    {
     "data": {
      "text/html": [
       "<pre style=\"white-space:pre;overflow-x:auto;line-height:normal;font-family:Menlo,'DejaVu Sans Mono',consolas,'Courier New',monospace\"><span style=\"font-weight: bold\"> Trainable params: </span><span style=\"color: #00af00; text-decoration-color: #00af00\">2,838</span> (11.09 KB)\n",
       "</pre>\n"
      ],
      "text/plain": [
       "\u001b[1m Trainable params: \u001b[0m\u001b[38;5;34m2,838\u001b[0m (11.09 KB)\n"
      ]
     },
     "metadata": {},
     "output_type": "display_data"
    },
    {
     "data": {
      "text/html": [
       "<pre style=\"white-space:pre;overflow-x:auto;line-height:normal;font-family:Menlo,'DejaVu Sans Mono',consolas,'Courier New',monospace\"><span style=\"font-weight: bold\"> Non-trainable params: </span><span style=\"color: #00af00; text-decoration-color: #00af00\">0</span> (0.00 B)\n",
       "</pre>\n"
      ],
      "text/plain": [
       "\u001b[1m Non-trainable params: \u001b[0m\u001b[38;5;34m0\u001b[0m (0.00 B)\n"
      ]
     },
     "metadata": {},
     "output_type": "display_data"
    },
    {
     "name": "stdout",
     "output_type": "stream",
     "text": [
      "Epoch 1/20\n",
      "\u001b[1m5708/5708\u001b[0m \u001b[32m━━━━━━━━━━━━━━━━━━━━\u001b[0m\u001b[37m\u001b[0m \u001b[1m4s\u001b[0m 612us/step - accuracy: 0.8415 - loss: 0.4385 - val_accuracy: 0.8490 - val_loss: 0.3969\n",
      "Epoch 2/20\n",
      "\u001b[1m5708/5708\u001b[0m \u001b[32m━━━━━━━━━━━━━━━━━━━━\u001b[0m\u001b[37m\u001b[0m \u001b[1m3s\u001b[0m 553us/step - accuracy: 0.8458 - loss: 0.4024 - val_accuracy: 0.8504 - val_loss: 0.3931\n",
      "Epoch 3/20\n",
      "\u001b[1m5708/5708\u001b[0m \u001b[32m━━━━━━━━━━━━━━━━━━━━\u001b[0m\u001b[37m\u001b[0m \u001b[1m3s\u001b[0m 573us/step - accuracy: 0.8458 - loss: 0.4009 - val_accuracy: 0.8496 - val_loss: 0.3965\n",
      "Epoch 4/20\n",
      "\u001b[1m5708/5708\u001b[0m \u001b[32m━━━━━━━━━━━━━━━━━━━━\u001b[0m\u001b[37m\u001b[0m \u001b[1m3s\u001b[0m 570us/step - accuracy: 0.8475 - loss: 0.3983 - val_accuracy: 0.8521 - val_loss: 0.3906\n",
      "Epoch 5/20\n",
      "\u001b[1m5708/5708\u001b[0m \u001b[32m━━━━━━━━━━━━━━━━━━━━\u001b[0m\u001b[37m\u001b[0m \u001b[1m3s\u001b[0m 559us/step - accuracy: 0.8477 - loss: 0.3977 - val_accuracy: 0.8508 - val_loss: 0.3911\n",
      "Epoch 6/20\n",
      "\u001b[1m5708/5708\u001b[0m \u001b[32m━━━━━━━━━━━━━━━━━━━━\u001b[0m\u001b[37m\u001b[0m \u001b[1m3s\u001b[0m 542us/step - accuracy: 0.8508 - loss: 0.3929 - val_accuracy: 0.8516 - val_loss: 0.3913\n",
      "Epoch 7/20\n",
      "\u001b[1m5708/5708\u001b[0m \u001b[32m━━━━━━━━━━━━━━━━━━━━\u001b[0m\u001b[37m\u001b[0m \u001b[1m3s\u001b[0m 535us/step - accuracy: 0.8478 - loss: 0.3987 - val_accuracy: 0.8510 - val_loss: 0.3913\n",
      "Epoch 8/20\n",
      "\u001b[1m5708/5708\u001b[0m \u001b[32m━━━━━━━━━━━━━━━━━━━━\u001b[0m\u001b[37m\u001b[0m \u001b[1m3s\u001b[0m 519us/step - accuracy: 0.8506 - loss: 0.3906 - val_accuracy: 0.8513 - val_loss: 0.3897\n",
      "Epoch 9/20\n",
      "\u001b[1m5708/5708\u001b[0m \u001b[32m━━━━━━━━━━━━━━━━━━━━\u001b[0m\u001b[37m\u001b[0m \u001b[1m3s\u001b[0m 545us/step - accuracy: 0.8491 - loss: 0.3951 - val_accuracy: 0.8509 - val_loss: 0.3929\n",
      "Epoch 10/20\n",
      "\u001b[1m5708/5708\u001b[0m \u001b[32m━━━━━━━━━━━━━━━━━━━━\u001b[0m\u001b[37m\u001b[0m \u001b[1m3s\u001b[0m 551us/step - accuracy: 0.8486 - loss: 0.3954 - val_accuracy: 0.8503 - val_loss: 0.3904\n",
      "Epoch 11/20\n",
      "\u001b[1m5708/5708\u001b[0m \u001b[32m━━━━━━━━━━━━━━━━━━━━\u001b[0m\u001b[37m\u001b[0m \u001b[1m3s\u001b[0m 527us/step - accuracy: 0.8501 - loss: 0.3916 - val_accuracy: 0.8498 - val_loss: 0.3907\n",
      "Epoch 12/20\n",
      "\u001b[1m5708/5708\u001b[0m \u001b[32m━━━━━━━━━━━━━━━━━━━━\u001b[0m\u001b[37m\u001b[0m \u001b[1m3s\u001b[0m 601us/step - accuracy: 0.8496 - loss: 0.3951 - val_accuracy: 0.8528 - val_loss: 0.3898\n",
      "Epoch 13/20\n",
      "\u001b[1m5708/5708\u001b[0m \u001b[32m━━━━━━━━━━━━━━━━━━━━\u001b[0m\u001b[37m\u001b[0m \u001b[1m3s\u001b[0m 609us/step - accuracy: 0.8502 - loss: 0.3936 - val_accuracy: 0.8525 - val_loss: 0.3888\n",
      "Epoch 14/20\n",
      "\u001b[1m5708/5708\u001b[0m \u001b[32m━━━━━━━━━━━━━━━━━━━━\u001b[0m\u001b[37m\u001b[0m \u001b[1m4s\u001b[0m 639us/step - accuracy: 0.8485 - loss: 0.3951 - val_accuracy: 0.8514 - val_loss: 0.3896\n",
      "Epoch 15/20\n",
      "\u001b[1m5708/5708\u001b[0m \u001b[32m━━━━━━━━━━━━━━━━━━━━\u001b[0m\u001b[37m\u001b[0m \u001b[1m3s\u001b[0m 588us/step - accuracy: 0.8508 - loss: 0.3896 - val_accuracy: 0.8517 - val_loss: 0.3896\n",
      "Epoch 16/20\n",
      "\u001b[1m5708/5708\u001b[0m \u001b[32m━━━━━━━━━━━━━━━━━━━━\u001b[0m\u001b[37m\u001b[0m \u001b[1m3s\u001b[0m 565us/step - accuracy: 0.8513 - loss: 0.3932 - val_accuracy: 0.8522 - val_loss: 0.3882\n",
      "Epoch 17/20\n",
      "\u001b[1m5708/5708\u001b[0m \u001b[32m━━━━━━━━━━━━━━━━━━━━\u001b[0m\u001b[37m\u001b[0m \u001b[1m3s\u001b[0m 611us/step - accuracy: 0.8495 - loss: 0.3939 - val_accuracy: 0.8528 - val_loss: 0.3895\n",
      "Epoch 18/20\n",
      "\u001b[1m5708/5708\u001b[0m \u001b[32m━━━━━━━━━━━━━━━━━━━━\u001b[0m\u001b[37m\u001b[0m \u001b[1m3s\u001b[0m 611us/step - accuracy: 0.8498 - loss: 0.3951 - val_accuracy: 0.8508 - val_loss: 0.3978\n",
      "Epoch 19/20\n",
      "\u001b[1m5708/5708\u001b[0m \u001b[32m━━━━━━━━━━━━━━━━━━━━\u001b[0m\u001b[37m\u001b[0m \u001b[1m3s\u001b[0m 575us/step - accuracy: 0.8489 - loss: 0.3948 - val_accuracy: 0.8521 - val_loss: 0.3899\n",
      "Epoch 20/20\n",
      "\u001b[1m5708/5708\u001b[0m \u001b[32m━━━━━━━━━━━━━━━━━━━━\u001b[0m\u001b[37m\u001b[0m \u001b[1m3s\u001b[0m 553us/step - accuracy: 0.8501 - loss: 0.3935 - val_accuracy: 0.8523 - val_loss: 0.3906\n",
      "\u001b[1m1586/1586\u001b[0m \u001b[32m━━━━━━━━━━━━━━━━━━━━\u001b[0m\u001b[37m\u001b[0m \u001b[1m0s\u001b[0m 295us/step\n",
      "21 neurons time to train: 66.3s, MSE: 0.5520, R²: -0.1325, ACC: 0.8483\n"
     ]
    }
   ],
   "source": [
    "# Cell 2: 6 layer neural network with 21 neurons\n",
    "#         Build, train & evaluate 8-unit model\n",
    "import time \n",
    "# numpy as np\n",
    "from sklearn.metrics import mean_squared_error, r2_score, accuracy_score\n",
    "\n",
    "model_21_neurons = make_model(21)\n",
    "model_21_neurons.summary()\n",
    "\n",
    "start = time.time()\n",
    "history_21 = model_21_neurons.fit(\n",
    "    X_train_norm, y_train,\n",
    "    epochs=20, batch_size=32,\n",
    "    validation_split=0.1, verbose=1\n",
    ")\n",
    "train_time_21 = time.time() - start\n",
    "\n",
    "y_pred_21 = model_16_neurons.predict(X_test_norm).argmax(axis=1)\n",
    "mse_21 = mean_squared_error(y_test, y_pred_16)\n",
    "r2_21  = r2_score(y_test, y_pred_16)\n",
    "acc_21 = accuracy_score(y_test, y_pred_16)\n",
    "\n",
    "print(f\"21 neurons time to train: {train_time_21:.1f}s, MSE: {mse_21:.4f}, R²: {r2_21:.4f}, ACC: {acc_21:.4f}\")\n"
   ]
  },
  {
   "cell_type": "code",
   "execution_count": 12,
   "id": "68a0b179",
   "metadata": {},
   "outputs": [
    {
     "data": {
      "text/html": [
       "<pre style=\"white-space:pre;overflow-x:auto;line-height:normal;font-family:Menlo,'DejaVu Sans Mono',consolas,'Courier New',monospace\"><span style=\"font-weight: bold\">Model: \"sequential_7\"</span>\n",
       "</pre>\n"
      ],
      "text/plain": [
       "\u001b[1mModel: \"sequential_7\"\u001b[0m\n"
      ]
     },
     "metadata": {},
     "output_type": "display_data"
    },
    {
     "data": {
      "text/html": [
       "<pre style=\"white-space:pre;overflow-x:auto;line-height:normal;font-family:Menlo,'DejaVu Sans Mono',consolas,'Courier New',monospace\">┏━━━━━━━━━━━━━━━━━━━━━━━━━━━━━━━━━┳━━━━━━━━━━━━━━━━━━━━━━━━┳━━━━━━━━━━━━━━━┓\n",
       "┃<span style=\"font-weight: bold\"> Layer (type)                    </span>┃<span style=\"font-weight: bold\"> Output Shape           </span>┃<span style=\"font-weight: bold\">       Param # </span>┃\n",
       "┡━━━━━━━━━━━━━━━━━━━━━━━━━━━━━━━━━╇━━━━━━━━━━━━━━━━━━━━━━━━╇━━━━━━━━━━━━━━━┩\n",
       "│ dense_49 (<span style=\"color: #0087ff; text-decoration-color: #0087ff\">Dense</span>)                │ (<span style=\"color: #00d7ff; text-decoration-color: #00d7ff\">None</span>, <span style=\"color: #00af00; text-decoration-color: #00af00\">32</span>)             │           <span style=\"color: #00af00; text-decoration-color: #00af00\">704</span> │\n",
       "├─────────────────────────────────┼────────────────────────┼───────────────┤\n",
       "│ dense_50 (<span style=\"color: #0087ff; text-decoration-color: #0087ff\">Dense</span>)                │ (<span style=\"color: #00d7ff; text-decoration-color: #00d7ff\">None</span>, <span style=\"color: #00af00; text-decoration-color: #00af00\">32</span>)             │         <span style=\"color: #00af00; text-decoration-color: #00af00\">1,056</span> │\n",
       "├─────────────────────────────────┼────────────────────────┼───────────────┤\n",
       "│ dense_51 (<span style=\"color: #0087ff; text-decoration-color: #0087ff\">Dense</span>)                │ (<span style=\"color: #00d7ff; text-decoration-color: #00d7ff\">None</span>, <span style=\"color: #00af00; text-decoration-color: #00af00\">32</span>)             │         <span style=\"color: #00af00; text-decoration-color: #00af00\">1,056</span> │\n",
       "├─────────────────────────────────┼────────────────────────┼───────────────┤\n",
       "│ dense_52 (<span style=\"color: #0087ff; text-decoration-color: #0087ff\">Dense</span>)                │ (<span style=\"color: #00d7ff; text-decoration-color: #00d7ff\">None</span>, <span style=\"color: #00af00; text-decoration-color: #00af00\">32</span>)             │         <span style=\"color: #00af00; text-decoration-color: #00af00\">1,056</span> │\n",
       "├─────────────────────────────────┼────────────────────────┼───────────────┤\n",
       "│ dense_53 (<span style=\"color: #0087ff; text-decoration-color: #0087ff\">Dense</span>)                │ (<span style=\"color: #00d7ff; text-decoration-color: #00d7ff\">None</span>, <span style=\"color: #00af00; text-decoration-color: #00af00\">32</span>)             │         <span style=\"color: #00af00; text-decoration-color: #00af00\">1,056</span> │\n",
       "├─────────────────────────────────┼────────────────────────┼───────────────┤\n",
       "│ dense_54 (<span style=\"color: #0087ff; text-decoration-color: #0087ff\">Dense</span>)                │ (<span style=\"color: #00d7ff; text-decoration-color: #00d7ff\">None</span>, <span style=\"color: #00af00; text-decoration-color: #00af00\">32</span>)             │         <span style=\"color: #00af00; text-decoration-color: #00af00\">1,056</span> │\n",
       "├─────────────────────────────────┼────────────────────────┼───────────────┤\n",
       "│ dense_55 (<span style=\"color: #0087ff; text-decoration-color: #0087ff\">Dense</span>)                │ (<span style=\"color: #00d7ff; text-decoration-color: #00d7ff\">None</span>, <span style=\"color: #00af00; text-decoration-color: #00af00\">3</span>)              │            <span style=\"color: #00af00; text-decoration-color: #00af00\">99</span> │\n",
       "└─────────────────────────────────┴────────────────────────┴───────────────┘\n",
       "</pre>\n"
      ],
      "text/plain": [
       "┏━━━━━━━━━━━━━━━━━━━━━━━━━━━━━━━━━┳━━━━━━━━━━━━━━━━━━━━━━━━┳━━━━━━━━━━━━━━━┓\n",
       "┃\u001b[1m \u001b[0m\u001b[1mLayer (type)                   \u001b[0m\u001b[1m \u001b[0m┃\u001b[1m \u001b[0m\u001b[1mOutput Shape          \u001b[0m\u001b[1m \u001b[0m┃\u001b[1m \u001b[0m\u001b[1m      Param #\u001b[0m\u001b[1m \u001b[0m┃\n",
       "┡━━━━━━━━━━━━━━━━━━━━━━━━━━━━━━━━━╇━━━━━━━━━━━━━━━━━━━━━━━━╇━━━━━━━━━━━━━━━┩\n",
       "│ dense_49 (\u001b[38;5;33mDense\u001b[0m)                │ (\u001b[38;5;45mNone\u001b[0m, \u001b[38;5;34m32\u001b[0m)             │           \u001b[38;5;34m704\u001b[0m │\n",
       "├─────────────────────────────────┼────────────────────────┼───────────────┤\n",
       "│ dense_50 (\u001b[38;5;33mDense\u001b[0m)                │ (\u001b[38;5;45mNone\u001b[0m, \u001b[38;5;34m32\u001b[0m)             │         \u001b[38;5;34m1,056\u001b[0m │\n",
       "├─────────────────────────────────┼────────────────────────┼───────────────┤\n",
       "│ dense_51 (\u001b[38;5;33mDense\u001b[0m)                │ (\u001b[38;5;45mNone\u001b[0m, \u001b[38;5;34m32\u001b[0m)             │         \u001b[38;5;34m1,056\u001b[0m │\n",
       "├─────────────────────────────────┼────────────────────────┼───────────────┤\n",
       "│ dense_52 (\u001b[38;5;33mDense\u001b[0m)                │ (\u001b[38;5;45mNone\u001b[0m, \u001b[38;5;34m32\u001b[0m)             │         \u001b[38;5;34m1,056\u001b[0m │\n",
       "├─────────────────────────────────┼────────────────────────┼───────────────┤\n",
       "│ dense_53 (\u001b[38;5;33mDense\u001b[0m)                │ (\u001b[38;5;45mNone\u001b[0m, \u001b[38;5;34m32\u001b[0m)             │         \u001b[38;5;34m1,056\u001b[0m │\n",
       "├─────────────────────────────────┼────────────────────────┼───────────────┤\n",
       "│ dense_54 (\u001b[38;5;33mDense\u001b[0m)                │ (\u001b[38;5;45mNone\u001b[0m, \u001b[38;5;34m32\u001b[0m)             │         \u001b[38;5;34m1,056\u001b[0m │\n",
       "├─────────────────────────────────┼────────────────────────┼───────────────┤\n",
       "│ dense_55 (\u001b[38;5;33mDense\u001b[0m)                │ (\u001b[38;5;45mNone\u001b[0m, \u001b[38;5;34m3\u001b[0m)              │            \u001b[38;5;34m99\u001b[0m │\n",
       "└─────────────────────────────────┴────────────────────────┴───────────────┘\n"
      ]
     },
     "metadata": {},
     "output_type": "display_data"
    },
    {
     "data": {
      "text/html": [
       "<pre style=\"white-space:pre;overflow-x:auto;line-height:normal;font-family:Menlo,'DejaVu Sans Mono',consolas,'Courier New',monospace\"><span style=\"font-weight: bold\"> Total params: </span><span style=\"color: #00af00; text-decoration-color: #00af00\">6,083</span> (23.76 KB)\n",
       "</pre>\n"
      ],
      "text/plain": [
       "\u001b[1m Total params: \u001b[0m\u001b[38;5;34m6,083\u001b[0m (23.76 KB)\n"
      ]
     },
     "metadata": {},
     "output_type": "display_data"
    },
    {
     "data": {
      "text/html": [
       "<pre style=\"white-space:pre;overflow-x:auto;line-height:normal;font-family:Menlo,'DejaVu Sans Mono',consolas,'Courier New',monospace\"><span style=\"font-weight: bold\"> Trainable params: </span><span style=\"color: #00af00; text-decoration-color: #00af00\">6,083</span> (23.76 KB)\n",
       "</pre>\n"
      ],
      "text/plain": [
       "\u001b[1m Trainable params: \u001b[0m\u001b[38;5;34m6,083\u001b[0m (23.76 KB)\n"
      ]
     },
     "metadata": {},
     "output_type": "display_data"
    },
    {
     "data": {
      "text/html": [
       "<pre style=\"white-space:pre;overflow-x:auto;line-height:normal;font-family:Menlo,'DejaVu Sans Mono',consolas,'Courier New',monospace\"><span style=\"font-weight: bold\"> Non-trainable params: </span><span style=\"color: #00af00; text-decoration-color: #00af00\">0</span> (0.00 B)\n",
       "</pre>\n"
      ],
      "text/plain": [
       "\u001b[1m Non-trainable params: \u001b[0m\u001b[38;5;34m0\u001b[0m (0.00 B)\n"
      ]
     },
     "metadata": {},
     "output_type": "display_data"
    },
    {
     "name": "stdout",
     "output_type": "stream",
     "text": [
      "Epoch 1/20\n",
      "\u001b[1m5708/5708\u001b[0m \u001b[32m━━━━━━━━━━━━━━━━━━━━\u001b[0m\u001b[37m\u001b[0m \u001b[1m4s\u001b[0m 594us/step - accuracy: 0.8399 - loss: 0.4333 - val_accuracy: 0.8499 - val_loss: 0.3937\n",
      "Epoch 2/20\n",
      "\u001b[1m5708/5708\u001b[0m \u001b[32m━━━━━━━━━━━━━━━━━━━━\u001b[0m\u001b[37m\u001b[0m \u001b[1m3s\u001b[0m 534us/step - accuracy: 0.8464 - loss: 0.3998 - val_accuracy: 0.8507 - val_loss: 0.3918\n",
      "Epoch 3/20\n",
      "\u001b[1m5708/5708\u001b[0m \u001b[32m━━━━━━━━━━━━━━━━━━━━\u001b[0m\u001b[37m\u001b[0m \u001b[1m3s\u001b[0m 512us/step - accuracy: 0.8474 - loss: 0.4008 - val_accuracy: 0.8505 - val_loss: 0.3952\n",
      "Epoch 4/20\n",
      "\u001b[1m5708/5708\u001b[0m \u001b[32m━━━━━━━━━━━━━━━━━━━━\u001b[0m\u001b[37m\u001b[0m \u001b[1m3s\u001b[0m 515us/step - accuracy: 0.8471 - loss: 0.3973 - val_accuracy: 0.8502 - val_loss: 0.3905\n",
      "Epoch 5/20\n",
      "\u001b[1m5708/5708\u001b[0m \u001b[32m━━━━━━━━━━━━━━━━━━━━\u001b[0m\u001b[37m\u001b[0m \u001b[1m3s\u001b[0m 522us/step - accuracy: 0.8479 - loss: 0.3974 - val_accuracy: 0.8509 - val_loss: 0.3925\n",
      "Epoch 6/20\n",
      "\u001b[1m5708/5708\u001b[0m \u001b[32m━━━━━━━━━━━━━━━━━━━━\u001b[0m\u001b[37m\u001b[0m \u001b[1m3s\u001b[0m 511us/step - accuracy: 0.8485 - loss: 0.3967 - val_accuracy: 0.8512 - val_loss: 0.3913\n",
      "Epoch 7/20\n",
      "\u001b[1m5708/5708\u001b[0m \u001b[32m━━━━━━━━━━━━━━━━━━━━\u001b[0m\u001b[37m\u001b[0m \u001b[1m3s\u001b[0m 518us/step - accuracy: 0.8490 - loss: 0.3970 - val_accuracy: 0.8508 - val_loss: 0.3900\n",
      "Epoch 8/20\n",
      "\u001b[1m5708/5708\u001b[0m \u001b[32m━━━━━━━━━━━━━━━━━━━━\u001b[0m\u001b[37m\u001b[0m \u001b[1m3s\u001b[0m 520us/step - accuracy: 0.8485 - loss: 0.3960 - val_accuracy: 0.8501 - val_loss: 0.3911\n",
      "Epoch 9/20\n",
      "\u001b[1m5708/5708\u001b[0m \u001b[32m━━━━━━━━━━━━━━━━━━━━\u001b[0m\u001b[37m\u001b[0m \u001b[1m3s\u001b[0m 522us/step - accuracy: 0.8494 - loss: 0.3957 - val_accuracy: 0.8503 - val_loss: 0.3915\n",
      "Epoch 10/20\n",
      "\u001b[1m5708/5708\u001b[0m \u001b[32m━━━━━━━━━━━━━━━━━━━━\u001b[0m\u001b[37m\u001b[0m \u001b[1m3s\u001b[0m 538us/step - accuracy: 0.8488 - loss: 0.3959 - val_accuracy: 0.8510 - val_loss: 0.3906\n",
      "Epoch 11/20\n",
      "\u001b[1m5708/5708\u001b[0m \u001b[32m━━━━━━━━━━━━━━━━━━━━\u001b[0m\u001b[37m\u001b[0m \u001b[1m3s\u001b[0m 594us/step - accuracy: 0.8494 - loss: 0.3937 - val_accuracy: 0.8513 - val_loss: 0.3905\n",
      "Epoch 12/20\n",
      "\u001b[1m5708/5708\u001b[0m \u001b[32m━━━━━━━━━━━━━━━━━━━━\u001b[0m\u001b[37m\u001b[0m \u001b[1m3s\u001b[0m 601us/step - accuracy: 0.8502 - loss: 0.3923 - val_accuracy: 0.8492 - val_loss: 0.3919\n",
      "Epoch 13/20\n",
      "\u001b[1m5708/5708\u001b[0m \u001b[32m━━━━━━━━━━━━━━━━━━━━\u001b[0m\u001b[37m\u001b[0m \u001b[1m3s\u001b[0m 548us/step - accuracy: 0.8492 - loss: 0.3949 - val_accuracy: 0.8513 - val_loss: 0.3919\n",
      "Epoch 14/20\n",
      "\u001b[1m5708/5708\u001b[0m \u001b[32m━━━━━━━━━━━━━━━━━━━━\u001b[0m\u001b[37m\u001b[0m \u001b[1m4s\u001b[0m 653us/step - accuracy: 0.8497 - loss: 0.3930 - val_accuracy: 0.8515 - val_loss: 0.3917\n",
      "Epoch 15/20\n",
      "\u001b[1m5708/5708\u001b[0m \u001b[32m━━━━━━━━━━━━━━━━━━━━\u001b[0m\u001b[37m\u001b[0m \u001b[1m3s\u001b[0m 595us/step - accuracy: 0.8492 - loss: 0.3940 - val_accuracy: 0.8511 - val_loss: 0.3892\n",
      "Epoch 16/20\n",
      "\u001b[1m5708/5708\u001b[0m \u001b[32m━━━━━━━━━━━━━━━━━━━━\u001b[0m\u001b[37m\u001b[0m \u001b[1m3s\u001b[0m 588us/step - accuracy: 0.8495 - loss: 0.3939 - val_accuracy: 0.8499 - val_loss: 0.3911\n",
      "Epoch 17/20\n",
      "\u001b[1m5708/5708\u001b[0m \u001b[32m━━━━━━━━━━━━━━━━━━━━\u001b[0m\u001b[37m\u001b[0m \u001b[1m3s\u001b[0m 581us/step - accuracy: 0.8505 - loss: 0.3906 - val_accuracy: 0.8519 - val_loss: 0.3893\n",
      "Epoch 18/20\n",
      "\u001b[1m5708/5708\u001b[0m \u001b[32m━━━━━━━━━━━━━━━━━━━━\u001b[0m\u001b[37m\u001b[0m \u001b[1m3s\u001b[0m 573us/step - accuracy: 0.8496 - loss: 0.3941 - val_accuracy: 0.8523 - val_loss: 0.3903\n",
      "Epoch 19/20\n",
      "\u001b[1m5708/5708\u001b[0m \u001b[32m━━━━━━━━━━━━━━━━━━━━\u001b[0m\u001b[37m\u001b[0m \u001b[1m4s\u001b[0m 652us/step - accuracy: 0.8505 - loss: 0.3918 - val_accuracy: 0.8523 - val_loss: 0.3891\n",
      "Epoch 20/20\n",
      "\u001b[1m5708/5708\u001b[0m \u001b[32m━━━━━━━━━━━━━━━━━━━━\u001b[0m\u001b[37m\u001b[0m \u001b[1m3s\u001b[0m 607us/step - accuracy: 0.8503 - loss: 0.3934 - val_accuracy: 0.8508 - val_loss: 0.3915\n",
      "\u001b[1m1586/1586\u001b[0m \u001b[32m━━━━━━━━━━━━━━━━━━━━\u001b[0m\u001b[37m\u001b[0m \u001b[1m0s\u001b[0m 249us/step\n",
      "32 neurons time to train: 65.2s, MSE: 0.5537, R²: -0.1359, ACC: 0.8479\n"
     ]
    }
   ],
   "source": [
    "# Cell 2: 6 layer neural network with 32 neurons\n",
    "#         Build, train & evaluate 8-unit model\n",
    "import time \n",
    "# numpy as np\n",
    "from sklearn.metrics import mean_squared_error, r2_score, accuracy_score\n",
    "\n",
    "model_32_neurons = make_model(32)\n",
    "model_32_neurons.summary()\n",
    "\n",
    "start = time.time()\n",
    "history_32 = model_32_neurons.fit(\n",
    "    X_train_norm, y_train,\n",
    "    epochs=20, batch_size=32,\n",
    "    validation_split=0.1, verbose=1\n",
    ")\n",
    "train_time_32 = time.time() - start\n",
    "\n",
    "y_pred_32 = model_32_neurons.predict(X_test_norm).argmax(axis=1)\n",
    "mse_32 = mean_squared_error(y_test, y_pred_32)\n",
    "r2_32  = r2_score(y_test, y_pred_32)\n",
    "acc_32 = accuracy_score(y_test, y_pred_32)\n",
    "\n",
    "print(f\"32 neurons time to train: {train_time_32:.1f}s, MSE: {mse_32:.4f}, R²: {r2_32:.4f}, ACC: {acc_32:.4f}\")\n"
   ]
  },
  {
   "cell_type": "code",
   "execution_count": 15,
   "id": "23280847",
   "metadata": {},
   "outputs": [
    {
     "data": {
      "text/html": [
       "<div>\n",
       "<style scoped>\n",
       "    .dataframe tbody tr th:only-of-type {\n",
       "        vertical-align: middle;\n",
       "    }\n",
       "\n",
       "    .dataframe tbody tr th {\n",
       "        vertical-align: top;\n",
       "    }\n",
       "\n",
       "    .dataframe thead th {\n",
       "        text-align: right;\n",
       "    }\n",
       "</style>\n",
       "<table border=\"1\" class=\"dataframe\">\n",
       "  <thead>\n",
       "    <tr style=\"text-align: right;\">\n",
       "      <th></th>\n",
       "      <th>Units</th>\n",
       "      <th>Time(s)</th>\n",
       "      <th>MSE</th>\n",
       "      <th>R²</th>\n",
       "      <th>Acc</th>\n",
       "    </tr>\n",
       "  </thead>\n",
       "  <tbody>\n",
       "    <tr>\n",
       "      <th>0</th>\n",
       "      <td>8</td>\n",
       "      <td>61.389762</td>\n",
       "      <td>0.552152</td>\n",
       "      <td>-0.132824</td>\n",
       "      <td>0.848273</td>\n",
       "    </tr>\n",
       "    <tr>\n",
       "      <th>1</th>\n",
       "      <td>16</td>\n",
       "      <td>64.077474</td>\n",
       "      <td>0.551995</td>\n",
       "      <td>-0.132500</td>\n",
       "      <td>0.848313</td>\n",
       "    </tr>\n",
       "    <tr>\n",
       "      <th>2</th>\n",
       "      <td>21</td>\n",
       "      <td>66.338796</td>\n",
       "      <td>0.551995</td>\n",
       "      <td>-0.132500</td>\n",
       "      <td>0.848313</td>\n",
       "    </tr>\n",
       "    <tr>\n",
       "      <th>3</th>\n",
       "      <td>32</td>\n",
       "      <td>65.174513</td>\n",
       "      <td>0.553650</td>\n",
       "      <td>-0.135897</td>\n",
       "      <td>0.847899</td>\n",
       "    </tr>\n",
       "  </tbody>\n",
       "</table>\n",
       "</div>"
      ],
      "text/plain": [
       "   Units    Time(s)       MSE        R²       Acc\n",
       "0      8  61.389762  0.552152 -0.132824  0.848273\n",
       "1     16  64.077474  0.551995 -0.132500  0.848313\n",
       "2     21  66.338796  0.551995 -0.132500  0.848313\n",
       "3     32  65.174513  0.553650 -0.135897  0.847899"
      ]
     },
     "metadata": {},
     "output_type": "display_data"
    }
   ],
   "source": [
    "# Table of results\n",
    "import pandas as pd\n",
    "\n",
    "results = [\n",
    "    (8,  train_time_8,  mse_8,  r2_8,  acc_8),\n",
    "    (16, train_time_16, mse_16, r2_16, acc_16),\n",
    "    (21, train_time_21, mse_21, r2_21, acc_21),\n",
    "    (32, train_time_32, mse_32, r2_32, acc_32),\n",
    "]\n",
    "df = pd.DataFrame(results, columns=['Units','Time(s)','MSE','R²','Acc'])\n",
    "display(df)\n"
   ]
  }
 ],
 "metadata": {
  "kernelspec": {
   "display_name": "venv310",
   "language": "python",
   "name": "python3"
  },
  "language_info": {
   "codemirror_mode": {
    "name": "ipython",
    "version": 3
   },
   "file_extension": ".py",
   "mimetype": "text/x-python",
   "name": "python",
   "nbconvert_exporter": "python",
   "pygments_lexer": "ipython3",
   "version": "3.10.16"
  }
 },
 "nbformat": 4,
 "nbformat_minor": 5
}
