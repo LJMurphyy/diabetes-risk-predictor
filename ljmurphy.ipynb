{
 "cells": [
  {
   "cell_type": "markdown",
   "id": "c44f1834",
   "metadata": {},
   "source": [
    "## Data Inspection"
   ]
  },
  {
   "cell_type": "code",
   "execution_count": 10,
   "id": "be5bd003",
   "metadata": {},
   "outputs": [],
   "source": [
    "# import pandas as pd\n",
    "\n",
    "# df = pd.read_csv('diabetes_012_health_indicators_BRFSS2015.csv')\n",
    "# print(df.shape)\n",
    "# print(df.columns)\n",
    "# print(df.info())\n",
    "# print(df.describe())\n"
   ]
  },
  {
   "cell_type": "code",
   "execution_count": 11,
   "id": "2f5e1929",
   "metadata": {},
   "outputs": [],
   "source": [
    "# # Binary Target\n",
    "# df['Diabetes_binary'] = df['Diabetes_012'].apply(lambda x: 1 if x > 0 else 0)\n"
   ]
  },
  {
   "cell_type": "code",
   "execution_count": 12,
   "id": "775ab326",
   "metadata": {},
   "outputs": [],
   "source": [
    "# import matplotlib.pyplot as plt\n",
    "\n",
    "# df['Diabetes_binary'].value_counts(normalize=True).plot(kind='bar')\n",
    "# plt.xticks([0, 1], ['No Diabetes', 'Prediabetes/Diabetes'], rotation=0)\n",
    "# plt.title('Class Distribution')\n",
    "# plt.ylabel('Proportion')\n",
    "# plt.show()\n"
   ]
  },
  {
   "cell_type": "code",
   "execution_count": 13,
   "id": "76465eb7",
   "metadata": {},
   "outputs": [],
   "source": [
    "# import seaborn as sns\n",
    "\n",
    "# correlations = df.corr()['Diabetes_binary'].sort_values(ascending=False)\n",
    "# print(correlations.head(10))\n",
    "\n",
    "# top_corr_features = correlations[1:11].index\n",
    "# sns.heatmap(df[top_corr_features].corr(), annot=True, cmap='coolwarm')\n",
    "# plt.title('Heatmap of Top Correlated Features')\n",
    "# plt.show()\n"
   ]
  },
  {
   "cell_type": "code",
   "execution_count": 14,
   "id": "8ba52f75",
   "metadata": {},
   "outputs": [],
   "source": [
    "# # Correct numerical features\n",
    "# num_features = ['BMI', 'PhysHlth', 'MentHlth', 'GenHlth']\n",
    "\n",
    "# for feature in num_features:\n",
    "#     sns.boxplot(x='Diabetes_binary', y=feature, data=df)\n",
    "#     plt.title(f'{feature} vs Diabetes_binary')\n",
    "#     plt.xticks([0, 1], ['No Diabetes', 'Prediabetes/Diabetes'])\n",
    "#     plt.show()\n"
   ]
  },
  {
   "cell_type": "code",
   "execution_count": 15,
   "id": "940adae2",
   "metadata": {},
   "outputs": [],
   "source": [
    "# cat_features = ['HighBP', 'HighChol', 'Smoker', 'PhysActivity', 'DiffWalk', 'Sex', 'Age', 'Education', 'Income']\n",
    "\n",
    "# for feature in cat_features:\n",
    "#     sns.countplot(x=feature, hue='Diabetes_binary', data=df)\n",
    "#     plt.title(f'{feature} Distribution by Diabetes Status')\n",
    "#     plt.legend(title='Diabetes', labels=['No', 'Yes'])\n",
    "#     plt.show()\n"
   ]
  },
  {
   "cell_type": "code",
   "execution_count": 16,
   "id": "5c3254ca",
   "metadata": {},
   "outputs": [],
   "source": [
    "# from sklearn.feature_selection import SelectKBest, f_classif\n",
    "\n",
    "# X = df.drop(columns=['Diabetes_012', 'Diabetes_binary'])\n",
    "# y = df['Diabetes_binary']\n",
    "\n",
    "# selector = SelectKBest(score_func=f_classif, k=10)\n",
    "# selector.fit(X, y)\n",
    "\n",
    "# scores = pd.DataFrame({\n",
    "#     'Feature': X.columns,\n",
    "#     'F-Score': selector.scores_\n",
    "# }).sort_values(by='F-Score', ascending=False)\n",
    "\n",
    "# print(scores)\n"
   ]
  },
  {
   "cell_type": "code",
   "execution_count": 17,
   "id": "c0f4a811",
   "metadata": {},
   "outputs": [],
   "source": [
    "# # BMI vs. Diabetes by HighBP & HighChol\n",
    "# g = sns.FacetGrid(df, col='HighBP', row='HighChol', hue='Diabetes_binary', margin_titles=True)\n",
    "# g.map_dataframe(sns.kdeplot, x='BMI', fill=True)\n",
    "# g.add_legend()\n",
    "# plt.show()\n"
   ]
  },
  {
   "cell_type": "markdown",
   "id": "907f267c",
   "metadata": {},
   "source": [
    "## Neural Network 2: 6-Layer with 8, 16, 21, 32 Neurons (UNCLEANED)\n",
    "\n",
    "---"
   ]
  },
  {
   "cell_type": "code",
   "execution_count": 21,
   "id": "62f7da86",
   "metadata": {},
   "outputs": [],
   "source": [
    "# ─── Cell 1: Model factory ────────────────────────────────────────────────────────────────────\n",
    "from tensorflow.keras import Input\n",
    "from tensorflow.keras.models import Sequential\n",
    "from tensorflow.keras.layers import Dense\n",
    "from tensorflow.keras.optimizers import Adam\n",
    "\n",
    "# after you’ve created X_train_norm elsewhere...\n",
    "n_features = X_train_norm.shape[1]\n",
    "\n",
    "def make_model(units):\n",
    "    # Returns a compiled 6-layer neural network with `units` neurons per hidden layer\n",
    "    model = Sequential([\n",
    "        Input(shape=(n_features,)),        # ← dynamic feature count\n",
    "        Dense(units, activation='relu'),\n",
    "        Dense(units, activation='relu'),\n",
    "        Dense(units, activation='relu'),\n",
    "        Dense(units, activation='relu'),\n",
    "        Dense(units, activation='relu'),\n",
    "        Dense(units, activation='relu'),\n",
    "        Dense(3, activation='softmax')     # 3 output classes\n",
    "    ])\n",
    "\n",
    "    model.compile(\n",
    "        optimizer=Adam(),\n",
    "        loss='sparse_categorical_crossentropy',\n",
    "        metrics=['accuracy']\n",
    "    )\n",
    "    return model\n"
   ]
  },
  {
   "cell_type": "code",
   "execution_count": 22,
   "id": "de029d25",
   "metadata": {},
   "outputs": [
    {
     "name": "stdout",
     "output_type": "stream",
     "text": [
      "(202944, 21) (202944,)\n",
      "(50736, 21) (50736,)\n",
      "0.0 1.0000000000000002\n"
     ]
    }
   ],
   "source": [
    "# Cell 1: Load & Normalize the Data\n",
    "import pandas as pd\n",
    "from sklearn.model_selection import train_test_split\n",
    "from sklearn.preprocessing import MinMaxScaler\n",
    "\n",
    "# 1. Load the Kaggle CSV (adjust path as needed)\n",
    "df = pd.read_csv('diabetes_012_health_indicators_BRFSS2015.csv')\n",
    "\n",
    "# 2. Split into features (X) and target (y)\n",
    "X = df.drop('Diabetes_012', axis=1).values\n",
    "y = df['Diabetes_012'].values\n",
    "\n",
    "# 3. Train/test split (stratify to keep class proportions)\n",
    "X_train, X_test, y_train, y_test = train_test_split(\n",
    "    X, y,\n",
    "    test_size=0.2,\n",
    "    random_state=42,\n",
    "    stratify=y\n",
    ")\n",
    "\n",
    "# 4. Apply Min–Max normalization so all features lie in [0,1]\n",
    "scaler = MinMaxScaler()\n",
    "X_train_norm = scaler.fit_transform(X_train)\n",
    "X_test_norm  = scaler.transform(X_test)\n",
    "\n",
    "# Now X_train_norm and X_test_norm are ready for your network.\n",
    "print(X_train_norm.shape, y_train.shape)  # should be (202944, 21), (202944,)\n",
    "print(X_test_norm.shape,  y_test.shape)   # should be (50736, 21), (50736,)\n",
    "print(X_train_norm.min(), X_train_norm.max())  # should be 0.0, 1.0"
   ]
  },
  {
   "cell_type": "code",
   "execution_count": 23,
   "id": "384a846d",
   "metadata": {},
   "outputs": [
    {
     "data": {
      "text/html": [
       "<pre style=\"white-space:pre;overflow-x:auto;line-height:normal;font-family:Menlo,'DejaVu Sans Mono',consolas,'Courier New',monospace\"><span style=\"font-weight: bold\">Model: \"sequential\"</span>\n",
       "</pre>\n"
      ],
      "text/plain": [
       "\u001b[1mModel: \"sequential\"\u001b[0m\n"
      ]
     },
     "metadata": {},
     "output_type": "display_data"
    },
    {
     "data": {
      "text/html": [
       "<pre style=\"white-space:pre;overflow-x:auto;line-height:normal;font-family:Menlo,'DejaVu Sans Mono',consolas,'Courier New',monospace\">┏━━━━━━━━━━━━━━━━━━━━━━━━━━━━━━━━━┳━━━━━━━━━━━━━━━━━━━━━━━━┳━━━━━━━━━━━━━━━┓\n",
       "┃<span style=\"font-weight: bold\"> Layer (type)                    </span>┃<span style=\"font-weight: bold\"> Output Shape           </span>┃<span style=\"font-weight: bold\">       Param # </span>┃\n",
       "┡━━━━━━━━━━━━━━━━━━━━━━━━━━━━━━━━━╇━━━━━━━━━━━━━━━━━━━━━━━━╇━━━━━━━━━━━━━━━┩\n",
       "│ dense (<span style=\"color: #0087ff; text-decoration-color: #0087ff\">Dense</span>)                   │ (<span style=\"color: #00d7ff; text-decoration-color: #00d7ff\">None</span>, <span style=\"color: #00af00; text-decoration-color: #00af00\">8</span>)              │           <span style=\"color: #00af00; text-decoration-color: #00af00\">176</span> │\n",
       "├─────────────────────────────────┼────────────────────────┼───────────────┤\n",
       "│ dense_1 (<span style=\"color: #0087ff; text-decoration-color: #0087ff\">Dense</span>)                 │ (<span style=\"color: #00d7ff; text-decoration-color: #00d7ff\">None</span>, <span style=\"color: #00af00; text-decoration-color: #00af00\">8</span>)              │            <span style=\"color: #00af00; text-decoration-color: #00af00\">72</span> │\n",
       "├─────────────────────────────────┼────────────────────────┼───────────────┤\n",
       "│ dense_2 (<span style=\"color: #0087ff; text-decoration-color: #0087ff\">Dense</span>)                 │ (<span style=\"color: #00d7ff; text-decoration-color: #00d7ff\">None</span>, <span style=\"color: #00af00; text-decoration-color: #00af00\">8</span>)              │            <span style=\"color: #00af00; text-decoration-color: #00af00\">72</span> │\n",
       "├─────────────────────────────────┼────────────────────────┼───────────────┤\n",
       "│ dense_3 (<span style=\"color: #0087ff; text-decoration-color: #0087ff\">Dense</span>)                 │ (<span style=\"color: #00d7ff; text-decoration-color: #00d7ff\">None</span>, <span style=\"color: #00af00; text-decoration-color: #00af00\">8</span>)              │            <span style=\"color: #00af00; text-decoration-color: #00af00\">72</span> │\n",
       "├─────────────────────────────────┼────────────────────────┼───────────────┤\n",
       "│ dense_4 (<span style=\"color: #0087ff; text-decoration-color: #0087ff\">Dense</span>)                 │ (<span style=\"color: #00d7ff; text-decoration-color: #00d7ff\">None</span>, <span style=\"color: #00af00; text-decoration-color: #00af00\">8</span>)              │            <span style=\"color: #00af00; text-decoration-color: #00af00\">72</span> │\n",
       "├─────────────────────────────────┼────────────────────────┼───────────────┤\n",
       "│ dense_5 (<span style=\"color: #0087ff; text-decoration-color: #0087ff\">Dense</span>)                 │ (<span style=\"color: #00d7ff; text-decoration-color: #00d7ff\">None</span>, <span style=\"color: #00af00; text-decoration-color: #00af00\">8</span>)              │            <span style=\"color: #00af00; text-decoration-color: #00af00\">72</span> │\n",
       "├─────────────────────────────────┼────────────────────────┼───────────────┤\n",
       "│ dense_6 (<span style=\"color: #0087ff; text-decoration-color: #0087ff\">Dense</span>)                 │ (<span style=\"color: #00d7ff; text-decoration-color: #00d7ff\">None</span>, <span style=\"color: #00af00; text-decoration-color: #00af00\">3</span>)              │            <span style=\"color: #00af00; text-decoration-color: #00af00\">27</span> │\n",
       "└─────────────────────────────────┴────────────────────────┴───────────────┘\n",
       "</pre>\n"
      ],
      "text/plain": [
       "┏━━━━━━━━━━━━━━━━━━━━━━━━━━━━━━━━━┳━━━━━━━━━━━━━━━━━━━━━━━━┳━━━━━━━━━━━━━━━┓\n",
       "┃\u001b[1m \u001b[0m\u001b[1mLayer (type)                   \u001b[0m\u001b[1m \u001b[0m┃\u001b[1m \u001b[0m\u001b[1mOutput Shape          \u001b[0m\u001b[1m \u001b[0m┃\u001b[1m \u001b[0m\u001b[1m      Param #\u001b[0m\u001b[1m \u001b[0m┃\n",
       "┡━━━━━━━━━━━━━━━━━━━━━━━━━━━━━━━━━╇━━━━━━━━━━━━━━━━━━━━━━━━╇━━━━━━━━━━━━━━━┩\n",
       "│ dense (\u001b[38;5;33mDense\u001b[0m)                   │ (\u001b[38;5;45mNone\u001b[0m, \u001b[38;5;34m8\u001b[0m)              │           \u001b[38;5;34m176\u001b[0m │\n",
       "├─────────────────────────────────┼────────────────────────┼───────────────┤\n",
       "│ dense_1 (\u001b[38;5;33mDense\u001b[0m)                 │ (\u001b[38;5;45mNone\u001b[0m, \u001b[38;5;34m8\u001b[0m)              │            \u001b[38;5;34m72\u001b[0m │\n",
       "├─────────────────────────────────┼────────────────────────┼───────────────┤\n",
       "│ dense_2 (\u001b[38;5;33mDense\u001b[0m)                 │ (\u001b[38;5;45mNone\u001b[0m, \u001b[38;5;34m8\u001b[0m)              │            \u001b[38;5;34m72\u001b[0m │\n",
       "├─────────────────────────────────┼────────────────────────┼───────────────┤\n",
       "│ dense_3 (\u001b[38;5;33mDense\u001b[0m)                 │ (\u001b[38;5;45mNone\u001b[0m, \u001b[38;5;34m8\u001b[0m)              │            \u001b[38;5;34m72\u001b[0m │\n",
       "├─────────────────────────────────┼────────────────────────┼───────────────┤\n",
       "│ dense_4 (\u001b[38;5;33mDense\u001b[0m)                 │ (\u001b[38;5;45mNone\u001b[0m, \u001b[38;5;34m8\u001b[0m)              │            \u001b[38;5;34m72\u001b[0m │\n",
       "├─────────────────────────────────┼────────────────────────┼───────────────┤\n",
       "│ dense_5 (\u001b[38;5;33mDense\u001b[0m)                 │ (\u001b[38;5;45mNone\u001b[0m, \u001b[38;5;34m8\u001b[0m)              │            \u001b[38;5;34m72\u001b[0m │\n",
       "├─────────────────────────────────┼────────────────────────┼───────────────┤\n",
       "│ dense_6 (\u001b[38;5;33mDense\u001b[0m)                 │ (\u001b[38;5;45mNone\u001b[0m, \u001b[38;5;34m3\u001b[0m)              │            \u001b[38;5;34m27\u001b[0m │\n",
       "└─────────────────────────────────┴────────────────────────┴───────────────┘\n"
      ]
     },
     "metadata": {},
     "output_type": "display_data"
    },
    {
     "data": {
      "text/html": [
       "<pre style=\"white-space:pre;overflow-x:auto;line-height:normal;font-family:Menlo,'DejaVu Sans Mono',consolas,'Courier New',monospace\"><span style=\"font-weight: bold\"> Total params: </span><span style=\"color: #00af00; text-decoration-color: #00af00\">563</span> (2.20 KB)\n",
       "</pre>\n"
      ],
      "text/plain": [
       "\u001b[1m Total params: \u001b[0m\u001b[38;5;34m563\u001b[0m (2.20 KB)\n"
      ]
     },
     "metadata": {},
     "output_type": "display_data"
    },
    {
     "data": {
      "text/html": [
       "<pre style=\"white-space:pre;overflow-x:auto;line-height:normal;font-family:Menlo,'DejaVu Sans Mono',consolas,'Courier New',monospace\"><span style=\"font-weight: bold\"> Trainable params: </span><span style=\"color: #00af00; text-decoration-color: #00af00\">563</span> (2.20 KB)\n",
       "</pre>\n"
      ],
      "text/plain": [
       "\u001b[1m Trainable params: \u001b[0m\u001b[38;5;34m563\u001b[0m (2.20 KB)\n"
      ]
     },
     "metadata": {},
     "output_type": "display_data"
    },
    {
     "data": {
      "text/html": [
       "<pre style=\"white-space:pre;overflow-x:auto;line-height:normal;font-family:Menlo,'DejaVu Sans Mono',consolas,'Courier New',monospace\"><span style=\"font-weight: bold\"> Non-trainable params: </span><span style=\"color: #00af00; text-decoration-color: #00af00\">0</span> (0.00 B)\n",
       "</pre>\n"
      ],
      "text/plain": [
       "\u001b[1m Non-trainable params: \u001b[0m\u001b[38;5;34m0\u001b[0m (0.00 B)\n"
      ]
     },
     "metadata": {},
     "output_type": "display_data"
    },
    {
     "name": "stdout",
     "output_type": "stream",
     "text": [
      "Epoch 1/20\n",
      "\u001b[1m5708/5708\u001b[0m \u001b[32m━━━━━━━━━━━━━━━━━━━━\u001b[0m\u001b[37m\u001b[0m \u001b[1m4s\u001b[0m 557us/step - accuracy: 0.8249 - loss: 0.4826 - val_accuracy: 0.8481 - val_loss: 0.3978\n",
      "Epoch 2/20\n",
      "\u001b[1m5708/5708\u001b[0m \u001b[32m━━━━━━━━━━━━━━━━━━━━\u001b[0m\u001b[37m\u001b[0m \u001b[1m3s\u001b[0m 537us/step - accuracy: 0.8446 - loss: 0.4047 - val_accuracy: 0.8495 - val_loss: 0.3933\n",
      "Epoch 3/20\n",
      "\u001b[1m5708/5708\u001b[0m \u001b[32m━━━━━━━━━━━━━━━━━━━━\u001b[0m\u001b[37m\u001b[0m \u001b[1m3s\u001b[0m 528us/step - accuracy: 0.8457 - loss: 0.4022 - val_accuracy: 0.8484 - val_loss: 0.3920\n",
      "Epoch 4/20\n",
      "\u001b[1m5708/5708\u001b[0m \u001b[32m━━━━━━━━━━━━━━━━━━━━\u001b[0m\u001b[37m\u001b[0m \u001b[1m3s\u001b[0m 550us/step - accuracy: 0.8476 - loss: 0.3980 - val_accuracy: 0.8501 - val_loss: 0.3911\n",
      "Epoch 5/20\n",
      "\u001b[1m5708/5708\u001b[0m \u001b[32m━━━━━━━━━━━━━━━━━━━━\u001b[0m\u001b[37m\u001b[0m \u001b[1m3s\u001b[0m 536us/step - accuracy: 0.8468 - loss: 0.4000 - val_accuracy: 0.8503 - val_loss: 0.3915\n",
      "Epoch 6/20\n",
      "\u001b[1m5708/5708\u001b[0m \u001b[32m━━━━━━━━━━━━━━━━━━━━\u001b[0m\u001b[37m\u001b[0m \u001b[1m3s\u001b[0m 537us/step - accuracy: 0.8469 - loss: 0.4005 - val_accuracy: 0.8500 - val_loss: 0.3943\n",
      "Epoch 7/20\n",
      "\u001b[1m5708/5708\u001b[0m \u001b[32m━━━━━━━━━━━━━━━━━━━━\u001b[0m\u001b[37m\u001b[0m \u001b[1m3s\u001b[0m 527us/step - accuracy: 0.8482 - loss: 0.3956 - val_accuracy: 0.8502 - val_loss: 0.3903\n",
      "Epoch 8/20\n",
      "\u001b[1m5708/5708\u001b[0m \u001b[32m━━━━━━━━━━━━━━━━━━━━\u001b[0m\u001b[37m\u001b[0m \u001b[1m3s\u001b[0m 518us/step - accuracy: 0.8484 - loss: 0.3954 - val_accuracy: 0.8500 - val_loss: 0.3903\n",
      "Epoch 9/20\n",
      "\u001b[1m5708/5708\u001b[0m \u001b[32m━━━━━━━━━━━━━━━━━━━━\u001b[0m\u001b[37m\u001b[0m \u001b[1m3s\u001b[0m 534us/step - accuracy: 0.8478 - loss: 0.3967 - val_accuracy: 0.8505 - val_loss: 0.3897\n",
      "Epoch 10/20\n",
      "\u001b[1m5708/5708\u001b[0m \u001b[32m━━━━━━━━━━━━━━━━━━━━\u001b[0m\u001b[37m\u001b[0m \u001b[1m3s\u001b[0m 545us/step - accuracy: 0.8483 - loss: 0.3970 - val_accuracy: 0.8504 - val_loss: 0.3905\n",
      "Epoch 11/20\n",
      "\u001b[1m5708/5708\u001b[0m \u001b[32m━━━━━━━━━━━━━━━━━━━━\u001b[0m\u001b[37m\u001b[0m \u001b[1m3s\u001b[0m 540us/step - accuracy: 0.8484 - loss: 0.3938 - val_accuracy: 0.8502 - val_loss: 0.3905\n",
      "Epoch 12/20\n",
      "\u001b[1m5708/5708\u001b[0m \u001b[32m━━━━━━━━━━━━━━━━━━━━\u001b[0m\u001b[37m\u001b[0m \u001b[1m3s\u001b[0m 529us/step - accuracy: 0.8474 - loss: 0.3973 - val_accuracy: 0.8502 - val_loss: 0.3908\n",
      "Epoch 13/20\n",
      "\u001b[1m5708/5708\u001b[0m \u001b[32m━━━━━━━━━━━━━━━━━━━━\u001b[0m\u001b[37m\u001b[0m \u001b[1m3s\u001b[0m 529us/step - accuracy: 0.8487 - loss: 0.3954 - val_accuracy: 0.8518 - val_loss: 0.3893\n",
      "Epoch 14/20\n",
      "\u001b[1m5708/5708\u001b[0m \u001b[32m━━━━━━━━━━━━━━━━━━━━\u001b[0m\u001b[37m\u001b[0m \u001b[1m3s\u001b[0m 514us/step - accuracy: 0.8501 - loss: 0.3926 - val_accuracy: 0.8508 - val_loss: 0.3901\n",
      "Epoch 15/20\n",
      "\u001b[1m5708/5708\u001b[0m \u001b[32m━━━━━━━━━━━━━━━━━━━━\u001b[0m\u001b[37m\u001b[0m \u001b[1m3s\u001b[0m 543us/step - accuracy: 0.8492 - loss: 0.3945 - val_accuracy: 0.8508 - val_loss: 0.3896\n",
      "Epoch 16/20\n",
      "\u001b[1m5708/5708\u001b[0m \u001b[32m━━━━━━━━━━━━━━━━━━━━\u001b[0m\u001b[37m\u001b[0m \u001b[1m3s\u001b[0m 545us/step - accuracy: 0.8491 - loss: 0.3957 - val_accuracy: 0.8506 - val_loss: 0.3919\n",
      "Epoch 17/20\n",
      "\u001b[1m5708/5708\u001b[0m \u001b[32m━━━━━━━━━━━━━━━━━━━━\u001b[0m\u001b[37m\u001b[0m \u001b[1m3s\u001b[0m 523us/step - accuracy: 0.8493 - loss: 0.3944 - val_accuracy: 0.8503 - val_loss: 0.3896\n",
      "Epoch 18/20\n",
      "\u001b[1m5708/5708\u001b[0m \u001b[32m━━━━━━━━━━━━━━━━━━━━\u001b[0m\u001b[37m\u001b[0m \u001b[1m3s\u001b[0m 537us/step - accuracy: 0.8491 - loss: 0.3971 - val_accuracy: 0.8517 - val_loss: 0.3890\n",
      "Epoch 19/20\n",
      "\u001b[1m5708/5708\u001b[0m \u001b[32m━━━━━━━━━━━━━━━━━━━━\u001b[0m\u001b[37m\u001b[0m \u001b[1m3s\u001b[0m 545us/step - accuracy: 0.8484 - loss: 0.3954 - val_accuracy: 0.8515 - val_loss: 0.3888\n",
      "Epoch 20/20\n",
      "\u001b[1m5708/5708\u001b[0m \u001b[32m━━━━━━━━━━━━━━━━━━━━\u001b[0m\u001b[37m\u001b[0m \u001b[1m3s\u001b[0m 526us/step - accuracy: 0.8498 - loss: 0.3919 - val_accuracy: 0.8509 - val_loss: 0.3891\n",
      "\u001b[1m1586/1586\u001b[0m \u001b[32m━━━━━━━━━━━━━━━━━━━━\u001b[0m\u001b[37m\u001b[0m \u001b[1m0s\u001b[0m 249us/step\n",
      "8 neurons time to train: 61.9s, MSE: 0.5513, R²: -0.1310, ACC: 0.8485\n"
     ]
    }
   ],
   "source": [
    "# Cell 2: 6 layer neural network with 8 neurons\n",
    "#         Build, train & evaluate 8-unit model\n",
    "import time \n",
    "# numpy as np\n",
    "from sklearn.metrics import mean_squared_error, r2_score, accuracy_score\n",
    "\n",
    "model_8_neurons = make_model(8)\n",
    "model_8_neurons.summary()\n",
    "\n",
    "start = time.time()\n",
    "history_8 = model_8_neurons.fit(\n",
    "    X_train_norm, y_train,\n",
    "    epochs=20, batch_size=32,\n",
    "    validation_split=0.1, verbose=1\n",
    ")\n",
    "train_time_8 = time.time() - start\n",
    "\n",
    "y_pred_8 = model_8_neurons.predict(X_test_norm).argmax(axis=1)\n",
    "mse_8 = mean_squared_error(y_test, y_pred_8)\n",
    "r2_8  = r2_score(y_test, y_pred_8)\n",
    "acc_8 = accuracy_score(y_test, y_pred_8)\n",
    "\n",
    "print(f\"8 neurons time to train: {train_time_8:.1f}s, MSE: {mse_8:.4f}, R²: {r2_8:.4f}, ACC: {acc_8:.4f}\")\n"
   ]
  },
  {
   "cell_type": "code",
   "execution_count": 24,
   "id": "92381e22",
   "metadata": {},
   "outputs": [
    {
     "data": {
      "text/html": [
       "<pre style=\"white-space:pre;overflow-x:auto;line-height:normal;font-family:Menlo,'DejaVu Sans Mono',consolas,'Courier New',monospace\"><span style=\"font-weight: bold\">Model: \"sequential_1\"</span>\n",
       "</pre>\n"
      ],
      "text/plain": [
       "\u001b[1mModel: \"sequential_1\"\u001b[0m\n"
      ]
     },
     "metadata": {},
     "output_type": "display_data"
    },
    {
     "data": {
      "text/html": [
       "<pre style=\"white-space:pre;overflow-x:auto;line-height:normal;font-family:Menlo,'DejaVu Sans Mono',consolas,'Courier New',monospace\">┏━━━━━━━━━━━━━━━━━━━━━━━━━━━━━━━━━┳━━━━━━━━━━━━━━━━━━━━━━━━┳━━━━━━━━━━━━━━━┓\n",
       "┃<span style=\"font-weight: bold\"> Layer (type)                    </span>┃<span style=\"font-weight: bold\"> Output Shape           </span>┃<span style=\"font-weight: bold\">       Param # </span>┃\n",
       "┡━━━━━━━━━━━━━━━━━━━━━━━━━━━━━━━━━╇━━━━━━━━━━━━━━━━━━━━━━━━╇━━━━━━━━━━━━━━━┩\n",
       "│ dense_7 (<span style=\"color: #0087ff; text-decoration-color: #0087ff\">Dense</span>)                 │ (<span style=\"color: #00d7ff; text-decoration-color: #00d7ff\">None</span>, <span style=\"color: #00af00; text-decoration-color: #00af00\">16</span>)             │           <span style=\"color: #00af00; text-decoration-color: #00af00\">352</span> │\n",
       "├─────────────────────────────────┼────────────────────────┼───────────────┤\n",
       "│ dense_8 (<span style=\"color: #0087ff; text-decoration-color: #0087ff\">Dense</span>)                 │ (<span style=\"color: #00d7ff; text-decoration-color: #00d7ff\">None</span>, <span style=\"color: #00af00; text-decoration-color: #00af00\">16</span>)             │           <span style=\"color: #00af00; text-decoration-color: #00af00\">272</span> │\n",
       "├─────────────────────────────────┼────────────────────────┼───────────────┤\n",
       "│ dense_9 (<span style=\"color: #0087ff; text-decoration-color: #0087ff\">Dense</span>)                 │ (<span style=\"color: #00d7ff; text-decoration-color: #00d7ff\">None</span>, <span style=\"color: #00af00; text-decoration-color: #00af00\">16</span>)             │           <span style=\"color: #00af00; text-decoration-color: #00af00\">272</span> │\n",
       "├─────────────────────────────────┼────────────────────────┼───────────────┤\n",
       "│ dense_10 (<span style=\"color: #0087ff; text-decoration-color: #0087ff\">Dense</span>)                │ (<span style=\"color: #00d7ff; text-decoration-color: #00d7ff\">None</span>, <span style=\"color: #00af00; text-decoration-color: #00af00\">16</span>)             │           <span style=\"color: #00af00; text-decoration-color: #00af00\">272</span> │\n",
       "├─────────────────────────────────┼────────────────────────┼───────────────┤\n",
       "│ dense_11 (<span style=\"color: #0087ff; text-decoration-color: #0087ff\">Dense</span>)                │ (<span style=\"color: #00d7ff; text-decoration-color: #00d7ff\">None</span>, <span style=\"color: #00af00; text-decoration-color: #00af00\">16</span>)             │           <span style=\"color: #00af00; text-decoration-color: #00af00\">272</span> │\n",
       "├─────────────────────────────────┼────────────────────────┼───────────────┤\n",
       "│ dense_12 (<span style=\"color: #0087ff; text-decoration-color: #0087ff\">Dense</span>)                │ (<span style=\"color: #00d7ff; text-decoration-color: #00d7ff\">None</span>, <span style=\"color: #00af00; text-decoration-color: #00af00\">16</span>)             │           <span style=\"color: #00af00; text-decoration-color: #00af00\">272</span> │\n",
       "├─────────────────────────────────┼────────────────────────┼───────────────┤\n",
       "│ dense_13 (<span style=\"color: #0087ff; text-decoration-color: #0087ff\">Dense</span>)                │ (<span style=\"color: #00d7ff; text-decoration-color: #00d7ff\">None</span>, <span style=\"color: #00af00; text-decoration-color: #00af00\">3</span>)              │            <span style=\"color: #00af00; text-decoration-color: #00af00\">51</span> │\n",
       "└─────────────────────────────────┴────────────────────────┴───────────────┘\n",
       "</pre>\n"
      ],
      "text/plain": [
       "┏━━━━━━━━━━━━━━━━━━━━━━━━━━━━━━━━━┳━━━━━━━━━━━━━━━━━━━━━━━━┳━━━━━━━━━━━━━━━┓\n",
       "┃\u001b[1m \u001b[0m\u001b[1mLayer (type)                   \u001b[0m\u001b[1m \u001b[0m┃\u001b[1m \u001b[0m\u001b[1mOutput Shape          \u001b[0m\u001b[1m \u001b[0m┃\u001b[1m \u001b[0m\u001b[1m      Param #\u001b[0m\u001b[1m \u001b[0m┃\n",
       "┡━━━━━━━━━━━━━━━━━━━━━━━━━━━━━━━━━╇━━━━━━━━━━━━━━━━━━━━━━━━╇━━━━━━━━━━━━━━━┩\n",
       "│ dense_7 (\u001b[38;5;33mDense\u001b[0m)                 │ (\u001b[38;5;45mNone\u001b[0m, \u001b[38;5;34m16\u001b[0m)             │           \u001b[38;5;34m352\u001b[0m │\n",
       "├─────────────────────────────────┼────────────────────────┼───────────────┤\n",
       "│ dense_8 (\u001b[38;5;33mDense\u001b[0m)                 │ (\u001b[38;5;45mNone\u001b[0m, \u001b[38;5;34m16\u001b[0m)             │           \u001b[38;5;34m272\u001b[0m │\n",
       "├─────────────────────────────────┼────────────────────────┼───────────────┤\n",
       "│ dense_9 (\u001b[38;5;33mDense\u001b[0m)                 │ (\u001b[38;5;45mNone\u001b[0m, \u001b[38;5;34m16\u001b[0m)             │           \u001b[38;5;34m272\u001b[0m │\n",
       "├─────────────────────────────────┼────────────────────────┼───────────────┤\n",
       "│ dense_10 (\u001b[38;5;33mDense\u001b[0m)                │ (\u001b[38;5;45mNone\u001b[0m, \u001b[38;5;34m16\u001b[0m)             │           \u001b[38;5;34m272\u001b[0m │\n",
       "├─────────────────────────────────┼────────────────────────┼───────────────┤\n",
       "│ dense_11 (\u001b[38;5;33mDense\u001b[0m)                │ (\u001b[38;5;45mNone\u001b[0m, \u001b[38;5;34m16\u001b[0m)             │           \u001b[38;5;34m272\u001b[0m │\n",
       "├─────────────────────────────────┼────────────────────────┼───────────────┤\n",
       "│ dense_12 (\u001b[38;5;33mDense\u001b[0m)                │ (\u001b[38;5;45mNone\u001b[0m, \u001b[38;5;34m16\u001b[0m)             │           \u001b[38;5;34m272\u001b[0m │\n",
       "├─────────────────────────────────┼────────────────────────┼───────────────┤\n",
       "│ dense_13 (\u001b[38;5;33mDense\u001b[0m)                │ (\u001b[38;5;45mNone\u001b[0m, \u001b[38;5;34m3\u001b[0m)              │            \u001b[38;5;34m51\u001b[0m │\n",
       "└─────────────────────────────────┴────────────────────────┴───────────────┘\n"
      ]
     },
     "metadata": {},
     "output_type": "display_data"
    },
    {
     "data": {
      "text/html": [
       "<pre style=\"white-space:pre;overflow-x:auto;line-height:normal;font-family:Menlo,'DejaVu Sans Mono',consolas,'Courier New',monospace\"><span style=\"font-weight: bold\"> Total params: </span><span style=\"color: #00af00; text-decoration-color: #00af00\">1,763</span> (6.89 KB)\n",
       "</pre>\n"
      ],
      "text/plain": [
       "\u001b[1m Total params: \u001b[0m\u001b[38;5;34m1,763\u001b[0m (6.89 KB)\n"
      ]
     },
     "metadata": {},
     "output_type": "display_data"
    },
    {
     "data": {
      "text/html": [
       "<pre style=\"white-space:pre;overflow-x:auto;line-height:normal;font-family:Menlo,'DejaVu Sans Mono',consolas,'Courier New',monospace\"><span style=\"font-weight: bold\"> Trainable params: </span><span style=\"color: #00af00; text-decoration-color: #00af00\">1,763</span> (6.89 KB)\n",
       "</pre>\n"
      ],
      "text/plain": [
       "\u001b[1m Trainable params: \u001b[0m\u001b[38;5;34m1,763\u001b[0m (6.89 KB)\n"
      ]
     },
     "metadata": {},
     "output_type": "display_data"
    },
    {
     "data": {
      "text/html": [
       "<pre style=\"white-space:pre;overflow-x:auto;line-height:normal;font-family:Menlo,'DejaVu Sans Mono',consolas,'Courier New',monospace\"><span style=\"font-weight: bold\"> Non-trainable params: </span><span style=\"color: #00af00; text-decoration-color: #00af00\">0</span> (0.00 B)\n",
       "</pre>\n"
      ],
      "text/plain": [
       "\u001b[1m Non-trainable params: \u001b[0m\u001b[38;5;34m0\u001b[0m (0.00 B)\n"
      ]
     },
     "metadata": {},
     "output_type": "display_data"
    },
    {
     "name": "stdout",
     "output_type": "stream",
     "text": [
      "Epoch 1/20\n",
      "\u001b[1m5708/5708\u001b[0m \u001b[32m━━━━━━━━━━━━━━━━━━━━\u001b[0m\u001b[37m\u001b[0m \u001b[1m4s\u001b[0m 562us/step - accuracy: 0.8370 - loss: 0.4414 - val_accuracy: 0.8483 - val_loss: 0.3973\n",
      "Epoch 2/20\n",
      "\u001b[1m5708/5708\u001b[0m \u001b[32m━━━━━━━━━━━━━━━━━━━━\u001b[0m\u001b[37m\u001b[0m \u001b[1m3s\u001b[0m 565us/step - accuracy: 0.8442 - loss: 0.4043 - val_accuracy: 0.8486 - val_loss: 0.3926\n",
      "Epoch 3/20\n",
      "\u001b[1m5708/5708\u001b[0m \u001b[32m━━━━━━━━━━━━━━━━━━━━\u001b[0m\u001b[37m\u001b[0m \u001b[1m3s\u001b[0m 595us/step - accuracy: 0.8464 - loss: 0.4012 - val_accuracy: 0.8484 - val_loss: 0.3931\n",
      "Epoch 4/20\n",
      "\u001b[1m5708/5708\u001b[0m \u001b[32m━━━━━━━━━━━━━━━━━━━━\u001b[0m\u001b[37m\u001b[0m \u001b[1m3s\u001b[0m 598us/step - accuracy: 0.8458 - loss: 0.4004 - val_accuracy: 0.8505 - val_loss: 0.3926\n",
      "Epoch 5/20\n",
      "\u001b[1m5708/5708\u001b[0m \u001b[32m━━━━━━━━━━━━━━━━━━━━\u001b[0m\u001b[37m\u001b[0m \u001b[1m3s\u001b[0m 563us/step - accuracy: 0.8452 - loss: 0.3998 - val_accuracy: 0.8511 - val_loss: 0.3917\n",
      "Epoch 6/20\n",
      "\u001b[1m5708/5708\u001b[0m \u001b[32m━━━━━━━━━━━━━━━━━━━━\u001b[0m\u001b[37m\u001b[0m \u001b[1m3s\u001b[0m 576us/step - accuracy: 0.8489 - loss: 0.3959 - val_accuracy: 0.8418 - val_loss: 0.3993\n",
      "Epoch 7/20\n",
      "\u001b[1m5708/5708\u001b[0m \u001b[32m━━━━━━━━━━━━━━━━━━━━\u001b[0m\u001b[37m\u001b[0m \u001b[1m3s\u001b[0m 602us/step - accuracy: 0.8489 - loss: 0.3956 - val_accuracy: 0.8500 - val_loss: 0.3946\n",
      "Epoch 8/20\n",
      "\u001b[1m5708/5708\u001b[0m \u001b[32m━━━━━━━━━━━━━━━━━━━━\u001b[0m\u001b[37m\u001b[0m \u001b[1m4s\u001b[0m 635us/step - accuracy: 0.8487 - loss: 0.3939 - val_accuracy: 0.8501 - val_loss: 0.3920\n",
      "Epoch 9/20\n",
      "\u001b[1m5708/5708\u001b[0m \u001b[32m━━━━━━━━━━━━━━━━━━━━\u001b[0m\u001b[37m\u001b[0m \u001b[1m3s\u001b[0m 582us/step - accuracy: 0.8496 - loss: 0.3947 - val_accuracy: 0.8509 - val_loss: 0.3899\n",
      "Epoch 10/20\n",
      "\u001b[1m5708/5708\u001b[0m \u001b[32m━━━━━━━━━━━━━━━━━━━━\u001b[0m\u001b[37m\u001b[0m \u001b[1m3s\u001b[0m 575us/step - accuracy: 0.8496 - loss: 0.3957 - val_accuracy: 0.8507 - val_loss: 0.3889\n",
      "Epoch 11/20\n",
      "\u001b[1m5708/5708\u001b[0m \u001b[32m━━━━━━━━━━━━━━━━━━━━\u001b[0m\u001b[37m\u001b[0m \u001b[1m3s\u001b[0m 580us/step - accuracy: 0.8474 - loss: 0.3973 - val_accuracy: 0.8501 - val_loss: 0.3897\n",
      "Epoch 12/20\n",
      "\u001b[1m5708/5708\u001b[0m \u001b[32m━━━━━━━━━━━━━━━━━━━━\u001b[0m\u001b[37m\u001b[0m \u001b[1m3s\u001b[0m 601us/step - accuracy: 0.8493 - loss: 0.3935 - val_accuracy: 0.8509 - val_loss: 0.3888\n",
      "Epoch 13/20\n",
      "\u001b[1m5708/5708\u001b[0m \u001b[32m━━━━━━━━━━━━━━━━━━━━\u001b[0m\u001b[37m\u001b[0m \u001b[1m3s\u001b[0m 579us/step - accuracy: 0.8510 - loss: 0.3914 - val_accuracy: 0.8507 - val_loss: 0.3896\n",
      "Epoch 14/20\n",
      "\u001b[1m5708/5708\u001b[0m \u001b[32m━━━━━━━━━━━━━━━━━━━━\u001b[0m\u001b[37m\u001b[0m \u001b[1m3s\u001b[0m 583us/step - accuracy: 0.8490 - loss: 0.3943 - val_accuracy: 0.8506 - val_loss: 0.3904\n",
      "Epoch 15/20\n",
      "\u001b[1m5708/5708\u001b[0m \u001b[32m━━━━━━━━━━━━━━━━━━━━\u001b[0m\u001b[37m\u001b[0m \u001b[1m3s\u001b[0m 595us/step - accuracy: 0.8485 - loss: 0.3962 - val_accuracy: 0.8513 - val_loss: 0.3902\n",
      "Epoch 16/20\n",
      "\u001b[1m5708/5708\u001b[0m \u001b[32m━━━━━━━━━━━━━━━━━━━━\u001b[0m\u001b[37m\u001b[0m \u001b[1m4s\u001b[0m 614us/step - accuracy: 0.8499 - loss: 0.3912 - val_accuracy: 0.8511 - val_loss: 0.3904\n",
      "Epoch 17/20\n",
      "\u001b[1m5708/5708\u001b[0m \u001b[32m━━━━━━━━━━━━━━━━━━━━\u001b[0m\u001b[37m\u001b[0m \u001b[1m3s\u001b[0m 593us/step - accuracy: 0.8484 - loss: 0.3950 - val_accuracy: 0.8508 - val_loss: 0.3894\n",
      "Epoch 18/20\n",
      "\u001b[1m5708/5708\u001b[0m \u001b[32m━━━━━━━━━━━━━━━━━━━━\u001b[0m\u001b[37m\u001b[0m \u001b[1m3s\u001b[0m 570us/step - accuracy: 0.8503 - loss: 0.3927 - val_accuracy: 0.8501 - val_loss: 0.3891\n",
      "Epoch 19/20\n",
      "\u001b[1m5708/5708\u001b[0m \u001b[32m━━━━━━━━━━━━━━━━━━━━\u001b[0m\u001b[37m\u001b[0m \u001b[1m3s\u001b[0m 593us/step - accuracy: 0.8495 - loss: 0.3928 - val_accuracy: 0.8520 - val_loss: 0.3898\n",
      "Epoch 20/20\n",
      "\u001b[1m5708/5708\u001b[0m \u001b[32m━━━━━━━━━━━━━━━━━━━━\u001b[0m\u001b[37m\u001b[0m \u001b[1m3s\u001b[0m 579us/step - accuracy: 0.8502 - loss: 0.3917 - val_accuracy: 0.8502 - val_loss: 0.3956\n",
      "\u001b[1m1586/1586\u001b[0m \u001b[32m━━━━━━━━━━━━━━━━━━━━\u001b[0m\u001b[37m\u001b[0m \u001b[1m0s\u001b[0m 253us/step\n",
      "16 neurons time to train: 67.8s, MSE: 0.5630, R²: -0.1550, ACC: 0.8456\n"
     ]
    }
   ],
   "source": [
    "# Cell 2: 6 layer neural network with 16 neurons\n",
    "#         Build, train & evaluate 8-unit model\n",
    "import time \n",
    "# numpy as np\n",
    "from sklearn.metrics import mean_squared_error, r2_score, accuracy_score\n",
    "\n",
    "model_16_neurons = make_model(16)\n",
    "model_16_neurons.summary()\n",
    "\n",
    "start = time.time()\n",
    "history_16 = model_16_neurons.fit(\n",
    "    X_train_norm, y_train,\n",
    "    epochs=20, batch_size=32,\n",
    "    validation_split=0.1, verbose=1\n",
    ")\n",
    "train_time_16 = time.time() - start\n",
    "\n",
    "y_pred_16 = model_16_neurons.predict(X_test_norm).argmax(axis=1)\n",
    "mse_16 = mean_squared_error(y_test, y_pred_16)\n",
    "r2_16  = r2_score(y_test, y_pred_16)\n",
    "acc_16 = accuracy_score(y_test, y_pred_16)\n",
    "\n",
    "print(f\"16 neurons time to train: {train_time_16:.1f}s, MSE: {mse_16:.4f}, R²: {r2_16:.4f}, ACC: {acc_16:.4f}\")\n"
   ]
  },
  {
   "cell_type": "code",
   "execution_count": 25,
   "id": "af11d620",
   "metadata": {},
   "outputs": [
    {
     "data": {
      "text/html": [
       "<pre style=\"white-space:pre;overflow-x:auto;line-height:normal;font-family:Menlo,'DejaVu Sans Mono',consolas,'Courier New',monospace\"><span style=\"font-weight: bold\">Model: \"sequential_2\"</span>\n",
       "</pre>\n"
      ],
      "text/plain": [
       "\u001b[1mModel: \"sequential_2\"\u001b[0m\n"
      ]
     },
     "metadata": {},
     "output_type": "display_data"
    },
    {
     "data": {
      "text/html": [
       "<pre style=\"white-space:pre;overflow-x:auto;line-height:normal;font-family:Menlo,'DejaVu Sans Mono',consolas,'Courier New',monospace\">┏━━━━━━━━━━━━━━━━━━━━━━━━━━━━━━━━━┳━━━━━━━━━━━━━━━━━━━━━━━━┳━━━━━━━━━━━━━━━┓\n",
       "┃<span style=\"font-weight: bold\"> Layer (type)                    </span>┃<span style=\"font-weight: bold\"> Output Shape           </span>┃<span style=\"font-weight: bold\">       Param # </span>┃\n",
       "┡━━━━━━━━━━━━━━━━━━━━━━━━━━━━━━━━━╇━━━━━━━━━━━━━━━━━━━━━━━━╇━━━━━━━━━━━━━━━┩\n",
       "│ dense_14 (<span style=\"color: #0087ff; text-decoration-color: #0087ff\">Dense</span>)                │ (<span style=\"color: #00d7ff; text-decoration-color: #00d7ff\">None</span>, <span style=\"color: #00af00; text-decoration-color: #00af00\">21</span>)             │           <span style=\"color: #00af00; text-decoration-color: #00af00\">462</span> │\n",
       "├─────────────────────────────────┼────────────────────────┼───────────────┤\n",
       "│ dense_15 (<span style=\"color: #0087ff; text-decoration-color: #0087ff\">Dense</span>)                │ (<span style=\"color: #00d7ff; text-decoration-color: #00d7ff\">None</span>, <span style=\"color: #00af00; text-decoration-color: #00af00\">21</span>)             │           <span style=\"color: #00af00; text-decoration-color: #00af00\">462</span> │\n",
       "├─────────────────────────────────┼────────────────────────┼───────────────┤\n",
       "│ dense_16 (<span style=\"color: #0087ff; text-decoration-color: #0087ff\">Dense</span>)                │ (<span style=\"color: #00d7ff; text-decoration-color: #00d7ff\">None</span>, <span style=\"color: #00af00; text-decoration-color: #00af00\">21</span>)             │           <span style=\"color: #00af00; text-decoration-color: #00af00\">462</span> │\n",
       "├─────────────────────────────────┼────────────────────────┼───────────────┤\n",
       "│ dense_17 (<span style=\"color: #0087ff; text-decoration-color: #0087ff\">Dense</span>)                │ (<span style=\"color: #00d7ff; text-decoration-color: #00d7ff\">None</span>, <span style=\"color: #00af00; text-decoration-color: #00af00\">21</span>)             │           <span style=\"color: #00af00; text-decoration-color: #00af00\">462</span> │\n",
       "├─────────────────────────────────┼────────────────────────┼───────────────┤\n",
       "│ dense_18 (<span style=\"color: #0087ff; text-decoration-color: #0087ff\">Dense</span>)                │ (<span style=\"color: #00d7ff; text-decoration-color: #00d7ff\">None</span>, <span style=\"color: #00af00; text-decoration-color: #00af00\">21</span>)             │           <span style=\"color: #00af00; text-decoration-color: #00af00\">462</span> │\n",
       "├─────────────────────────────────┼────────────────────────┼───────────────┤\n",
       "│ dense_19 (<span style=\"color: #0087ff; text-decoration-color: #0087ff\">Dense</span>)                │ (<span style=\"color: #00d7ff; text-decoration-color: #00d7ff\">None</span>, <span style=\"color: #00af00; text-decoration-color: #00af00\">21</span>)             │           <span style=\"color: #00af00; text-decoration-color: #00af00\">462</span> │\n",
       "├─────────────────────────────────┼────────────────────────┼───────────────┤\n",
       "│ dense_20 (<span style=\"color: #0087ff; text-decoration-color: #0087ff\">Dense</span>)                │ (<span style=\"color: #00d7ff; text-decoration-color: #00d7ff\">None</span>, <span style=\"color: #00af00; text-decoration-color: #00af00\">3</span>)              │            <span style=\"color: #00af00; text-decoration-color: #00af00\">66</span> │\n",
       "└─────────────────────────────────┴────────────────────────┴───────────────┘\n",
       "</pre>\n"
      ],
      "text/plain": [
       "┏━━━━━━━━━━━━━━━━━━━━━━━━━━━━━━━━━┳━━━━━━━━━━━━━━━━━━━━━━━━┳━━━━━━━━━━━━━━━┓\n",
       "┃\u001b[1m \u001b[0m\u001b[1mLayer (type)                   \u001b[0m\u001b[1m \u001b[0m┃\u001b[1m \u001b[0m\u001b[1mOutput Shape          \u001b[0m\u001b[1m \u001b[0m┃\u001b[1m \u001b[0m\u001b[1m      Param #\u001b[0m\u001b[1m \u001b[0m┃\n",
       "┡━━━━━━━━━━━━━━━━━━━━━━━━━━━━━━━━━╇━━━━━━━━━━━━━━━━━━━━━━━━╇━━━━━━━━━━━━━━━┩\n",
       "│ dense_14 (\u001b[38;5;33mDense\u001b[0m)                │ (\u001b[38;5;45mNone\u001b[0m, \u001b[38;5;34m21\u001b[0m)             │           \u001b[38;5;34m462\u001b[0m │\n",
       "├─────────────────────────────────┼────────────────────────┼───────────────┤\n",
       "│ dense_15 (\u001b[38;5;33mDense\u001b[0m)                │ (\u001b[38;5;45mNone\u001b[0m, \u001b[38;5;34m21\u001b[0m)             │           \u001b[38;5;34m462\u001b[0m │\n",
       "├─────────────────────────────────┼────────────────────────┼───────────────┤\n",
       "│ dense_16 (\u001b[38;5;33mDense\u001b[0m)                │ (\u001b[38;5;45mNone\u001b[0m, \u001b[38;5;34m21\u001b[0m)             │           \u001b[38;5;34m462\u001b[0m │\n",
       "├─────────────────────────────────┼────────────────────────┼───────────────┤\n",
       "│ dense_17 (\u001b[38;5;33mDense\u001b[0m)                │ (\u001b[38;5;45mNone\u001b[0m, \u001b[38;5;34m21\u001b[0m)             │           \u001b[38;5;34m462\u001b[0m │\n",
       "├─────────────────────────────────┼────────────────────────┼───────────────┤\n",
       "│ dense_18 (\u001b[38;5;33mDense\u001b[0m)                │ (\u001b[38;5;45mNone\u001b[0m, \u001b[38;5;34m21\u001b[0m)             │           \u001b[38;5;34m462\u001b[0m │\n",
       "├─────────────────────────────────┼────────────────────────┼───────────────┤\n",
       "│ dense_19 (\u001b[38;5;33mDense\u001b[0m)                │ (\u001b[38;5;45mNone\u001b[0m, \u001b[38;5;34m21\u001b[0m)             │           \u001b[38;5;34m462\u001b[0m │\n",
       "├─────────────────────────────────┼────────────────────────┼───────────────┤\n",
       "│ dense_20 (\u001b[38;5;33mDense\u001b[0m)                │ (\u001b[38;5;45mNone\u001b[0m, \u001b[38;5;34m3\u001b[0m)              │            \u001b[38;5;34m66\u001b[0m │\n",
       "└─────────────────────────────────┴────────────────────────┴───────────────┘\n"
      ]
     },
     "metadata": {},
     "output_type": "display_data"
    },
    {
     "data": {
      "text/html": [
       "<pre style=\"white-space:pre;overflow-x:auto;line-height:normal;font-family:Menlo,'DejaVu Sans Mono',consolas,'Courier New',monospace\"><span style=\"font-weight: bold\"> Total params: </span><span style=\"color: #00af00; text-decoration-color: #00af00\">2,838</span> (11.09 KB)\n",
       "</pre>\n"
      ],
      "text/plain": [
       "\u001b[1m Total params: \u001b[0m\u001b[38;5;34m2,838\u001b[0m (11.09 KB)\n"
      ]
     },
     "metadata": {},
     "output_type": "display_data"
    },
    {
     "data": {
      "text/html": [
       "<pre style=\"white-space:pre;overflow-x:auto;line-height:normal;font-family:Menlo,'DejaVu Sans Mono',consolas,'Courier New',monospace\"><span style=\"font-weight: bold\"> Trainable params: </span><span style=\"color: #00af00; text-decoration-color: #00af00\">2,838</span> (11.09 KB)\n",
       "</pre>\n"
      ],
      "text/plain": [
       "\u001b[1m Trainable params: \u001b[0m\u001b[38;5;34m2,838\u001b[0m (11.09 KB)\n"
      ]
     },
     "metadata": {},
     "output_type": "display_data"
    },
    {
     "data": {
      "text/html": [
       "<pre style=\"white-space:pre;overflow-x:auto;line-height:normal;font-family:Menlo,'DejaVu Sans Mono',consolas,'Courier New',monospace\"><span style=\"font-weight: bold\"> Non-trainable params: </span><span style=\"color: #00af00; text-decoration-color: #00af00\">0</span> (0.00 B)\n",
       "</pre>\n"
      ],
      "text/plain": [
       "\u001b[1m Non-trainable params: \u001b[0m\u001b[38;5;34m0\u001b[0m (0.00 B)\n"
      ]
     },
     "metadata": {},
     "output_type": "display_data"
    },
    {
     "name": "stdout",
     "output_type": "stream",
     "text": [
      "Epoch 1/20\n",
      "\u001b[1m5708/5708\u001b[0m \u001b[32m━━━━━━━━━━━━━━━━━━━━\u001b[0m\u001b[37m\u001b[0m \u001b[1m4s\u001b[0m 576us/step - accuracy: 0.8356 - loss: 0.4446 - val_accuracy: 0.8470 - val_loss: 0.3966\n",
      "Epoch 2/20\n",
      "\u001b[1m5708/5708\u001b[0m \u001b[32m━━━━━━━━━━━━━━━━━━━━\u001b[0m\u001b[37m\u001b[0m \u001b[1m3s\u001b[0m 550us/step - accuracy: 0.8460 - loss: 0.4011 - val_accuracy: 0.8509 - val_loss: 0.3930\n",
      "Epoch 3/20\n",
      "\u001b[1m5708/5708\u001b[0m \u001b[32m━━━━━━━━━━━━━━━━━━━━\u001b[0m\u001b[37m\u001b[0m \u001b[1m3s\u001b[0m 586us/step - accuracy: 0.8482 - loss: 0.3984 - val_accuracy: 0.8504 - val_loss: 0.3904\n",
      "Epoch 4/20\n",
      "\u001b[1m5708/5708\u001b[0m \u001b[32m━━━━━━━━━━━━━━━━━━━━\u001b[0m\u001b[37m\u001b[0m \u001b[1m3s\u001b[0m 559us/step - accuracy: 0.8490 - loss: 0.3961 - val_accuracy: 0.8512 - val_loss: 0.3930\n",
      "Epoch 5/20\n",
      "\u001b[1m5708/5708\u001b[0m \u001b[32m━━━━━━━━━━━━━━━━━━━━\u001b[0m\u001b[37m\u001b[0m \u001b[1m3s\u001b[0m 574us/step - accuracy: 0.8485 - loss: 0.3967 - val_accuracy: 0.8504 - val_loss: 0.3913\n",
      "Epoch 6/20\n",
      "\u001b[1m5708/5708\u001b[0m \u001b[32m━━━━━━━━━━━━━━━━━━━━\u001b[0m\u001b[37m\u001b[0m \u001b[1m3s\u001b[0m 527us/step - accuracy: 0.8502 - loss: 0.3919 - val_accuracy: 0.8473 - val_loss: 0.3999\n",
      "Epoch 7/20\n",
      "\u001b[1m5708/5708\u001b[0m \u001b[32m━━━━━━━━━━━━━━━━━━━━\u001b[0m\u001b[37m\u001b[0m \u001b[1m3s\u001b[0m 526us/step - accuracy: 0.8493 - loss: 0.3942 - val_accuracy: 0.8519 - val_loss: 0.3918\n",
      "Epoch 8/20\n",
      "\u001b[1m5708/5708\u001b[0m \u001b[32m━━━━━━━━━━━━━━━━━━━━\u001b[0m\u001b[37m\u001b[0m \u001b[1m3s\u001b[0m 574us/step - accuracy: 0.8500 - loss: 0.3950 - val_accuracy: 0.8511 - val_loss: 0.3906\n",
      "Epoch 9/20\n",
      "\u001b[1m5708/5708\u001b[0m \u001b[32m━━━━━━━━━━━━━━━━━━━━\u001b[0m\u001b[37m\u001b[0m \u001b[1m3s\u001b[0m 525us/step - accuracy: 0.8507 - loss: 0.3928 - val_accuracy: 0.8510 - val_loss: 0.3911\n",
      "Epoch 10/20\n",
      "\u001b[1m5708/5708\u001b[0m \u001b[32m━━━━━━━━━━━━━━━━━━━━\u001b[0m\u001b[37m\u001b[0m \u001b[1m3s\u001b[0m 526us/step - accuracy: 0.8495 - loss: 0.3918 - val_accuracy: 0.8514 - val_loss: 0.3900\n",
      "Epoch 11/20\n",
      "\u001b[1m5708/5708\u001b[0m \u001b[32m━━━━━━━━━━━━━━━━━━━━\u001b[0m\u001b[37m\u001b[0m \u001b[1m3s\u001b[0m 521us/step - accuracy: 0.8507 - loss: 0.3919 - val_accuracy: 0.8512 - val_loss: 0.3926\n",
      "Epoch 12/20\n",
      "\u001b[1m5708/5708\u001b[0m \u001b[32m━━━━━━━━━━━━━━━━━━━━\u001b[0m\u001b[37m\u001b[0m \u001b[1m3s\u001b[0m 559us/step - accuracy: 0.8505 - loss: 0.3903 - val_accuracy: 0.8511 - val_loss: 0.3915\n",
      "Epoch 13/20\n",
      "\u001b[1m5708/5708\u001b[0m \u001b[32m━━━━━━━━━━━━━━━━━━━━\u001b[0m\u001b[37m\u001b[0m \u001b[1m3s\u001b[0m 540us/step - accuracy: 0.8501 - loss: 0.3932 - val_accuracy: 0.8514 - val_loss: 0.3922\n",
      "Epoch 14/20\n",
      "\u001b[1m5708/5708\u001b[0m \u001b[32m━━━━━━━━━━━━━━━━━━━━\u001b[0m\u001b[37m\u001b[0m \u001b[1m3s\u001b[0m 519us/step - accuracy: 0.8489 - loss: 0.3950 - val_accuracy: 0.8501 - val_loss: 0.3901\n",
      "Epoch 15/20\n",
      "\u001b[1m5708/5708\u001b[0m \u001b[32m━━━━━━━━━━━━━━━━━━━━\u001b[0m\u001b[37m\u001b[0m \u001b[1m3s\u001b[0m 523us/step - accuracy: 0.8481 - loss: 0.3965 - val_accuracy: 0.8513 - val_loss: 0.3895\n",
      "Epoch 16/20\n",
      "\u001b[1m5708/5708\u001b[0m \u001b[32m━━━━━━━━━━━━━━━━━━━━\u001b[0m\u001b[37m\u001b[0m \u001b[1m3s\u001b[0m 523us/step - accuracy: 0.8496 - loss: 0.3934 - val_accuracy: 0.8508 - val_loss: 0.3914\n",
      "Epoch 17/20\n",
      "\u001b[1m5708/5708\u001b[0m \u001b[32m━━━━━━━━━━━━━━━━━━━━\u001b[0m\u001b[37m\u001b[0m \u001b[1m3s\u001b[0m 548us/step - accuracy: 0.8480 - loss: 0.3955 - val_accuracy: 0.8503 - val_loss: 0.3915\n",
      "Epoch 18/20\n",
      "\u001b[1m5708/5708\u001b[0m \u001b[32m━━━━━━━━━━━━━━━━━━━━\u001b[0m\u001b[37m\u001b[0m \u001b[1m3s\u001b[0m 546us/step - accuracy: 0.8501 - loss: 0.3924 - val_accuracy: 0.8514 - val_loss: 0.3899\n",
      "Epoch 19/20\n",
      "\u001b[1m5708/5708\u001b[0m \u001b[32m━━━━━━━━━━━━━━━━━━━━\u001b[0m\u001b[37m\u001b[0m \u001b[1m3s\u001b[0m 548us/step - accuracy: 0.8496 - loss: 0.3942 - val_accuracy: 0.8507 - val_loss: 0.3921\n",
      "Epoch 20/20\n",
      "\u001b[1m5708/5708\u001b[0m \u001b[32m━━━━━━━━━━━━━━━━━━━━\u001b[0m\u001b[37m\u001b[0m \u001b[1m3s\u001b[0m 521us/step - accuracy: 0.8506 - loss: 0.3906 - val_accuracy: 0.8503 - val_loss: 0.3903\n",
      "\u001b[1m1586/1586\u001b[0m \u001b[32m━━━━━━━━━━━━━━━━━━━━\u001b[0m\u001b[37m\u001b[0m \u001b[1m0s\u001b[0m 229us/step\n",
      "21 neurons time to train: 63.0s, MSE: 0.5630, R²: -0.1550, ACC: 0.8456\n"
     ]
    }
   ],
   "source": [
    "# Cell 2: 6 layer neural network with 21 neurons\n",
    "#         Build, train & evaluate 8-unit model\n",
    "import time \n",
    "# numpy as np\n",
    "from sklearn.metrics import mean_squared_error, r2_score, accuracy_score\n",
    "\n",
    "model_21_neurons = make_model(21)\n",
    "model_21_neurons.summary()\n",
    "\n",
    "start = time.time()\n",
    "history_21 = model_21_neurons.fit(\n",
    "    X_train_norm, y_train,\n",
    "    epochs=20, batch_size=32,\n",
    "    validation_split=0.1, verbose=1\n",
    ")\n",
    "train_time_21 = time.time() - start\n",
    "\n",
    "y_pred_21 = model_16_neurons.predict(X_test_norm).argmax(axis=1)\n",
    "mse_21 = mean_squared_error(y_test, y_pred_16)\n",
    "r2_21  = r2_score(y_test, y_pred_16)\n",
    "acc_21 = accuracy_score(y_test, y_pred_16)\n",
    "\n",
    "print(f\"21 neurons time to train: {train_time_21:.1f}s, MSE: {mse_21:.4f}, R²: {r2_21:.4f}, ACC: {acc_21:.4f}\")\n"
   ]
  },
  {
   "cell_type": "code",
   "execution_count": 26,
   "id": "68a0b179",
   "metadata": {},
   "outputs": [
    {
     "data": {
      "text/html": [
       "<pre style=\"white-space:pre;overflow-x:auto;line-height:normal;font-family:Menlo,'DejaVu Sans Mono',consolas,'Courier New',monospace\"><span style=\"font-weight: bold\">Model: \"sequential_3\"</span>\n",
       "</pre>\n"
      ],
      "text/plain": [
       "\u001b[1mModel: \"sequential_3\"\u001b[0m\n"
      ]
     },
     "metadata": {},
     "output_type": "display_data"
    },
    {
     "data": {
      "text/html": [
       "<pre style=\"white-space:pre;overflow-x:auto;line-height:normal;font-family:Menlo,'DejaVu Sans Mono',consolas,'Courier New',monospace\">┏━━━━━━━━━━━━━━━━━━━━━━━━━━━━━━━━━┳━━━━━━━━━━━━━━━━━━━━━━━━┳━━━━━━━━━━━━━━━┓\n",
       "┃<span style=\"font-weight: bold\"> Layer (type)                    </span>┃<span style=\"font-weight: bold\"> Output Shape           </span>┃<span style=\"font-weight: bold\">       Param # </span>┃\n",
       "┡━━━━━━━━━━━━━━━━━━━━━━━━━━━━━━━━━╇━━━━━━━━━━━━━━━━━━━━━━━━╇━━━━━━━━━━━━━━━┩\n",
       "│ dense_21 (<span style=\"color: #0087ff; text-decoration-color: #0087ff\">Dense</span>)                │ (<span style=\"color: #00d7ff; text-decoration-color: #00d7ff\">None</span>, <span style=\"color: #00af00; text-decoration-color: #00af00\">32</span>)             │           <span style=\"color: #00af00; text-decoration-color: #00af00\">704</span> │\n",
       "├─────────────────────────────────┼────────────────────────┼───────────────┤\n",
       "│ dense_22 (<span style=\"color: #0087ff; text-decoration-color: #0087ff\">Dense</span>)                │ (<span style=\"color: #00d7ff; text-decoration-color: #00d7ff\">None</span>, <span style=\"color: #00af00; text-decoration-color: #00af00\">32</span>)             │         <span style=\"color: #00af00; text-decoration-color: #00af00\">1,056</span> │\n",
       "├─────────────────────────────────┼────────────────────────┼───────────────┤\n",
       "│ dense_23 (<span style=\"color: #0087ff; text-decoration-color: #0087ff\">Dense</span>)                │ (<span style=\"color: #00d7ff; text-decoration-color: #00d7ff\">None</span>, <span style=\"color: #00af00; text-decoration-color: #00af00\">32</span>)             │         <span style=\"color: #00af00; text-decoration-color: #00af00\">1,056</span> │\n",
       "├─────────────────────────────────┼────────────────────────┼───────────────┤\n",
       "│ dense_24 (<span style=\"color: #0087ff; text-decoration-color: #0087ff\">Dense</span>)                │ (<span style=\"color: #00d7ff; text-decoration-color: #00d7ff\">None</span>, <span style=\"color: #00af00; text-decoration-color: #00af00\">32</span>)             │         <span style=\"color: #00af00; text-decoration-color: #00af00\">1,056</span> │\n",
       "├─────────────────────────────────┼────────────────────────┼───────────────┤\n",
       "│ dense_25 (<span style=\"color: #0087ff; text-decoration-color: #0087ff\">Dense</span>)                │ (<span style=\"color: #00d7ff; text-decoration-color: #00d7ff\">None</span>, <span style=\"color: #00af00; text-decoration-color: #00af00\">32</span>)             │         <span style=\"color: #00af00; text-decoration-color: #00af00\">1,056</span> │\n",
       "├─────────────────────────────────┼────────────────────────┼───────────────┤\n",
       "│ dense_26 (<span style=\"color: #0087ff; text-decoration-color: #0087ff\">Dense</span>)                │ (<span style=\"color: #00d7ff; text-decoration-color: #00d7ff\">None</span>, <span style=\"color: #00af00; text-decoration-color: #00af00\">32</span>)             │         <span style=\"color: #00af00; text-decoration-color: #00af00\">1,056</span> │\n",
       "├─────────────────────────────────┼────────────────────────┼───────────────┤\n",
       "│ dense_27 (<span style=\"color: #0087ff; text-decoration-color: #0087ff\">Dense</span>)                │ (<span style=\"color: #00d7ff; text-decoration-color: #00d7ff\">None</span>, <span style=\"color: #00af00; text-decoration-color: #00af00\">3</span>)              │            <span style=\"color: #00af00; text-decoration-color: #00af00\">99</span> │\n",
       "└─────────────────────────────────┴────────────────────────┴───────────────┘\n",
       "</pre>\n"
      ],
      "text/plain": [
       "┏━━━━━━━━━━━━━━━━━━━━━━━━━━━━━━━━━┳━━━━━━━━━━━━━━━━━━━━━━━━┳━━━━━━━━━━━━━━━┓\n",
       "┃\u001b[1m \u001b[0m\u001b[1mLayer (type)                   \u001b[0m\u001b[1m \u001b[0m┃\u001b[1m \u001b[0m\u001b[1mOutput Shape          \u001b[0m\u001b[1m \u001b[0m┃\u001b[1m \u001b[0m\u001b[1m      Param #\u001b[0m\u001b[1m \u001b[0m┃\n",
       "┡━━━━━━━━━━━━━━━━━━━━━━━━━━━━━━━━━╇━━━━━━━━━━━━━━━━━━━━━━━━╇━━━━━━━━━━━━━━━┩\n",
       "│ dense_21 (\u001b[38;5;33mDense\u001b[0m)                │ (\u001b[38;5;45mNone\u001b[0m, \u001b[38;5;34m32\u001b[0m)             │           \u001b[38;5;34m704\u001b[0m │\n",
       "├─────────────────────────────────┼────────────────────────┼───────────────┤\n",
       "│ dense_22 (\u001b[38;5;33mDense\u001b[0m)                │ (\u001b[38;5;45mNone\u001b[0m, \u001b[38;5;34m32\u001b[0m)             │         \u001b[38;5;34m1,056\u001b[0m │\n",
       "├─────────────────────────────────┼────────────────────────┼───────────────┤\n",
       "│ dense_23 (\u001b[38;5;33mDense\u001b[0m)                │ (\u001b[38;5;45mNone\u001b[0m, \u001b[38;5;34m32\u001b[0m)             │         \u001b[38;5;34m1,056\u001b[0m │\n",
       "├─────────────────────────────────┼────────────────────────┼───────────────┤\n",
       "│ dense_24 (\u001b[38;5;33mDense\u001b[0m)                │ (\u001b[38;5;45mNone\u001b[0m, \u001b[38;5;34m32\u001b[0m)             │         \u001b[38;5;34m1,056\u001b[0m │\n",
       "├─────────────────────────────────┼────────────────────────┼───────────────┤\n",
       "│ dense_25 (\u001b[38;5;33mDense\u001b[0m)                │ (\u001b[38;5;45mNone\u001b[0m, \u001b[38;5;34m32\u001b[0m)             │         \u001b[38;5;34m1,056\u001b[0m │\n",
       "├─────────────────────────────────┼────────────────────────┼───────────────┤\n",
       "│ dense_26 (\u001b[38;5;33mDense\u001b[0m)                │ (\u001b[38;5;45mNone\u001b[0m, \u001b[38;5;34m32\u001b[0m)             │         \u001b[38;5;34m1,056\u001b[0m │\n",
       "├─────────────────────────────────┼────────────────────────┼───────────────┤\n",
       "│ dense_27 (\u001b[38;5;33mDense\u001b[0m)                │ (\u001b[38;5;45mNone\u001b[0m, \u001b[38;5;34m3\u001b[0m)              │            \u001b[38;5;34m99\u001b[0m │\n",
       "└─────────────────────────────────┴────────────────────────┴───────────────┘\n"
      ]
     },
     "metadata": {},
     "output_type": "display_data"
    },
    {
     "data": {
      "text/html": [
       "<pre style=\"white-space:pre;overflow-x:auto;line-height:normal;font-family:Menlo,'DejaVu Sans Mono',consolas,'Courier New',monospace\"><span style=\"font-weight: bold\"> Total params: </span><span style=\"color: #00af00; text-decoration-color: #00af00\">6,083</span> (23.76 KB)\n",
       "</pre>\n"
      ],
      "text/plain": [
       "\u001b[1m Total params: \u001b[0m\u001b[38;5;34m6,083\u001b[0m (23.76 KB)\n"
      ]
     },
     "metadata": {},
     "output_type": "display_data"
    },
    {
     "data": {
      "text/html": [
       "<pre style=\"white-space:pre;overflow-x:auto;line-height:normal;font-family:Menlo,'DejaVu Sans Mono',consolas,'Courier New',monospace\"><span style=\"font-weight: bold\"> Trainable params: </span><span style=\"color: #00af00; text-decoration-color: #00af00\">6,083</span> (23.76 KB)\n",
       "</pre>\n"
      ],
      "text/plain": [
       "\u001b[1m Trainable params: \u001b[0m\u001b[38;5;34m6,083\u001b[0m (23.76 KB)\n"
      ]
     },
     "metadata": {},
     "output_type": "display_data"
    },
    {
     "data": {
      "text/html": [
       "<pre style=\"white-space:pre;overflow-x:auto;line-height:normal;font-family:Menlo,'DejaVu Sans Mono',consolas,'Courier New',monospace\"><span style=\"font-weight: bold\"> Non-trainable params: </span><span style=\"color: #00af00; text-decoration-color: #00af00\">0</span> (0.00 B)\n",
       "</pre>\n"
      ],
      "text/plain": [
       "\u001b[1m Non-trainable params: \u001b[0m\u001b[38;5;34m0\u001b[0m (0.00 B)\n"
      ]
     },
     "metadata": {},
     "output_type": "display_data"
    },
    {
     "name": "stdout",
     "output_type": "stream",
     "text": [
      "Epoch 1/20\n",
      "\u001b[1m5708/5708\u001b[0m \u001b[32m━━━━━━━━━━━━━━━━━━━━\u001b[0m\u001b[37m\u001b[0m \u001b[1m4s\u001b[0m 572us/step - accuracy: 0.8381 - loss: 0.4350 - val_accuracy: 0.8458 - val_loss: 0.4014\n",
      "Epoch 2/20\n",
      "\u001b[1m5708/5708\u001b[0m \u001b[32m━━━━━━━━━━━━━━━━━━━━\u001b[0m\u001b[37m\u001b[0m \u001b[1m3s\u001b[0m 552us/step - accuracy: 0.8452 - loss: 0.4041 - val_accuracy: 0.8497 - val_loss: 0.4020\n",
      "Epoch 3/20\n",
      "\u001b[1m5708/5708\u001b[0m \u001b[32m━━━━━━━━━━━━━━━━━━━━\u001b[0m\u001b[37m\u001b[0m \u001b[1m4s\u001b[0m 612us/step - accuracy: 0.8477 - loss: 0.3994 - val_accuracy: 0.8505 - val_loss: 0.3906\n",
      "Epoch 4/20\n",
      "\u001b[1m5708/5708\u001b[0m \u001b[32m━━━━━━━━━━━━━━━━━━━━\u001b[0m\u001b[37m\u001b[0m \u001b[1m4s\u001b[0m 615us/step - accuracy: 0.8490 - loss: 0.3937 - val_accuracy: 0.8508 - val_loss: 0.3925\n",
      "Epoch 5/20\n",
      "\u001b[1m5708/5708\u001b[0m \u001b[32m━━━━━━━━━━━━━━━━━━━━\u001b[0m\u001b[37m\u001b[0m \u001b[1m3s\u001b[0m 583us/step - accuracy: 0.8478 - loss: 0.3964 - val_accuracy: 0.8514 - val_loss: 0.3936\n",
      "Epoch 6/20\n",
      "\u001b[1m5708/5708\u001b[0m \u001b[32m━━━━━━━━━━━━━━━━━━━━\u001b[0m\u001b[37m\u001b[0m \u001b[1m3s\u001b[0m 583us/step - accuracy: 0.8472 - loss: 0.3990 - val_accuracy: 0.8508 - val_loss: 0.3903\n",
      "Epoch 7/20\n",
      "\u001b[1m5708/5708\u001b[0m \u001b[32m━━━━━━━━━━━━━━━━━━━━\u001b[0m\u001b[37m\u001b[0m \u001b[1m3s\u001b[0m 539us/step - accuracy: 0.8499 - loss: 0.3937 - val_accuracy: 0.8516 - val_loss: 0.3895\n",
      "Epoch 8/20\n",
      "\u001b[1m5708/5708\u001b[0m \u001b[32m━━━━━━━━━━━━━━━━━━━━\u001b[0m\u001b[37m\u001b[0m \u001b[1m3s\u001b[0m 539us/step - accuracy: 0.8475 - loss: 0.3987 - val_accuracy: 0.8507 - val_loss: 0.3907\n",
      "Epoch 9/20\n",
      "\u001b[1m5708/5708\u001b[0m \u001b[32m━━━━━━━━━━━━━━━━━━━━\u001b[0m\u001b[37m\u001b[0m \u001b[1m3s\u001b[0m 563us/step - accuracy: 0.8489 - loss: 0.3947 - val_accuracy: 0.8509 - val_loss: 0.3894\n",
      "Epoch 10/20\n",
      "\u001b[1m5708/5708\u001b[0m \u001b[32m━━━━━━━━━━━━━━━━━━━━\u001b[0m\u001b[37m\u001b[0m \u001b[1m3s\u001b[0m 572us/step - accuracy: 0.8491 - loss: 0.3953 - val_accuracy: 0.8509 - val_loss: 0.3913\n",
      "Epoch 11/20\n",
      "\u001b[1m5708/5708\u001b[0m \u001b[32m━━━━━━━━━━━━━━━━━━━━\u001b[0m\u001b[37m\u001b[0m \u001b[1m3s\u001b[0m 566us/step - accuracy: 0.8500 - loss: 0.3945 - val_accuracy: 0.8508 - val_loss: 0.3895\n",
      "Epoch 12/20\n",
      "\u001b[1m5708/5708\u001b[0m \u001b[32m━━━━━━━━━━━━━━━━━━━━\u001b[0m\u001b[37m\u001b[0m \u001b[1m3s\u001b[0m 545us/step - accuracy: 0.8496 - loss: 0.3951 - val_accuracy: 0.8511 - val_loss: 0.3890\n",
      "Epoch 13/20\n",
      "\u001b[1m5708/5708\u001b[0m \u001b[32m━━━━━━━━━━━━━━━━━━━━\u001b[0m\u001b[37m\u001b[0m \u001b[1m3s\u001b[0m 575us/step - accuracy: 0.8496 - loss: 0.3948 - val_accuracy: 0.8521 - val_loss: 0.3897\n",
      "Epoch 14/20\n",
      "\u001b[1m5708/5708\u001b[0m \u001b[32m━━━━━━━━━━━━━━━━━━━━\u001b[0m\u001b[37m\u001b[0m \u001b[1m3s\u001b[0m 556us/step - accuracy: 0.8492 - loss: 0.3954 - val_accuracy: 0.8512 - val_loss: 0.3893\n",
      "Epoch 15/20\n",
      "\u001b[1m5708/5708\u001b[0m \u001b[32m━━━━━━━━━━━━━━━━━━━━\u001b[0m\u001b[37m\u001b[0m \u001b[1m3s\u001b[0m 562us/step - accuracy: 0.8491 - loss: 0.3949 - val_accuracy: 0.8517 - val_loss: 0.3918\n",
      "Epoch 16/20\n",
      "\u001b[1m5708/5708\u001b[0m \u001b[32m━━━━━━━━━━━━━━━━━━━━\u001b[0m\u001b[37m\u001b[0m \u001b[1m3s\u001b[0m 538us/step - accuracy: 0.8502 - loss: 0.3910 - val_accuracy: 0.8522 - val_loss: 0.3908\n",
      "Epoch 17/20\n",
      "\u001b[1m5708/5708\u001b[0m \u001b[32m━━━━━━━━━━━━━━━━━━━━\u001b[0m\u001b[37m\u001b[0m \u001b[1m3s\u001b[0m 540us/step - accuracy: 0.8492 - loss: 0.3941 - val_accuracy: 0.8511 - val_loss: 0.3903\n",
      "Epoch 18/20\n",
      "\u001b[1m5708/5708\u001b[0m \u001b[32m━━━━━━━━━━━━━━━━━━━━\u001b[0m\u001b[37m\u001b[0m \u001b[1m3s\u001b[0m 536us/step - accuracy: 0.8488 - loss: 0.3942 - val_accuracy: 0.8502 - val_loss: 0.3894\n",
      "Epoch 19/20\n",
      "\u001b[1m5708/5708\u001b[0m \u001b[32m━━━━━━━━━━━━━━━━━━━━\u001b[0m\u001b[37m\u001b[0m \u001b[1m3s\u001b[0m 541us/step - accuracy: 0.8511 - loss: 0.3901 - val_accuracy: 0.8509 - val_loss: 0.3891\n",
      "Epoch 20/20\n",
      "\u001b[1m5708/5708\u001b[0m \u001b[32m━━━━━━━━━━━━━━━━━━━━\u001b[0m\u001b[37m\u001b[0m \u001b[1m3s\u001b[0m 559us/step - accuracy: 0.8499 - loss: 0.3923 - val_accuracy: 0.8512 - val_loss: 0.3889\n",
      "\u001b[1m1586/1586\u001b[0m \u001b[32m━━━━━━━━━━━━━━━━━━━━\u001b[0m\u001b[37m\u001b[0m \u001b[1m0s\u001b[0m 272us/step\n",
      "32 neurons time to train: 65.0s, MSE: 0.5485, R²: -0.1254, ACC: 0.8492\n"
     ]
    }
   ],
   "source": [
    "# Cell 2: 6 layer neural network with 32 neurons\n",
    "#         Build, train & evaluate 8-unit model\n",
    "import time \n",
    "# numpy as np\n",
    "from sklearn.metrics import mean_squared_error, r2_score, accuracy_score\n",
    "\n",
    "model_32_neurons = make_model(32)\n",
    "model_32_neurons.summary()\n",
    "\n",
    "start = time.time()\n",
    "history_32 = model_32_neurons.fit(\n",
    "    X_train_norm, y_train,\n",
    "    epochs=20, batch_size=32,\n",
    "    validation_split=0.1, verbose=1\n",
    ")\n",
    "train_time_32 = time.time() - start\n",
    "\n",
    "y_pred_32 = model_32_neurons.predict(X_test_norm).argmax(axis=1)\n",
    "mse_32 = mean_squared_error(y_test, y_pred_32)\n",
    "r2_32  = r2_score(y_test, y_pred_32)\n",
    "acc_32 = accuracy_score(y_test, y_pred_32)\n",
    "\n",
    "print(f\"32 neurons time to train: {train_time_32:.1f}s, MSE: {mse_32:.4f}, R²: {r2_32:.4f}, ACC: {acc_32:.4f}\")\n"
   ]
  },
  {
   "cell_type": "code",
   "execution_count": 27,
   "id": "23280847",
   "metadata": {},
   "outputs": [
    {
     "data": {
      "text/html": [
       "<div>\n",
       "<style scoped>\n",
       "    .dataframe tbody tr th:only-of-type {\n",
       "        vertical-align: middle;\n",
       "    }\n",
       "\n",
       "    .dataframe tbody tr th {\n",
       "        vertical-align: top;\n",
       "    }\n",
       "\n",
       "    .dataframe thead th {\n",
       "        text-align: right;\n",
       "    }\n",
       "</style>\n",
       "<table border=\"1\" class=\"dataframe\">\n",
       "  <thead>\n",
       "    <tr style=\"text-align: right;\">\n",
       "      <th></th>\n",
       "      <th>Units</th>\n",
       "      <th>Time(s)</th>\n",
       "      <th>MSE</th>\n",
       "      <th>R²</th>\n",
       "      <th>Acc</th>\n",
       "    </tr>\n",
       "  </thead>\n",
       "  <tbody>\n",
       "    <tr>\n",
       "      <th>0</th>\n",
       "      <td>8</td>\n",
       "      <td>61.931811</td>\n",
       "      <td>0.551285</td>\n",
       "      <td>-0.131044</td>\n",
       "      <td>0.848490</td>\n",
       "    </tr>\n",
       "    <tr>\n",
       "      <th>1</th>\n",
       "      <td>16</td>\n",
       "      <td>67.794682</td>\n",
       "      <td>0.562953</td>\n",
       "      <td>-0.154984</td>\n",
       "      <td>0.845573</td>\n",
       "    </tr>\n",
       "    <tr>\n",
       "      <th>2</th>\n",
       "      <td>21</td>\n",
       "      <td>62.986608</td>\n",
       "      <td>0.562953</td>\n",
       "      <td>-0.154984</td>\n",
       "      <td>0.845573</td>\n",
       "    </tr>\n",
       "    <tr>\n",
       "      <th>3</th>\n",
       "      <td>32</td>\n",
       "      <td>64.998978</td>\n",
       "      <td>0.548526</td>\n",
       "      <td>-0.125383</td>\n",
       "      <td>0.849180</td>\n",
       "    </tr>\n",
       "  </tbody>\n",
       "</table>\n",
       "</div>"
      ],
      "text/plain": [
       "   Units    Time(s)       MSE        R²       Acc\n",
       "0      8  61.931811  0.551285 -0.131044  0.848490\n",
       "1     16  67.794682  0.562953 -0.154984  0.845573\n",
       "2     21  62.986608  0.562953 -0.154984  0.845573\n",
       "3     32  64.998978  0.548526 -0.125383  0.849180"
      ]
     },
     "metadata": {},
     "output_type": "display_data"
    }
   ],
   "source": [
    "# Table of results\n",
    "import pandas as pd\n",
    "\n",
    "results = [\n",
    "    (8,  train_time_8,  mse_8,  r2_8,  acc_8),\n",
    "    (16, train_time_16, mse_16, r2_16, acc_16),\n",
    "    (21, train_time_21, mse_21, r2_21, acc_21),\n",
    "    (32, train_time_32, mse_32, r2_32, acc_32),\n",
    "]\n",
    "df = pd.DataFrame(results, columns=['Units','Time(s)','MSE','R²','Acc'])\n",
    "display(df)\n"
   ]
  },
  {
   "cell_type": "markdown",
   "id": "5e895589",
   "metadata": {},
   "source": [
    "## Neural Network 2: 6-Layer with 8, 16, 21, 32 Neurons (CLEANED)\n",
    "\n",
    "---"
   ]
  },
  {
   "cell_type": "code",
   "execution_count": 31,
   "id": "345f7e42",
   "metadata": {},
   "outputs": [
    {
     "name": "stdout",
     "output_type": "stream",
     "text": [
      "(131555, 13) (131555,)\n",
      "(32889, 13) (32889,)\n",
      "0.0 1.0\n"
     ]
    }
   ],
   "source": [
    "# Cell 1: Load & Normalize the Data\n",
    "import pandas as pd\n",
    "from sklearn.model_selection import train_test_split\n",
    "from sklearn.preprocessing import MinMaxScaler\n",
    "\n",
    "# 1. Load the Kaggle CSV (adjust path as needed)\n",
    "df = pd.read_csv('cleaned_diabetes.csv')\n",
    "\n",
    "# 2. Split into features (X) and target (y)\n",
    "X = df.drop('Diabetes_012', axis=1).values\n",
    "y = df['Diabetes_012'].values\n",
    "\n",
    "# 3. Train/test split (stratify to keep class proportions)\n",
    "X_train, X_test, y_train, y_test = train_test_split(\n",
    "    X, y,\n",
    "    test_size=0.2,\n",
    "    random_state=42,\n",
    "    stratify=y\n",
    ")\n",
    "\n",
    "# 4. Apply Min–Max normalization so all features lie in [0,1]\n",
    "scaler = MinMaxScaler()\n",
    "X_train_norm = scaler.fit_transform(X_train)\n",
    "X_test_norm  = scaler.transform(X_test)\n",
    "\n",
    "# Now X_train_norm and X_test_norm are ready for your network.\n",
    "print(X_train_norm.shape, y_train.shape)  # should be (202944, 21), (202944,)\n",
    "print(X_test_norm.shape,  y_test.shape)   # should be (50736, 21), (50736,)\n",
    "print(X_train_norm.min(), X_train_norm.max())  # should be 0.0, 1.0"
   ]
  },
  {
   "cell_type": "code",
   "execution_count": 32,
   "id": "08df0c61",
   "metadata": {},
   "outputs": [
    {
     "data": {
      "text/html": [
       "<pre style=\"white-space:pre;overflow-x:auto;line-height:normal;font-family:Menlo,'DejaVu Sans Mono',consolas,'Courier New',monospace\"><span style=\"font-weight: bold\">Model: \"sequential_6\"</span>\n",
       "</pre>\n"
      ],
      "text/plain": [
       "\u001b[1mModel: \"sequential_6\"\u001b[0m\n"
      ]
     },
     "metadata": {},
     "output_type": "display_data"
    },
    {
     "data": {
      "text/html": [
       "<pre style=\"white-space:pre;overflow-x:auto;line-height:normal;font-family:Menlo,'DejaVu Sans Mono',consolas,'Courier New',monospace\">┏━━━━━━━━━━━━━━━━━━━━━━━━━━━━━━━━━┳━━━━━━━━━━━━━━━━━━━━━━━━┳━━━━━━━━━━━━━━━┓\n",
       "┃<span style=\"font-weight: bold\"> Layer (type)                    </span>┃<span style=\"font-weight: bold\"> Output Shape           </span>┃<span style=\"font-weight: bold\">       Param # </span>┃\n",
       "┡━━━━━━━━━━━━━━━━━━━━━━━━━━━━━━━━━╇━━━━━━━━━━━━━━━━━━━━━━━━╇━━━━━━━━━━━━━━━┩\n",
       "│ dense_42 (<span style=\"color: #0087ff; text-decoration-color: #0087ff\">Dense</span>)                │ (<span style=\"color: #00d7ff; text-decoration-color: #00d7ff\">None</span>, <span style=\"color: #00af00; text-decoration-color: #00af00\">8</span>)              │           <span style=\"color: #00af00; text-decoration-color: #00af00\">176</span> │\n",
       "├─────────────────────────────────┼────────────────────────┼───────────────┤\n",
       "│ dense_43 (<span style=\"color: #0087ff; text-decoration-color: #0087ff\">Dense</span>)                │ (<span style=\"color: #00d7ff; text-decoration-color: #00d7ff\">None</span>, <span style=\"color: #00af00; text-decoration-color: #00af00\">8</span>)              │            <span style=\"color: #00af00; text-decoration-color: #00af00\">72</span> │\n",
       "├─────────────────────────────────┼────────────────────────┼───────────────┤\n",
       "│ dense_44 (<span style=\"color: #0087ff; text-decoration-color: #0087ff\">Dense</span>)                │ (<span style=\"color: #00d7ff; text-decoration-color: #00d7ff\">None</span>, <span style=\"color: #00af00; text-decoration-color: #00af00\">8</span>)              │            <span style=\"color: #00af00; text-decoration-color: #00af00\">72</span> │\n",
       "├─────────────────────────────────┼────────────────────────┼───────────────┤\n",
       "│ dense_45 (<span style=\"color: #0087ff; text-decoration-color: #0087ff\">Dense</span>)                │ (<span style=\"color: #00d7ff; text-decoration-color: #00d7ff\">None</span>, <span style=\"color: #00af00; text-decoration-color: #00af00\">8</span>)              │            <span style=\"color: #00af00; text-decoration-color: #00af00\">72</span> │\n",
       "├─────────────────────────────────┼────────────────────────┼───────────────┤\n",
       "│ dense_46 (<span style=\"color: #0087ff; text-decoration-color: #0087ff\">Dense</span>)                │ (<span style=\"color: #00d7ff; text-decoration-color: #00d7ff\">None</span>, <span style=\"color: #00af00; text-decoration-color: #00af00\">8</span>)              │            <span style=\"color: #00af00; text-decoration-color: #00af00\">72</span> │\n",
       "├─────────────────────────────────┼────────────────────────┼───────────────┤\n",
       "│ dense_47 (<span style=\"color: #0087ff; text-decoration-color: #0087ff\">Dense</span>)                │ (<span style=\"color: #00d7ff; text-decoration-color: #00d7ff\">None</span>, <span style=\"color: #00af00; text-decoration-color: #00af00\">8</span>)              │            <span style=\"color: #00af00; text-decoration-color: #00af00\">72</span> │\n",
       "├─────────────────────────────────┼────────────────────────┼───────────────┤\n",
       "│ dense_48 (<span style=\"color: #0087ff; text-decoration-color: #0087ff\">Dense</span>)                │ (<span style=\"color: #00d7ff; text-decoration-color: #00d7ff\">None</span>, <span style=\"color: #00af00; text-decoration-color: #00af00\">3</span>)              │            <span style=\"color: #00af00; text-decoration-color: #00af00\">27</span> │\n",
       "└─────────────────────────────────┴────────────────────────┴───────────────┘\n",
       "</pre>\n"
      ],
      "text/plain": [
       "┏━━━━━━━━━━━━━━━━━━━━━━━━━━━━━━━━━┳━━━━━━━━━━━━━━━━━━━━━━━━┳━━━━━━━━━━━━━━━┓\n",
       "┃\u001b[1m \u001b[0m\u001b[1mLayer (type)                   \u001b[0m\u001b[1m \u001b[0m┃\u001b[1m \u001b[0m\u001b[1mOutput Shape          \u001b[0m\u001b[1m \u001b[0m┃\u001b[1m \u001b[0m\u001b[1m      Param #\u001b[0m\u001b[1m \u001b[0m┃\n",
       "┡━━━━━━━━━━━━━━━━━━━━━━━━━━━━━━━━━╇━━━━━━━━━━━━━━━━━━━━━━━━╇━━━━━━━━━━━━━━━┩\n",
       "│ dense_42 (\u001b[38;5;33mDense\u001b[0m)                │ (\u001b[38;5;45mNone\u001b[0m, \u001b[38;5;34m8\u001b[0m)              │           \u001b[38;5;34m176\u001b[0m │\n",
       "├─────────────────────────────────┼────────────────────────┼───────────────┤\n",
       "│ dense_43 (\u001b[38;5;33mDense\u001b[0m)                │ (\u001b[38;5;45mNone\u001b[0m, \u001b[38;5;34m8\u001b[0m)              │            \u001b[38;5;34m72\u001b[0m │\n",
       "├─────────────────────────────────┼────────────────────────┼───────────────┤\n",
       "│ dense_44 (\u001b[38;5;33mDense\u001b[0m)                │ (\u001b[38;5;45mNone\u001b[0m, \u001b[38;5;34m8\u001b[0m)              │            \u001b[38;5;34m72\u001b[0m │\n",
       "├─────────────────────────────────┼────────────────────────┼───────────────┤\n",
       "│ dense_45 (\u001b[38;5;33mDense\u001b[0m)                │ (\u001b[38;5;45mNone\u001b[0m, \u001b[38;5;34m8\u001b[0m)              │            \u001b[38;5;34m72\u001b[0m │\n",
       "├─────────────────────────────────┼────────────────────────┼───────────────┤\n",
       "│ dense_46 (\u001b[38;5;33mDense\u001b[0m)                │ (\u001b[38;5;45mNone\u001b[0m, \u001b[38;5;34m8\u001b[0m)              │            \u001b[38;5;34m72\u001b[0m │\n",
       "├─────────────────────────────────┼────────────────────────┼───────────────┤\n",
       "│ dense_47 (\u001b[38;5;33mDense\u001b[0m)                │ (\u001b[38;5;45mNone\u001b[0m, \u001b[38;5;34m8\u001b[0m)              │            \u001b[38;5;34m72\u001b[0m │\n",
       "├─────────────────────────────────┼────────────────────────┼───────────────┤\n",
       "│ dense_48 (\u001b[38;5;33mDense\u001b[0m)                │ (\u001b[38;5;45mNone\u001b[0m, \u001b[38;5;34m3\u001b[0m)              │            \u001b[38;5;34m27\u001b[0m │\n",
       "└─────────────────────────────────┴────────────────────────┴───────────────┘\n"
      ]
     },
     "metadata": {},
     "output_type": "display_data"
    },
    {
     "data": {
      "text/html": [
       "<pre style=\"white-space:pre;overflow-x:auto;line-height:normal;font-family:Menlo,'DejaVu Sans Mono',consolas,'Courier New',monospace\"><span style=\"font-weight: bold\"> Total params: </span><span style=\"color: #00af00; text-decoration-color: #00af00\">563</span> (2.20 KB)\n",
       "</pre>\n"
      ],
      "text/plain": [
       "\u001b[1m Total params: \u001b[0m\u001b[38;5;34m563\u001b[0m (2.20 KB)\n"
      ]
     },
     "metadata": {},
     "output_type": "display_data"
    },
    {
     "data": {
      "text/html": [
       "<pre style=\"white-space:pre;overflow-x:auto;line-height:normal;font-family:Menlo,'DejaVu Sans Mono',consolas,'Courier New',monospace\"><span style=\"font-weight: bold\"> Trainable params: </span><span style=\"color: #00af00; text-decoration-color: #00af00\">563</span> (2.20 KB)\n",
       "</pre>\n"
      ],
      "text/plain": [
       "\u001b[1m Trainable params: \u001b[0m\u001b[38;5;34m563\u001b[0m (2.20 KB)\n"
      ]
     },
     "metadata": {},
     "output_type": "display_data"
    },
    {
     "data": {
      "text/html": [
       "<pre style=\"white-space:pre;overflow-x:auto;line-height:normal;font-family:Menlo,'DejaVu Sans Mono',consolas,'Courier New',monospace\"><span style=\"font-weight: bold\"> Non-trainable params: </span><span style=\"color: #00af00; text-decoration-color: #00af00\">0</span> (0.00 B)\n",
       "</pre>\n"
      ],
      "text/plain": [
       "\u001b[1m Non-trainable params: \u001b[0m\u001b[38;5;34m0\u001b[0m (0.00 B)\n"
      ]
     },
     "metadata": {},
     "output_type": "display_data"
    },
    {
     "name": "stdout",
     "output_type": "stream",
     "text": [
      "Epoch 1/20\n"
     ]
    },
    {
     "ename": "ValueError",
     "evalue": "Exception encountered when calling Sequential.call().\n\n\u001b[1mInput 0 of layer \"dense_42\" is incompatible with the layer: expected axis -1 of input shape to have value 21, but received input with shape (None, 13)\u001b[0m\n\nArguments received by Sequential.call():\n  • inputs=tf.Tensor(shape=(None, 13), dtype=float32)\n  • training=True\n  • mask=None",
     "output_type": "error",
     "traceback": [
      "\u001b[0;31m---------------------------------------------------------------------------\u001b[0m",
      "\u001b[0;31mValueError\u001b[0m                                Traceback (most recent call last)",
      "Cell \u001b[0;32mIn[32], line 10\u001b[0m\n\u001b[1;32m      7\u001b[0m model_8_neurons\u001b[38;5;241m.\u001b[39msummary()\n\u001b[1;32m      9\u001b[0m start \u001b[38;5;241m=\u001b[39m time\u001b[38;5;241m.\u001b[39mtime()\n\u001b[0;32m---> 10\u001b[0m history_8 \u001b[38;5;241m=\u001b[39m \u001b[43mmodel_8_neurons\u001b[49m\u001b[38;5;241;43m.\u001b[39;49m\u001b[43mfit\u001b[49m\u001b[43m(\u001b[49m\n\u001b[1;32m     11\u001b[0m \u001b[43m    \u001b[49m\u001b[43mX_train_norm\u001b[49m\u001b[43m,\u001b[49m\u001b[43m \u001b[49m\u001b[43my_train\u001b[49m\u001b[43m,\u001b[49m\n\u001b[1;32m     12\u001b[0m \u001b[43m    \u001b[49m\u001b[43mepochs\u001b[49m\u001b[38;5;241;43m=\u001b[39;49m\u001b[38;5;241;43m20\u001b[39;49m\u001b[43m,\u001b[49m\n\u001b[1;32m     13\u001b[0m \u001b[43m    \u001b[49m\u001b[43mbatch_size\u001b[49m\u001b[38;5;241;43m=\u001b[39;49m\u001b[38;5;241;43m32\u001b[39;49m\u001b[43m,\u001b[49m\n\u001b[1;32m     14\u001b[0m \u001b[43m    \u001b[49m\u001b[43mvalidation_split\u001b[49m\u001b[38;5;241;43m=\u001b[39;49m\u001b[38;5;241;43m0.1\u001b[39;49m\u001b[43m,\u001b[49m\n\u001b[1;32m     15\u001b[0m \u001b[43m    \u001b[49m\u001b[43mverbose\u001b[49m\u001b[38;5;241;43m=\u001b[39;49m\u001b[38;5;241;43m1\u001b[39;49m\n\u001b[1;32m     16\u001b[0m \u001b[43m)\u001b[49m\n\u001b[1;32m     17\u001b[0m train_time_8 \u001b[38;5;241m=\u001b[39m time\u001b[38;5;241m.\u001b[39mtime() \u001b[38;5;241m-\u001b[39m start\n\u001b[1;32m     19\u001b[0m \u001b[38;5;66;03m# predict & compute metrics\u001b[39;00m\n",
      "File \u001b[0;32m~/projects/diabetes-risk-predictor/venv310/lib/python3.10/site-packages/keras/src/utils/traceback_utils.py:122\u001b[0m, in \u001b[0;36mfilter_traceback.<locals>.error_handler\u001b[0;34m(*args, **kwargs)\u001b[0m\n\u001b[1;32m    119\u001b[0m     filtered_tb \u001b[38;5;241m=\u001b[39m _process_traceback_frames(e\u001b[38;5;241m.\u001b[39m__traceback__)\n\u001b[1;32m    120\u001b[0m     \u001b[38;5;66;03m# To get the full stack trace, call:\u001b[39;00m\n\u001b[1;32m    121\u001b[0m     \u001b[38;5;66;03m# `keras.config.disable_traceback_filtering()`\u001b[39;00m\n\u001b[0;32m--> 122\u001b[0m     \u001b[38;5;28;01mraise\u001b[39;00m e\u001b[38;5;241m.\u001b[39mwith_traceback(filtered_tb) \u001b[38;5;28;01mfrom\u001b[39;00m\u001b[38;5;250m \u001b[39m\u001b[38;5;28;01mNone\u001b[39;00m\n\u001b[1;32m    123\u001b[0m \u001b[38;5;28;01mfinally\u001b[39;00m:\n\u001b[1;32m    124\u001b[0m     \u001b[38;5;28;01mdel\u001b[39;00m filtered_tb\n",
      "File \u001b[0;32m~/projects/diabetes-risk-predictor/venv310/lib/python3.10/site-packages/keras/src/layers/input_spec.py:227\u001b[0m, in \u001b[0;36massert_input_compatibility\u001b[0;34m(input_spec, inputs, layer_name)\u001b[0m\n\u001b[1;32m    222\u001b[0m     \u001b[38;5;28;01mfor\u001b[39;00m axis, value \u001b[38;5;129;01min\u001b[39;00m spec\u001b[38;5;241m.\u001b[39maxes\u001b[38;5;241m.\u001b[39mitems():\n\u001b[1;32m    223\u001b[0m         \u001b[38;5;28;01mif\u001b[39;00m value \u001b[38;5;129;01mis\u001b[39;00m \u001b[38;5;129;01mnot\u001b[39;00m \u001b[38;5;28;01mNone\u001b[39;00m \u001b[38;5;129;01mand\u001b[39;00m shape[axis] \u001b[38;5;129;01mnot\u001b[39;00m \u001b[38;5;129;01min\u001b[39;00m {\n\u001b[1;32m    224\u001b[0m             value,\n\u001b[1;32m    225\u001b[0m             \u001b[38;5;28;01mNone\u001b[39;00m,\n\u001b[1;32m    226\u001b[0m         }:\n\u001b[0;32m--> 227\u001b[0m             \u001b[38;5;28;01mraise\u001b[39;00m \u001b[38;5;167;01mValueError\u001b[39;00m(\n\u001b[1;32m    228\u001b[0m                 \u001b[38;5;124mf\u001b[39m\u001b[38;5;124m'\u001b[39m\u001b[38;5;124mInput \u001b[39m\u001b[38;5;132;01m{\u001b[39;00minput_index\u001b[38;5;132;01m}\u001b[39;00m\u001b[38;5;124m of layer \u001b[39m\u001b[38;5;124m\"\u001b[39m\u001b[38;5;132;01m{\u001b[39;00mlayer_name\u001b[38;5;132;01m}\u001b[39;00m\u001b[38;5;124m\"\u001b[39m\u001b[38;5;124m is \u001b[39m\u001b[38;5;124m'\u001b[39m\n\u001b[1;32m    229\u001b[0m                 \u001b[38;5;124mf\u001b[39m\u001b[38;5;124m\"\u001b[39m\u001b[38;5;124mincompatible with the layer: expected axis \u001b[39m\u001b[38;5;132;01m{\u001b[39;00maxis\u001b[38;5;132;01m}\u001b[39;00m\u001b[38;5;124m \u001b[39m\u001b[38;5;124m\"\u001b[39m\n\u001b[1;32m    230\u001b[0m                 \u001b[38;5;124mf\u001b[39m\u001b[38;5;124m\"\u001b[39m\u001b[38;5;124mof input shape to have value \u001b[39m\u001b[38;5;132;01m{\u001b[39;00mvalue\u001b[38;5;132;01m}\u001b[39;00m\u001b[38;5;124m, \u001b[39m\u001b[38;5;124m\"\u001b[39m\n\u001b[1;32m    231\u001b[0m                 \u001b[38;5;124m\"\u001b[39m\u001b[38;5;124mbut received input with \u001b[39m\u001b[38;5;124m\"\u001b[39m\n\u001b[1;32m    232\u001b[0m                 \u001b[38;5;124mf\u001b[39m\u001b[38;5;124m\"\u001b[39m\u001b[38;5;124mshape \u001b[39m\u001b[38;5;132;01m{\u001b[39;00mshape\u001b[38;5;132;01m}\u001b[39;00m\u001b[38;5;124m\"\u001b[39m\n\u001b[1;32m    233\u001b[0m             )\n\u001b[1;32m    234\u001b[0m \u001b[38;5;66;03m# Check shape.\u001b[39;00m\n\u001b[1;32m    235\u001b[0m \u001b[38;5;28;01mif\u001b[39;00m spec\u001b[38;5;241m.\u001b[39mshape \u001b[38;5;129;01mis\u001b[39;00m \u001b[38;5;129;01mnot\u001b[39;00m \u001b[38;5;28;01mNone\u001b[39;00m:\n",
      "\u001b[0;31mValueError\u001b[0m: Exception encountered when calling Sequential.call().\n\n\u001b[1mInput 0 of layer \"dense_42\" is incompatible with the layer: expected axis -1 of input shape to have value 21, but received input with shape (None, 13)\u001b[0m\n\nArguments received by Sequential.call():\n  • inputs=tf.Tensor(shape=(None, 13), dtype=float32)\n  • training=True\n  • mask=None"
     ]
    }
   ],
   "source": [
    "# ─── Cell 2: Train & evaluate your 8-neuron model ─────────────────────────────────────────────\n",
    "import time\n",
    "from sklearn.metrics import mean_squared_error, r2_score, accuracy_score\n",
    "\n",
    "# build the model with 8 neurons per hidden layer\n",
    "model_8_neurons = make_model(8)\n",
    "model_8_neurons.summary()\n",
    "\n",
    "start = time.time()\n",
    "history_8 = model_8_neurons.fit(\n",
    "    X_train_norm, y_train,\n",
    "    epochs=20,\n",
    "    batch_size=32,\n",
    "    validation_split=0.1,\n",
    "    verbose=1\n",
    ")\n",
    "train_time_8 = time.time() - start\n",
    "\n",
    "# predict & compute metrics\n",
    "y_pred_8 = model_8_neurons.predict(X_test_norm).argmax(axis=1)\n",
    "mse_8 = mean_squared_error(y_test, y_pred_8)\n",
    "r2_8  = r2_score(y_test, y_pred_8)\n",
    "acc_8 = accuracy_score(y_test, y_pred_8)\n",
    "\n",
    "print(f\"8 neurons time to train: {train_time_8:.1f}s, MSE: {mse_8:.4f}, R²: {r2_8:.4f}, ACC: {acc_8:.4f}\")\n"
   ]
  },
  {
   "cell_type": "code",
   "execution_count": null,
   "id": "c782c3a7",
   "metadata": {},
   "outputs": [
    {
     "data": {
      "text/html": [
       "<pre style=\"white-space:pre;overflow-x:auto;line-height:normal;font-family:Menlo,'DejaVu Sans Mono',consolas,'Courier New',monospace\"><span style=\"font-weight: bold\">Model: \"sequential_1\"</span>\n",
       "</pre>\n"
      ],
      "text/plain": [
       "\u001b[1mModel: \"sequential_1\"\u001b[0m\n"
      ]
     },
     "metadata": {},
     "output_type": "display_data"
    },
    {
     "data": {
      "text/html": [
       "<pre style=\"white-space:pre;overflow-x:auto;line-height:normal;font-family:Menlo,'DejaVu Sans Mono',consolas,'Courier New',monospace\">┏━━━━━━━━━━━━━━━━━━━━━━━━━━━━━━━━━┳━━━━━━━━━━━━━━━━━━━━━━━━┳━━━━━━━━━━━━━━━┓\n",
       "┃<span style=\"font-weight: bold\"> Layer (type)                    </span>┃<span style=\"font-weight: bold\"> Output Shape           </span>┃<span style=\"font-weight: bold\">       Param # </span>┃\n",
       "┡━━━━━━━━━━━━━━━━━━━━━━━━━━━━━━━━━╇━━━━━━━━━━━━━━━━━━━━━━━━╇━━━━━━━━━━━━━━━┩\n",
       "│ dense_7 (<span style=\"color: #0087ff; text-decoration-color: #0087ff\">Dense</span>)                 │ (<span style=\"color: #00d7ff; text-decoration-color: #00d7ff\">None</span>, <span style=\"color: #00af00; text-decoration-color: #00af00\">16</span>)             │           <span style=\"color: #00af00; text-decoration-color: #00af00\">224</span> │\n",
       "├─────────────────────────────────┼────────────────────────┼───────────────┤\n",
       "│ dense_8 (<span style=\"color: #0087ff; text-decoration-color: #0087ff\">Dense</span>)                 │ (<span style=\"color: #00d7ff; text-decoration-color: #00d7ff\">None</span>, <span style=\"color: #00af00; text-decoration-color: #00af00\">16</span>)             │           <span style=\"color: #00af00; text-decoration-color: #00af00\">272</span> │\n",
       "├─────────────────────────────────┼────────────────────────┼───────────────┤\n",
       "│ dense_9 (<span style=\"color: #0087ff; text-decoration-color: #0087ff\">Dense</span>)                 │ (<span style=\"color: #00d7ff; text-decoration-color: #00d7ff\">None</span>, <span style=\"color: #00af00; text-decoration-color: #00af00\">16</span>)             │           <span style=\"color: #00af00; text-decoration-color: #00af00\">272</span> │\n",
       "├─────────────────────────────────┼────────────────────────┼───────────────┤\n",
       "│ dense_10 (<span style=\"color: #0087ff; text-decoration-color: #0087ff\">Dense</span>)                │ (<span style=\"color: #00d7ff; text-decoration-color: #00d7ff\">None</span>, <span style=\"color: #00af00; text-decoration-color: #00af00\">16</span>)             │           <span style=\"color: #00af00; text-decoration-color: #00af00\">272</span> │\n",
       "├─────────────────────────────────┼────────────────────────┼───────────────┤\n",
       "│ dense_11 (<span style=\"color: #0087ff; text-decoration-color: #0087ff\">Dense</span>)                │ (<span style=\"color: #00d7ff; text-decoration-color: #00d7ff\">None</span>, <span style=\"color: #00af00; text-decoration-color: #00af00\">16</span>)             │           <span style=\"color: #00af00; text-decoration-color: #00af00\">272</span> │\n",
       "├─────────────────────────────────┼────────────────────────┼───────────────┤\n",
       "│ dense_12 (<span style=\"color: #0087ff; text-decoration-color: #0087ff\">Dense</span>)                │ (<span style=\"color: #00d7ff; text-decoration-color: #00d7ff\">None</span>, <span style=\"color: #00af00; text-decoration-color: #00af00\">16</span>)             │           <span style=\"color: #00af00; text-decoration-color: #00af00\">272</span> │\n",
       "├─────────────────────────────────┼────────────────────────┼───────────────┤\n",
       "│ dense_13 (<span style=\"color: #0087ff; text-decoration-color: #0087ff\">Dense</span>)                │ (<span style=\"color: #00d7ff; text-decoration-color: #00d7ff\">None</span>, <span style=\"color: #00af00; text-decoration-color: #00af00\">3</span>)              │            <span style=\"color: #00af00; text-decoration-color: #00af00\">51</span> │\n",
       "└─────────────────────────────────┴────────────────────────┴───────────────┘\n",
       "</pre>\n"
      ],
      "text/plain": [
       "┏━━━━━━━━━━━━━━━━━━━━━━━━━━━━━━━━━┳━━━━━━━━━━━━━━━━━━━━━━━━┳━━━━━━━━━━━━━━━┓\n",
       "┃\u001b[1m \u001b[0m\u001b[1mLayer (type)                   \u001b[0m\u001b[1m \u001b[0m┃\u001b[1m \u001b[0m\u001b[1mOutput Shape          \u001b[0m\u001b[1m \u001b[0m┃\u001b[1m \u001b[0m\u001b[1m      Param #\u001b[0m\u001b[1m \u001b[0m┃\n",
       "┡━━━━━━━━━━━━━━━━━━━━━━━━━━━━━━━━━╇━━━━━━━━━━━━━━━━━━━━━━━━╇━━━━━━━━━━━━━━━┩\n",
       "│ dense_7 (\u001b[38;5;33mDense\u001b[0m)                 │ (\u001b[38;5;45mNone\u001b[0m, \u001b[38;5;34m16\u001b[0m)             │           \u001b[38;5;34m224\u001b[0m │\n",
       "├─────────────────────────────────┼────────────────────────┼───────────────┤\n",
       "│ dense_8 (\u001b[38;5;33mDense\u001b[0m)                 │ (\u001b[38;5;45mNone\u001b[0m, \u001b[38;5;34m16\u001b[0m)             │           \u001b[38;5;34m272\u001b[0m │\n",
       "├─────────────────────────────────┼────────────────────────┼───────────────┤\n",
       "│ dense_9 (\u001b[38;5;33mDense\u001b[0m)                 │ (\u001b[38;5;45mNone\u001b[0m, \u001b[38;5;34m16\u001b[0m)             │           \u001b[38;5;34m272\u001b[0m │\n",
       "├─────────────────────────────────┼────────────────────────┼───────────────┤\n",
       "│ dense_10 (\u001b[38;5;33mDense\u001b[0m)                │ (\u001b[38;5;45mNone\u001b[0m, \u001b[38;5;34m16\u001b[0m)             │           \u001b[38;5;34m272\u001b[0m │\n",
       "├─────────────────────────────────┼────────────────────────┼───────────────┤\n",
       "│ dense_11 (\u001b[38;5;33mDense\u001b[0m)                │ (\u001b[38;5;45mNone\u001b[0m, \u001b[38;5;34m16\u001b[0m)             │           \u001b[38;5;34m272\u001b[0m │\n",
       "├─────────────────────────────────┼────────────────────────┼───────────────┤\n",
       "│ dense_12 (\u001b[38;5;33mDense\u001b[0m)                │ (\u001b[38;5;45mNone\u001b[0m, \u001b[38;5;34m16\u001b[0m)             │           \u001b[38;5;34m272\u001b[0m │\n",
       "├─────────────────────────────────┼────────────────────────┼───────────────┤\n",
       "│ dense_13 (\u001b[38;5;33mDense\u001b[0m)                │ (\u001b[38;5;45mNone\u001b[0m, \u001b[38;5;34m3\u001b[0m)              │            \u001b[38;5;34m51\u001b[0m │\n",
       "└─────────────────────────────────┴────────────────────────┴───────────────┘\n"
      ]
     },
     "metadata": {},
     "output_type": "display_data"
    },
    {
     "data": {
      "text/html": [
       "<pre style=\"white-space:pre;overflow-x:auto;line-height:normal;font-family:Menlo,'DejaVu Sans Mono',consolas,'Courier New',monospace\"><span style=\"font-weight: bold\"> Total params: </span><span style=\"color: #00af00; text-decoration-color: #00af00\">1,635</span> (6.39 KB)\n",
       "</pre>\n"
      ],
      "text/plain": [
       "\u001b[1m Total params: \u001b[0m\u001b[38;5;34m1,635\u001b[0m (6.39 KB)\n"
      ]
     },
     "metadata": {},
     "output_type": "display_data"
    },
    {
     "data": {
      "text/html": [
       "<pre style=\"white-space:pre;overflow-x:auto;line-height:normal;font-family:Menlo,'DejaVu Sans Mono',consolas,'Courier New',monospace\"><span style=\"font-weight: bold\"> Trainable params: </span><span style=\"color: #00af00; text-decoration-color: #00af00\">1,635</span> (6.39 KB)\n",
       "</pre>\n"
      ],
      "text/plain": [
       "\u001b[1m Trainable params: \u001b[0m\u001b[38;5;34m1,635\u001b[0m (6.39 KB)\n"
      ]
     },
     "metadata": {},
     "output_type": "display_data"
    },
    {
     "data": {
      "text/html": [
       "<pre style=\"white-space:pre;overflow-x:auto;line-height:normal;font-family:Menlo,'DejaVu Sans Mono',consolas,'Courier New',monospace\"><span style=\"font-weight: bold\"> Non-trainable params: </span><span style=\"color: #00af00; text-decoration-color: #00af00\">0</span> (0.00 B)\n",
       "</pre>\n"
      ],
      "text/plain": [
       "\u001b[1m Non-trainable params: \u001b[0m\u001b[38;5;34m0\u001b[0m (0.00 B)\n"
      ]
     },
     "metadata": {},
     "output_type": "display_data"
    },
    {
     "name": "stdout",
     "output_type": "stream",
     "text": [
      "Epoch 1/20\n",
      "\u001b[1m3700/3700\u001b[0m \u001b[32m━━━━━━━━━━━━━━━━━━━━\u001b[0m\u001b[37m\u001b[0m \u001b[1m3s\u001b[0m 610us/step - accuracy: 0.8760 - loss: 0.4024 - val_accuracy: 0.8785 - val_loss: 0.3534\n",
      "Epoch 2/20\n",
      "\u001b[1m3700/3700\u001b[0m \u001b[32m━━━━━━━━━━━━━━━━━━━━\u001b[0m\u001b[37m\u001b[0m \u001b[1m2s\u001b[0m 611us/step - accuracy: 0.8809 - loss: 0.3456 - val_accuracy: 0.8779 - val_loss: 0.3526\n",
      "Epoch 3/20\n",
      "\u001b[1m3700/3700\u001b[0m \u001b[32m━━━━━━━━━━━━━━━━━━━━\u001b[0m\u001b[37m\u001b[0m \u001b[1m2s\u001b[0m 595us/step - accuracy: 0.8813 - loss: 0.3417 - val_accuracy: 0.8787 - val_loss: 0.3493\n",
      "Epoch 4/20\n",
      "\u001b[1m3700/3700\u001b[0m \u001b[32m━━━━━━━━━━━━━━━━━━━━\u001b[0m\u001b[37m\u001b[0m \u001b[1m2s\u001b[0m 587us/step - accuracy: 0.8814 - loss: 0.3402 - val_accuracy: 0.8787 - val_loss: 0.3479\n",
      "Epoch 5/20\n",
      "\u001b[1m3700/3700\u001b[0m \u001b[32m━━━━━━━━━━━━━━━━━━━━\u001b[0m\u001b[37m\u001b[0m \u001b[1m2s\u001b[0m 575us/step - accuracy: 0.8822 - loss: 0.3371 - val_accuracy: 0.8786 - val_loss: 0.3486\n",
      "Epoch 6/20\n",
      "\u001b[1m3700/3700\u001b[0m \u001b[32m━━━━━━━━━━━━━━━━━━━━\u001b[0m\u001b[37m\u001b[0m \u001b[1m2s\u001b[0m 593us/step - accuracy: 0.8819 - loss: 0.3402 - val_accuracy: 0.8785 - val_loss: 0.3475\n",
      "Epoch 7/20\n",
      "\u001b[1m3700/3700\u001b[0m \u001b[32m━━━━━━━━━━━━━━━━━━━━\u001b[0m\u001b[37m\u001b[0m \u001b[1m2s\u001b[0m 599us/step - accuracy: 0.8810 - loss: 0.3427 - val_accuracy: 0.8784 - val_loss: 0.3467\n",
      "Epoch 8/20\n",
      "\u001b[1m3700/3700\u001b[0m \u001b[32m━━━━━━━━━━━━━━━━━━━━\u001b[0m\u001b[37m\u001b[0m \u001b[1m2s\u001b[0m 521us/step - accuracy: 0.8810 - loss: 0.3406 - val_accuracy: 0.8785 - val_loss: 0.3476\n",
      "Epoch 9/20\n",
      "\u001b[1m3700/3700\u001b[0m \u001b[32m━━━━━━━━━━━━━━━━━━━━\u001b[0m\u001b[37m\u001b[0m \u001b[1m2s\u001b[0m 516us/step - accuracy: 0.8832 - loss: 0.3393 - val_accuracy: 0.8792 - val_loss: 0.3466\n",
      "Epoch 10/20\n",
      "\u001b[1m3700/3700\u001b[0m \u001b[32m━━━━━━━━━━━━━━━━━━━━\u001b[0m\u001b[37m\u001b[0m \u001b[1m2s\u001b[0m 574us/step - accuracy: 0.8823 - loss: 0.3398 - val_accuracy: 0.8796 - val_loss: 0.3478\n",
      "Epoch 11/20\n",
      "\u001b[1m3700/3700\u001b[0m \u001b[32m━━━━━━━━━━━━━━━━━━━━\u001b[0m\u001b[37m\u001b[0m \u001b[1m2s\u001b[0m 534us/step - accuracy: 0.8802 - loss: 0.3429 - val_accuracy: 0.8790 - val_loss: 0.3469\n",
      "Epoch 12/20\n",
      "\u001b[1m3700/3700\u001b[0m \u001b[32m━━━━━━━━━━━━━━━━━━━━\u001b[0m\u001b[37m\u001b[0m \u001b[1m2s\u001b[0m 515us/step - accuracy: 0.8810 - loss: 0.3406 - val_accuracy: 0.8800 - val_loss: 0.3465\n",
      "Epoch 13/20\n",
      "\u001b[1m3700/3700\u001b[0m \u001b[32m━━━━━━━━━━━━━━━━━━━━\u001b[0m\u001b[37m\u001b[0m \u001b[1m2s\u001b[0m 525us/step - accuracy: 0.8818 - loss: 0.3393 - val_accuracy: 0.8798 - val_loss: 0.3466\n",
      "Epoch 14/20\n",
      "\u001b[1m3700/3700\u001b[0m \u001b[32m━━━━━━━━━━━━━━━━━━━━\u001b[0m\u001b[37m\u001b[0m \u001b[1m2s\u001b[0m 572us/step - accuracy: 0.8808 - loss: 0.3403 - val_accuracy: 0.8791 - val_loss: 0.3467\n",
      "Epoch 15/20\n",
      "\u001b[1m3700/3700\u001b[0m \u001b[32m━━━━━━━━━━━━━━━━━━━━\u001b[0m\u001b[37m\u001b[0m \u001b[1m2s\u001b[0m 534us/step - accuracy: 0.8821 - loss: 0.3382 - val_accuracy: 0.8791 - val_loss: 0.3480\n",
      "Epoch 16/20\n",
      "\u001b[1m3700/3700\u001b[0m \u001b[32m━━━━━━━━━━━━━━━━━━━━\u001b[0m\u001b[37m\u001b[0m \u001b[1m2s\u001b[0m 507us/step - accuracy: 0.8816 - loss: 0.3409 - val_accuracy: 0.8798 - val_loss: 0.3480\n",
      "Epoch 17/20\n",
      "\u001b[1m3700/3700\u001b[0m \u001b[32m━━━━━━━━━━━━━━━━━━━━\u001b[0m\u001b[37m\u001b[0m \u001b[1m2s\u001b[0m 530us/step - accuracy: 0.8823 - loss: 0.3381 - val_accuracy: 0.8793 - val_loss: 0.3471\n",
      "Epoch 18/20\n",
      "\u001b[1m3700/3700\u001b[0m \u001b[32m━━━━━━━━━━━━━━━━━━━━\u001b[0m\u001b[37m\u001b[0m \u001b[1m2s\u001b[0m 528us/step - accuracy: 0.8829 - loss: 0.3388 - val_accuracy: 0.8790 - val_loss: 0.3465\n",
      "Epoch 19/20\n",
      "\u001b[1m3700/3700\u001b[0m \u001b[32m━━━━━━━━━━━━━━━━━━━━\u001b[0m\u001b[37m\u001b[0m \u001b[1m2s\u001b[0m 504us/step - accuracy: 0.8813 - loss: 0.3394 - val_accuracy: 0.8789 - val_loss: 0.3509\n",
      "Epoch 20/20\n",
      "\u001b[1m3700/3700\u001b[0m \u001b[32m━━━━━━━━━━━━━━━━━━━━\u001b[0m\u001b[37m\u001b[0m \u001b[1m2s\u001b[0m 516us/step - accuracy: 0.8818 - loss: 0.3402 - val_accuracy: 0.8788 - val_loss: 0.3472\n",
      "\u001b[1m1028/1028\u001b[0m \u001b[32m━━━━━━━━━━━━━━━━━━━━\u001b[0m\u001b[37m\u001b[0m \u001b[1m0s\u001b[0m 243us/step\n",
      "16 neurons time to train: 41.6s, MSE: 0.4337, R²: -0.1346, ACC: 0.8804\n"
     ]
    }
   ],
   "source": [
    "# Cell 2: 6 layer neural network with 16 neurons\n",
    "#         Build, train & evaluate 8-unit model\n",
    "import time \n",
    "# numpy as np\n",
    "from sklearn.metrics import mean_squared_error, r2_score, accuracy_score\n",
    "\n",
    "model_16_neurons = make_model(16)\n",
    "model_16_neurons.summary()\n",
    "\n",
    "start = time.time()\n",
    "history_16 = model_16_neurons.fit(\n",
    "    X_train_norm, y_train,\n",
    "    epochs=20, batch_size=32,\n",
    "    validation_split=0.1, verbose=1\n",
    ")\n",
    "train_time_16 = time.time() - start\n",
    "\n",
    "y_pred_16 = model_16_neurons.predict(X_test_norm).argmax(axis=1)\n",
    "mse_16 = mean_squared_error(y_test, y_pred_16)\n",
    "r2_16  = r2_score(y_test, y_pred_16)\n",
    "acc_16 = accuracy_score(y_test, y_pred_16)\n",
    "\n",
    "print(f\"16 neurons time to train: {train_time_16:.1f}s, MSE: {mse_16:.4f}, R²: {r2_16:.4f}, ACC: {acc_16:.4f}\")\n"
   ]
  },
  {
   "cell_type": "code",
   "execution_count": null,
   "id": "c79cf80d",
   "metadata": {},
   "outputs": [
    {
     "data": {
      "text/html": [
       "<pre style=\"white-space:pre;overflow-x:auto;line-height:normal;font-family:Menlo,'DejaVu Sans Mono',consolas,'Courier New',monospace\"><span style=\"font-weight: bold\">Model: \"sequential_2\"</span>\n",
       "</pre>\n"
      ],
      "text/plain": [
       "\u001b[1mModel: \"sequential_2\"\u001b[0m\n"
      ]
     },
     "metadata": {},
     "output_type": "display_data"
    },
    {
     "data": {
      "text/html": [
       "<pre style=\"white-space:pre;overflow-x:auto;line-height:normal;font-family:Menlo,'DejaVu Sans Mono',consolas,'Courier New',monospace\">┏━━━━━━━━━━━━━━━━━━━━━━━━━━━━━━━━━┳━━━━━━━━━━━━━━━━━━━━━━━━┳━━━━━━━━━━━━━━━┓\n",
       "┃<span style=\"font-weight: bold\"> Layer (type)                    </span>┃<span style=\"font-weight: bold\"> Output Shape           </span>┃<span style=\"font-weight: bold\">       Param # </span>┃\n",
       "┡━━━━━━━━━━━━━━━━━━━━━━━━━━━━━━━━━╇━━━━━━━━━━━━━━━━━━━━━━━━╇━━━━━━━━━━━━━━━┩\n",
       "│ dense_14 (<span style=\"color: #0087ff; text-decoration-color: #0087ff\">Dense</span>)                │ (<span style=\"color: #00d7ff; text-decoration-color: #00d7ff\">None</span>, <span style=\"color: #00af00; text-decoration-color: #00af00\">21</span>)             │           <span style=\"color: #00af00; text-decoration-color: #00af00\">294</span> │\n",
       "├─────────────────────────────────┼────────────────────────┼───────────────┤\n",
       "│ dense_15 (<span style=\"color: #0087ff; text-decoration-color: #0087ff\">Dense</span>)                │ (<span style=\"color: #00d7ff; text-decoration-color: #00d7ff\">None</span>, <span style=\"color: #00af00; text-decoration-color: #00af00\">21</span>)             │           <span style=\"color: #00af00; text-decoration-color: #00af00\">462</span> │\n",
       "├─────────────────────────────────┼────────────────────────┼───────────────┤\n",
       "│ dense_16 (<span style=\"color: #0087ff; text-decoration-color: #0087ff\">Dense</span>)                │ (<span style=\"color: #00d7ff; text-decoration-color: #00d7ff\">None</span>, <span style=\"color: #00af00; text-decoration-color: #00af00\">21</span>)             │           <span style=\"color: #00af00; text-decoration-color: #00af00\">462</span> │\n",
       "├─────────────────────────────────┼────────────────────────┼───────────────┤\n",
       "│ dense_17 (<span style=\"color: #0087ff; text-decoration-color: #0087ff\">Dense</span>)                │ (<span style=\"color: #00d7ff; text-decoration-color: #00d7ff\">None</span>, <span style=\"color: #00af00; text-decoration-color: #00af00\">21</span>)             │           <span style=\"color: #00af00; text-decoration-color: #00af00\">462</span> │\n",
       "├─────────────────────────────────┼────────────────────────┼───────────────┤\n",
       "│ dense_18 (<span style=\"color: #0087ff; text-decoration-color: #0087ff\">Dense</span>)                │ (<span style=\"color: #00d7ff; text-decoration-color: #00d7ff\">None</span>, <span style=\"color: #00af00; text-decoration-color: #00af00\">21</span>)             │           <span style=\"color: #00af00; text-decoration-color: #00af00\">462</span> │\n",
       "├─────────────────────────────────┼────────────────────────┼───────────────┤\n",
       "│ dense_19 (<span style=\"color: #0087ff; text-decoration-color: #0087ff\">Dense</span>)                │ (<span style=\"color: #00d7ff; text-decoration-color: #00d7ff\">None</span>, <span style=\"color: #00af00; text-decoration-color: #00af00\">21</span>)             │           <span style=\"color: #00af00; text-decoration-color: #00af00\">462</span> │\n",
       "├─────────────────────────────────┼────────────────────────┼───────────────┤\n",
       "│ dense_20 (<span style=\"color: #0087ff; text-decoration-color: #0087ff\">Dense</span>)                │ (<span style=\"color: #00d7ff; text-decoration-color: #00d7ff\">None</span>, <span style=\"color: #00af00; text-decoration-color: #00af00\">3</span>)              │            <span style=\"color: #00af00; text-decoration-color: #00af00\">66</span> │\n",
       "└─────────────────────────────────┴────────────────────────┴───────────────┘\n",
       "</pre>\n"
      ],
      "text/plain": [
       "┏━━━━━━━━━━━━━━━━━━━━━━━━━━━━━━━━━┳━━━━━━━━━━━━━━━━━━━━━━━━┳━━━━━━━━━━━━━━━┓\n",
       "┃\u001b[1m \u001b[0m\u001b[1mLayer (type)                   \u001b[0m\u001b[1m \u001b[0m┃\u001b[1m \u001b[0m\u001b[1mOutput Shape          \u001b[0m\u001b[1m \u001b[0m┃\u001b[1m \u001b[0m\u001b[1m      Param #\u001b[0m\u001b[1m \u001b[0m┃\n",
       "┡━━━━━━━━━━━━━━━━━━━━━━━━━━━━━━━━━╇━━━━━━━━━━━━━━━━━━━━━━━━╇━━━━━━━━━━━━━━━┩\n",
       "│ dense_14 (\u001b[38;5;33mDense\u001b[0m)                │ (\u001b[38;5;45mNone\u001b[0m, \u001b[38;5;34m21\u001b[0m)             │           \u001b[38;5;34m294\u001b[0m │\n",
       "├─────────────────────────────────┼────────────────────────┼───────────────┤\n",
       "│ dense_15 (\u001b[38;5;33mDense\u001b[0m)                │ (\u001b[38;5;45mNone\u001b[0m, \u001b[38;5;34m21\u001b[0m)             │           \u001b[38;5;34m462\u001b[0m │\n",
       "├─────────────────────────────────┼────────────────────────┼───────────────┤\n",
       "│ dense_16 (\u001b[38;5;33mDense\u001b[0m)                │ (\u001b[38;5;45mNone\u001b[0m, \u001b[38;5;34m21\u001b[0m)             │           \u001b[38;5;34m462\u001b[0m │\n",
       "├─────────────────────────────────┼────────────────────────┼───────────────┤\n",
       "│ dense_17 (\u001b[38;5;33mDense\u001b[0m)                │ (\u001b[38;5;45mNone\u001b[0m, \u001b[38;5;34m21\u001b[0m)             │           \u001b[38;5;34m462\u001b[0m │\n",
       "├─────────────────────────────────┼────────────────────────┼───────────────┤\n",
       "│ dense_18 (\u001b[38;5;33mDense\u001b[0m)                │ (\u001b[38;5;45mNone\u001b[0m, \u001b[38;5;34m21\u001b[0m)             │           \u001b[38;5;34m462\u001b[0m │\n",
       "├─────────────────────────────────┼────────────────────────┼───────────────┤\n",
       "│ dense_19 (\u001b[38;5;33mDense\u001b[0m)                │ (\u001b[38;5;45mNone\u001b[0m, \u001b[38;5;34m21\u001b[0m)             │           \u001b[38;5;34m462\u001b[0m │\n",
       "├─────────────────────────────────┼────────────────────────┼───────────────┤\n",
       "│ dense_20 (\u001b[38;5;33mDense\u001b[0m)                │ (\u001b[38;5;45mNone\u001b[0m, \u001b[38;5;34m3\u001b[0m)              │            \u001b[38;5;34m66\u001b[0m │\n",
       "└─────────────────────────────────┴────────────────────────┴───────────────┘\n"
      ]
     },
     "metadata": {},
     "output_type": "display_data"
    },
    {
     "data": {
      "text/html": [
       "<pre style=\"white-space:pre;overflow-x:auto;line-height:normal;font-family:Menlo,'DejaVu Sans Mono',consolas,'Courier New',monospace\"><span style=\"font-weight: bold\"> Total params: </span><span style=\"color: #00af00; text-decoration-color: #00af00\">2,670</span> (10.43 KB)\n",
       "</pre>\n"
      ],
      "text/plain": [
       "\u001b[1m Total params: \u001b[0m\u001b[38;5;34m2,670\u001b[0m (10.43 KB)\n"
      ]
     },
     "metadata": {},
     "output_type": "display_data"
    },
    {
     "data": {
      "text/html": [
       "<pre style=\"white-space:pre;overflow-x:auto;line-height:normal;font-family:Menlo,'DejaVu Sans Mono',consolas,'Courier New',monospace\"><span style=\"font-weight: bold\"> Trainable params: </span><span style=\"color: #00af00; text-decoration-color: #00af00\">2,670</span> (10.43 KB)\n",
       "</pre>\n"
      ],
      "text/plain": [
       "\u001b[1m Trainable params: \u001b[0m\u001b[38;5;34m2,670\u001b[0m (10.43 KB)\n"
      ]
     },
     "metadata": {},
     "output_type": "display_data"
    },
    {
     "data": {
      "text/html": [
       "<pre style=\"white-space:pre;overflow-x:auto;line-height:normal;font-family:Menlo,'DejaVu Sans Mono',consolas,'Courier New',monospace\"><span style=\"font-weight: bold\"> Non-trainable params: </span><span style=\"color: #00af00; text-decoration-color: #00af00\">0</span> (0.00 B)\n",
       "</pre>\n"
      ],
      "text/plain": [
       "\u001b[1m Non-trainable params: \u001b[0m\u001b[38;5;34m0\u001b[0m (0.00 B)\n"
      ]
     },
     "metadata": {},
     "output_type": "display_data"
    },
    {
     "name": "stdout",
     "output_type": "stream",
     "text": [
      "Epoch 1/20\n",
      "\u001b[1m3700/3700\u001b[0m \u001b[32m━━━━━━━━━━━━━━━━━━━━\u001b[0m\u001b[37m\u001b[0m \u001b[1m3s\u001b[0m 540us/step - accuracy: 0.8651 - loss: 0.4181 - val_accuracy: 0.8785 - val_loss: 0.3545\n",
      "Epoch 2/20\n",
      "\u001b[1m3700/3700\u001b[0m \u001b[32m━━━━━━━━━━━━━━━━━━━━\u001b[0m\u001b[37m\u001b[0m \u001b[1m2s\u001b[0m 519us/step - accuracy: 0.8816 - loss: 0.3422 - val_accuracy: 0.8788 - val_loss: 0.3475\n",
      "Epoch 3/20\n",
      "\u001b[1m3700/3700\u001b[0m \u001b[32m━━━━━━━━━━━━━━━━━━━━\u001b[0m\u001b[37m\u001b[0m \u001b[1m2s\u001b[0m 510us/step - accuracy: 0.8810 - loss: 0.3429 - val_accuracy: 0.8787 - val_loss: 0.3500\n",
      "Epoch 4/20\n",
      "\u001b[1m3700/3700\u001b[0m \u001b[32m━━━━━━━━━━━━━━━━━━━━\u001b[0m\u001b[37m\u001b[0m \u001b[1m2s\u001b[0m 516us/step - accuracy: 0.8799 - loss: 0.3445 - val_accuracy: 0.8786 - val_loss: 0.3466\n",
      "Epoch 5/20\n",
      "\u001b[1m3700/3700\u001b[0m \u001b[32m━━━━━━━━━━━━━━━━━━━━\u001b[0m\u001b[37m\u001b[0m \u001b[1m2s\u001b[0m 520us/step - accuracy: 0.8811 - loss: 0.3418 - val_accuracy: 0.8785 - val_loss: 0.3485\n",
      "Epoch 6/20\n",
      "\u001b[1m3700/3700\u001b[0m \u001b[32m━━━━━━━━━━━━━━━━━━━━\u001b[0m\u001b[37m\u001b[0m \u001b[1m2s\u001b[0m 520us/step - accuracy: 0.8807 - loss: 0.3433 - val_accuracy: 0.8783 - val_loss: 0.3570\n",
      "Epoch 7/20\n",
      "\u001b[1m3700/3700\u001b[0m \u001b[32m━━━━━━━━━━━━━━━━━━━━\u001b[0m\u001b[37m\u001b[0m \u001b[1m2s\u001b[0m 559us/step - accuracy: 0.8825 - loss: 0.3378 - val_accuracy: 0.8786 - val_loss: 0.3479\n",
      "Epoch 8/20\n",
      "\u001b[1m3700/3700\u001b[0m \u001b[32m━━━━━━━━━━━━━━━━━━━━\u001b[0m\u001b[37m\u001b[0m \u001b[1m2s\u001b[0m 521us/step - accuracy: 0.8802 - loss: 0.3418 - val_accuracy: 0.8785 - val_loss: 0.3480\n",
      "Epoch 9/20\n",
      "\u001b[1m3700/3700\u001b[0m \u001b[32m━━━━━━━━━━━━━━━━━━━━\u001b[0m\u001b[37m\u001b[0m \u001b[1m2s\u001b[0m 544us/step - accuracy: 0.8803 - loss: 0.3435 - val_accuracy: 0.8789 - val_loss: 0.3481\n",
      "Epoch 10/20\n",
      "\u001b[1m3700/3700\u001b[0m \u001b[32m━━━━━━━━━━━━━━━━━━━━\u001b[0m\u001b[37m\u001b[0m \u001b[1m2s\u001b[0m 523us/step - accuracy: 0.8807 - loss: 0.3412 - val_accuracy: 0.8793 - val_loss: 0.3468\n",
      "Epoch 11/20\n",
      "\u001b[1m3700/3700\u001b[0m \u001b[32m━━━━━━━━━━━━━━━━━━━━\u001b[0m\u001b[37m\u001b[0m \u001b[1m2s\u001b[0m 509us/step - accuracy: 0.8805 - loss: 0.3444 - val_accuracy: 0.8790 - val_loss: 0.3470\n",
      "Epoch 12/20\n",
      "\u001b[1m3700/3700\u001b[0m \u001b[32m━━━━━━━━━━━━━━━━━━━━\u001b[0m\u001b[37m\u001b[0m \u001b[1m2s\u001b[0m 519us/step - accuracy: 0.8797 - loss: 0.3437 - val_accuracy: 0.8783 - val_loss: 0.3469\n",
      "Epoch 13/20\n",
      "\u001b[1m3700/3700\u001b[0m \u001b[32m━━━━━━━━━━━━━━━━━━━━\u001b[0m\u001b[37m\u001b[0m \u001b[1m2s\u001b[0m 511us/step - accuracy: 0.8821 - loss: 0.3402 - val_accuracy: 0.8785 - val_loss: 0.3477\n",
      "Epoch 14/20\n",
      "\u001b[1m3700/3700\u001b[0m \u001b[32m━━━━━━━━━━━━━━━━━━━━\u001b[0m\u001b[37m\u001b[0m \u001b[1m2s\u001b[0m 554us/step - accuracy: 0.8808 - loss: 0.3416 - val_accuracy: 0.8791 - val_loss: 0.3472\n",
      "Epoch 15/20\n",
      "\u001b[1m3700/3700\u001b[0m \u001b[32m━━━━━━━━━━━━━━━━━━━━\u001b[0m\u001b[37m\u001b[0m \u001b[1m2s\u001b[0m 609us/step - accuracy: 0.8803 - loss: 0.3423 - val_accuracy: 0.8784 - val_loss: 0.3473\n",
      "Epoch 16/20\n",
      "\u001b[1m3700/3700\u001b[0m \u001b[32m━━━━━━━━━━━━━━━━━━━━\u001b[0m\u001b[37m\u001b[0m \u001b[1m2s\u001b[0m 550us/step - accuracy: 0.8814 - loss: 0.3405 - val_accuracy: 0.8789 - val_loss: 0.3500\n",
      "Epoch 17/20\n",
      "\u001b[1m3700/3700\u001b[0m \u001b[32m━━━━━━━━━━━━━━━━━━━━\u001b[0m\u001b[37m\u001b[0m \u001b[1m2s\u001b[0m 550us/step - accuracy: 0.8813 - loss: 0.3427 - val_accuracy: 0.8792 - val_loss: 0.3499\n",
      "Epoch 18/20\n",
      "\u001b[1m3700/3700\u001b[0m \u001b[32m━━━━━━━━━━━━━━━━━━━━\u001b[0m\u001b[37m\u001b[0m \u001b[1m2s\u001b[0m 583us/step - accuracy: 0.8793 - loss: 0.3455 - val_accuracy: 0.8788 - val_loss: 0.3486\n",
      "Epoch 19/20\n",
      "\u001b[1m3700/3700\u001b[0m \u001b[32m━━━━━━━━━━━━━━━━━━━━\u001b[0m\u001b[37m\u001b[0m \u001b[1m2s\u001b[0m 546us/step - accuracy: 0.8824 - loss: 0.3367 - val_accuracy: 0.8792 - val_loss: 0.3479\n",
      "Epoch 20/20\n",
      "\u001b[1m3700/3700\u001b[0m \u001b[32m━━━━━━━━━━━━━━━━━━━━\u001b[0m\u001b[37m\u001b[0m \u001b[1m2s\u001b[0m 528us/step - accuracy: 0.8826 - loss: 0.3369 - val_accuracy: 0.8785 - val_loss: 0.3485\n",
      "\u001b[1m1028/1028\u001b[0m \u001b[32m━━━━━━━━━━━━━━━━━━━━\u001b[0m\u001b[37m\u001b[0m \u001b[1m0s\u001b[0m 232us/step\n",
      "21 neurons time to train: 40.6s, MSE: 0.4337, R²: -0.1346, ACC: 0.8804\n"
     ]
    }
   ],
   "source": [
    "# Cell 2: 6 layer neural network with 21 neurons\n",
    "#         Build, train & evaluate 8-unit model\n",
    "import time \n",
    "# numpy as np\n",
    "from sklearn.metrics import mean_squared_error, r2_score, accuracy_score\n",
    "\n",
    "model_21_neurons = make_model(21)\n",
    "model_21_neurons.summary()\n",
    "\n",
    "start = time.time()\n",
    "history_21 = model_21_neurons.fit(\n",
    "    X_train_norm, y_train,\n",
    "    epochs=20, batch_size=32,\n",
    "    validation_split=0.1, verbose=1\n",
    ")\n",
    "train_time_21 = time.time() - start\n",
    "\n",
    "y_pred_21 = model_16_neurons.predict(X_test_norm).argmax(axis=1)\n",
    "mse_21 = mean_squared_error(y_test, y_pred_16)\n",
    "r2_21  = r2_score(y_test, y_pred_16)\n",
    "acc_21 = accuracy_score(y_test, y_pred_16)\n",
    "\n",
    "print(f\"21 neurons time to train: {train_time_21:.1f}s, MSE: {mse_21:.4f}, R²: {r2_21:.4f}, ACC: {acc_21:.4f}\")\n"
   ]
  },
  {
   "cell_type": "code",
   "execution_count": null,
   "id": "43e5e7a8",
   "metadata": {},
   "outputs": [],
   "source": [
    "# ─── Cell 3: RandomSearch over the refined space ───────────────────────────────\n",
    "import keras_tuner as kt\n",
    "from tensorflow.keras.callbacks import EarlyStopping\n",
    "\n",
    "tuner = kt.RandomSearch(\n",
    "    build_model,\n",
    "    objective='val_accuracy',\n",
    "    max_trials=20,\n",
    "    directory='kt_dir',\n",
    "    project_name='diabetes_mlp_refined'\n",
    ")\n",
    "\n",
    "stop_early = EarlyStopping(monitor='val_loss', patience=3, restore_best_weights=True)\n",
    "\n",
    "tuner.search(\n",
    "    X_train, y_train,\n",
    "    epochs=30,\n",
    "    validation_split=0.1,\n",
    "    callbacks=[stop_early],\n",
    "    class_weight=class_weights,\n",
    "    batch_size=hp.Choice('batch_size', [32, 64, 128]),  # include batch_size if you like\n",
    "    verbose=1\n",
    ")\n"
   ]
  },
  {
   "cell_type": "code",
   "execution_count": null,
   "id": "e253f43f",
   "metadata": {},
   "outputs": [
    {
     "data": {
      "text/html": [
       "<div>\n",
       "<style scoped>\n",
       "    .dataframe tbody tr th:only-of-type {\n",
       "        vertical-align: middle;\n",
       "    }\n",
       "\n",
       "    .dataframe tbody tr th {\n",
       "        vertical-align: top;\n",
       "    }\n",
       "\n",
       "    .dataframe thead th {\n",
       "        text-align: right;\n",
       "    }\n",
       "</style>\n",
       "<table border=\"1\" class=\"dataframe\">\n",
       "  <thead>\n",
       "    <tr style=\"text-align: right;\">\n",
       "      <th></th>\n",
       "      <th>Units</th>\n",
       "      <th>Time(s)</th>\n",
       "      <th>MSE</th>\n",
       "      <th>R²</th>\n",
       "      <th>Acc</th>\n",
       "    </tr>\n",
       "  </thead>\n",
       "  <tbody>\n",
       "    <tr>\n",
       "      <th>0</th>\n",
       "      <td>8</td>\n",
       "      <td>41.586077</td>\n",
       "      <td>0.432211</td>\n",
       "      <td>-0.130769</td>\n",
       "      <td>0.880750</td>\n",
       "    </tr>\n",
       "    <tr>\n",
       "      <th>1</th>\n",
       "      <td>16</td>\n",
       "      <td>41.644246</td>\n",
       "      <td>0.433671</td>\n",
       "      <td>-0.134588</td>\n",
       "      <td>0.880386</td>\n",
       "    </tr>\n",
       "    <tr>\n",
       "      <th>2</th>\n",
       "      <td>21</td>\n",
       "      <td>40.587177</td>\n",
       "      <td>0.433671</td>\n",
       "      <td>-0.134588</td>\n",
       "      <td>0.880386</td>\n",
       "    </tr>\n",
       "    <tr>\n",
       "      <th>3</th>\n",
       "      <td>32</td>\n",
       "      <td>45.285154</td>\n",
       "      <td>0.430995</td>\n",
       "      <td>-0.127587</td>\n",
       "      <td>0.881054</td>\n",
       "    </tr>\n",
       "  </tbody>\n",
       "</table>\n",
       "</div>"
      ],
      "text/plain": [
       "   Units    Time(s)       MSE        R²       Acc\n",
       "0      8  41.586077  0.432211 -0.130769  0.880750\n",
       "1     16  41.644246  0.433671 -0.134588  0.880386\n",
       "2     21  40.587177  0.433671 -0.134588  0.880386\n",
       "3     32  45.285154  0.430995 -0.127587  0.881054"
      ]
     },
     "metadata": {},
     "output_type": "display_data"
    }
   ],
   "source": [
    "# Table of results\n",
    "import pandas as pd\n",
    "\n",
    "results = [\n",
    "    (8,  train_time_8,  mse_8,  r2_8,  acc_8),\n",
    "    (16, train_time_16, mse_16, r2_16, acc_16),\n",
    "    (21, train_time_21, mse_21, r2_21, acc_21),\n",
    "    (32, train_time_32, mse_32, r2_32, acc_32),\n",
    "]\n",
    "df = pd.DataFrame(results, columns=['Units','Time(s)','MSE','R²','Acc'])\n",
    "display(df)\n"
   ]
  },
  {
   "cell_type": "markdown",
   "id": "7284057a",
   "metadata": {},
   "source": [
    "## Hyperparameter Tuning - 8 Neurons\n",
    "\n",
    "---"
   ]
  },
  {
   "cell_type": "code",
   "execution_count": 8,
   "id": "725e489c",
   "metadata": {},
   "outputs": [
    {
     "name": "stdout",
     "output_type": "stream",
     "text": [
      "Requirement already satisfied: keras-tuner in ./venv310/lib/python3.10/site-packages (1.4.7)\n",
      "Requirement already satisfied: requests in ./venv310/lib/python3.10/site-packages (from keras-tuner) (2.32.3)\n",
      "Requirement already satisfied: keras in ./venv310/lib/python3.10/site-packages (from keras-tuner) (3.9.2)\n",
      "Requirement already satisfied: packaging in ./venv310/lib/python3.10/site-packages (from keras-tuner) (25.0)\n",
      "Requirement already satisfied: kt-legacy in ./venv310/lib/python3.10/site-packages (from keras-tuner) (1.0.5)\n",
      "Requirement already satisfied: optree in ./venv310/lib/python3.10/site-packages (from keras->keras-tuner) (0.15.0)\n",
      "Requirement already satisfied: h5py in ./venv310/lib/python3.10/site-packages (from keras->keras-tuner) (3.13.0)\n",
      "Requirement already satisfied: absl-py in ./venv310/lib/python3.10/site-packages (from keras->keras-tuner) (2.2.2)\n",
      "Requirement already satisfied: ml-dtypes in ./venv310/lib/python3.10/site-packages (from keras->keras-tuner) (0.5.1)\n",
      "Requirement already satisfied: numpy in ./venv310/lib/python3.10/site-packages (from keras->keras-tuner) (2.1.3)\n",
      "Requirement already satisfied: rich in ./venv310/lib/python3.10/site-packages (from keras->keras-tuner) (14.0.0)\n",
      "Requirement already satisfied: namex in ./venv310/lib/python3.10/site-packages (from keras->keras-tuner) (0.0.9)\n",
      "Requirement already satisfied: charset-normalizer<4,>=2 in ./venv310/lib/python3.10/site-packages (from requests->keras-tuner) (3.4.2)\n",
      "Requirement already satisfied: certifi>=2017.4.17 in ./venv310/lib/python3.10/site-packages (from requests->keras-tuner) (2025.4.26)\n",
      "Requirement already satisfied: idna<4,>=2.5 in ./venv310/lib/python3.10/site-packages (from requests->keras-tuner) (3.10)\n",
      "Requirement already satisfied: urllib3<3,>=1.21.1 in ./venv310/lib/python3.10/site-packages (from requests->keras-tuner) (2.4.0)\n",
      "Requirement already satisfied: typing-extensions>=4.5.0 in ./venv310/lib/python3.10/site-packages (from optree->keras->keras-tuner) (4.13.2)\n",
      "Requirement already satisfied: pygments<3.0.0,>=2.13.0 in ./venv310/lib/python3.10/site-packages (from rich->keras->keras-tuner) (2.19.1)\n",
      "Requirement already satisfied: markdown-it-py>=2.2.0 in ./venv310/lib/python3.10/site-packages (from rich->keras->keras-tuner) (3.0.0)\n",
      "Requirement already satisfied: mdurl~=0.1 in ./venv310/lib/python3.10/site-packages (from markdown-it-py>=2.2.0->rich->keras->keras-tuner) (0.1.2)\n",
      "\n",
      "\u001b[1m[\u001b[0m\u001b[34;49mnotice\u001b[0m\u001b[1;39;49m]\u001b[0m\u001b[39;49m A new release of pip is available: \u001b[0m\u001b[31;49m23.0.1\u001b[0m\u001b[39;49m -> \u001b[0m\u001b[32;49m25.1.1\u001b[0m\n",
      "\u001b[1m[\u001b[0m\u001b[34;49mnotice\u001b[0m\u001b[1;39;49m]\u001b[0m\u001b[39;49m To update, run: \u001b[0m\u001b[32;49mpip install --upgrade pip\u001b[0m\n",
      "Note: you may need to restart the kernel to use updated packages.\n",
      "Class weights: {0: np.float64(0.37846720368239356), 1: np.float64(22.306565382528486), 2: np.float64(3.1955693742712787)}\n"
     ]
    }
   ],
   "source": [
    "# Cell 1: Install & Data Prep\n",
    "%pip install --upgrade keras-tuner\n",
    "\n",
    "import pandas as pd\n",
    "from sklearn.model_selection import train_test_split\n",
    "from sklearn.preprocessing import StandardScaler\n",
    "from sklearn.utils import class_weight\n",
    "import numpy as np\n",
    "\n",
    "# 1) Load & split\n",
    "df = pd.read_csv('cleaned_diabetes.csv')\n",
    "X = df.drop('Diabetes_012', axis=1).values\n",
    "y = df['Diabetes_012'].values\n",
    "\n",
    "X_train, X_test, y_train, y_test = train_test_split(\n",
    "    X, y,\n",
    "    test_size=0.25,\n",
    "    random_state=42,\n",
    "    stratify=y\n",
    ")\n",
    "\n",
    "# 2) Scale\n",
    "scaler = StandardScaler().fit(X_train)\n",
    "X_train = scaler.transform(X_train)\n",
    "X_test  = scaler.transform(X_test)\n",
    "\n",
    "n_features = X_train.shape[1]\n",
    "\n",
    "# 3) Compute class weights to handle imbalance\n",
    "raw_w = class_weight.compute_class_weight(\n",
    "    class_weight='balanced',\n",
    "    classes=np.unique(y_train),\n",
    "    y=y_train\n",
    ")\n",
    "class_weights = dict(enumerate(raw_w))\n",
    "print(\"Class weights:\", class_weights)\n"
   ]
  },
  {
   "cell_type": "code",
   "execution_count": 9,
   "id": "8b4949d9",
   "metadata": {},
   "outputs": [],
   "source": [
    "# Cell 2: Model‐Builder with 4 tunable knobs\n",
    "\n",
    "from tensorflow.keras import Sequential, Input\n",
    "from tensorflow.keras.layers import Dense, Dropout\n",
    "from tensorflow.keras.regularizers import l2\n",
    "from tensorflow.keras.optimizers import SGD, Adam\n",
    "\n",
    "def build_model(hp):\n",
    "    # 1) L2 regularization\n",
    "    reg = hp.Choice('reg_lambda', [0.0, 1e-4, 1e-3])\n",
    "    # 2) Learning rate\n",
    "    lr  = hp.Choice('learning_rate', [1e-2, 1e-3, 1e-4])\n",
    "    # 3) Dropout rate\n",
    "    dr  = hp.Choice('dropout_rate', [0.0, 0.2, 0.5])\n",
    "    # 4) Optimizer type\n",
    "    opt_name = hp.Choice('optimizer', ['sgd', 'adam'])\n",
    "    if opt_name == 'sgd':\n",
    "        mo = hp.Choice('momentum', [0.0, 0.5, 0.9])\n",
    "        optimizer = SGD(learning_rate=lr, momentum=mo)\n",
    "    else:\n",
    "        optimizer = Adam(learning_rate=lr)\n",
    "\n",
    "    model = Sequential([ Input(shape=(n_features,)) ])\n",
    "    for _ in range(6):\n",
    "        model.add(Dense(8,\n",
    "                        activation='relu',\n",
    "                        kernel_regularizer=l2(reg)))\n",
    "        if dr > 0:\n",
    "            model.add(Dropout(dr))\n",
    "    model.add(Dense(3, activation='softmax'))\n",
    "\n",
    "    model.compile(\n",
    "        optimizer=optimizer,\n",
    "        loss='sparse_categorical_crossentropy',\n",
    "        metrics=['accuracy']\n",
    "    )\n",
    "    return model\n"
   ]
  },
  {
   "cell_type": "code",
   "execution_count": 10,
   "id": "08c3786c",
   "metadata": {},
   "outputs": [
    {
     "name": "stdout",
     "output_type": "stream",
     "text": [
      "Trial 20 Complete [00h 00m 10s]\n",
      "val_accuracy: 0.6383168697357178\n",
      "\n",
      "Best val_accuracy So Far: 0.8774120211601257\n",
      "Total elapsed time: 00h 07m 48s\n"
     ]
    }
   ],
   "source": [
    "# Cell 3: RandomizedSearch over those 4 knobs\n",
    "\n",
    "import keras_tuner as kt\n",
    "from tensorflow.keras.callbacks import EarlyStopping\n",
    "\n",
    "tuner = kt.RandomSearch(\n",
    "    build_model,\n",
    "    objective='val_accuracy',\n",
    "    max_trials=20,              # try 20 random combos\n",
    "    executions_per_trial=1,\n",
    "    directory='kt_dir',\n",
    "    project_name='diabetes_mlp'\n",
    ")\n",
    "\n",
    "stop_early = EarlyStopping(monitor='val_loss', patience=3, restore_best_weights=True)\n",
    "\n",
    "tuner.search(\n",
    "    X_train, y_train,\n",
    "    epochs=30,\n",
    "    validation_split=0.1,\n",
    "    callbacks=[stop_early],\n",
    "    class_weight=class_weights,  # rebalance classes in the loss\n",
    "    verbose=1\n",
    ")\n"
   ]
  },
  {
   "cell_type": "code",
   "execution_count": 11,
   "id": "842d6de4",
   "metadata": {},
   "outputs": [
    {
     "name": "stdout",
     "output_type": "stream",
     "text": [
      "Best hyperparameters: {'reg_lambda': 0.0001, 'learning_rate': 0.01, 'dropout_rate': 0.5, 'optimizer': 'sgd', 'momentum': 0.9}\n",
      "Epoch 1/30\n",
      "\u001b[1m3469/3469\u001b[0m \u001b[32m━━━━━━━━━━━━━━━━━━━━\u001b[0m\u001b[37m\u001b[0m \u001b[1m3s\u001b[0m 614us/step - accuracy: 0.2483 - loss: 1.1244 - val_accuracy: 0.8774 - val_loss: 1.0468\n",
      "Epoch 2/30\n",
      "\u001b[1m3469/3469\u001b[0m \u001b[32m━━━━━━━━━━━━━━━━━━━━\u001b[0m\u001b[37m\u001b[0m \u001b[1m2s\u001b[0m 551us/step - accuracy: 0.2977 - loss: 1.1081 - val_accuracy: 0.0161 - val_loss: 1.2271\n",
      "Epoch 3/30\n",
      "\u001b[1m3469/3469\u001b[0m \u001b[32m━━━━━━━━━━━━━━━━━━━━\u001b[0m\u001b[37m\u001b[0m \u001b[1m2s\u001b[0m 546us/step - accuracy: 0.2338 - loss: 1.1125 - val_accuracy: 0.0161 - val_loss: 1.1295\n",
      "Epoch 4/30\n",
      "\u001b[1m3469/3469\u001b[0m \u001b[32m━━━━━━━━━━━━━━━━━━━━\u001b[0m\u001b[37m\u001b[0m \u001b[1m2s\u001b[0m 547us/step - accuracy: 0.2144 - loss: 1.1072 - val_accuracy: 0.0161 - val_loss: 1.1209\n",
      "\u001b[1m1285/1285\u001b[0m \u001b[32m━━━━━━━━━━━━━━━━━━━━\u001b[0m\u001b[37m\u001b[0m \u001b[1m0s\u001b[0m 251us/step\n",
      "\n",
      "Test set classification report:\n",
      "              precision    recall  f1-score   support\n",
      "\n",
      "           0     0.8808    1.0000    0.9366     36209\n",
      "           1     0.0000    0.0000    0.0000       614\n",
      "           2     0.0000    0.0000    0.0000      4288\n",
      "\n",
      "    accuracy                         0.8808     41111\n",
      "   macro avg     0.2936    0.3333    0.3122     41111\n",
      "weighted avg     0.7757    0.8808    0.8249     41111\n",
      "\n",
      "Confusion matrix:\n",
      " [[36209     0     0]\n",
      " [  614     0     0]\n",
      " [ 4288     0     0]]\n"
     ]
    }
   ],
   "source": [
    "# Cell 4: Rebuild best model and evaluate on test set\n",
    "\n",
    "from sklearn.metrics import classification_report, confusion_matrix\n",
    "\n",
    "best_hp = tuner.get_best_hyperparameters(1)[0]\n",
    "print(\"Best hyperparameters:\", best_hp.values)\n",
    "\n",
    "final_model = tuner.hypermodel.build(best_hp)\n",
    "final_model.fit(\n",
    "    X_train, y_train,\n",
    "    epochs=30,\n",
    "    validation_split=0.1,\n",
    "    callbacks=[stop_early],\n",
    "    class_weight=class_weights,\n",
    "    verbose=1\n",
    ")\n",
    "\n",
    "y_pred = final_model.predict(X_test).argmax(axis=1)\n",
    "print(\"\\nTest set classification report:\")\n",
    "print(classification_report(y_test, y_pred, digits=4, zero_division=0))\n",
    "print(\"Confusion matrix:\\n\", confusion_matrix(y_test, y_pred))\n"
   ]
  },
  {
   "cell_type": "markdown",
   "id": "e894b2e1",
   "metadata": {},
   "source": [
    "## Double check\n",
    "\n",
    "---"
   ]
  }
 ],
 "metadata": {
  "kernelspec": {
   "display_name": "venv310",
   "language": "python",
   "name": "python3"
  },
  "language_info": {
   "codemirror_mode": {
    "name": "ipython",
    "version": 3
   },
   "file_extension": ".py",
   "mimetype": "text/x-python",
   "name": "python",
   "nbconvert_exporter": "python",
   "pygments_lexer": "ipython3",
   "version": "3.10.16"
  }
 },
 "nbformat": 4,
 "nbformat_minor": 5
}
