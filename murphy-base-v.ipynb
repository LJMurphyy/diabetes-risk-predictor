{
 "cells": [
  {
   "cell_type": "code",
   "execution_count": 2,
   "id": "c7674388",
   "metadata": {},
   "outputs": [
    {
     "name": "stdout",
     "output_type": "stream",
     "text": [
      "(164444, 14)\n",
      "Index(['Diabetes_012', 'HighBP', 'HighChol', 'BMI', 'HeartDiseaseorAttack',\n",
      "       'Veggies', 'NoDocbcCost', 'GenHlth', 'MentHlth', 'PhysHlth', 'DiffWalk',\n",
      "       'Age', 'Education', 'Income'],\n",
      "      dtype='object')\n",
      "<class 'pandas.core.frame.DataFrame'>\n",
      "RangeIndex: 164444 entries, 0 to 164443\n",
      "Data columns (total 14 columns):\n",
      " #   Column                Non-Null Count   Dtype\n",
      "---  ------                --------------   -----\n",
      " 0   Diabetes_012          164444 non-null  int64\n",
      " 1   HighBP                164444 non-null  int64\n",
      " 2   HighChol              164444 non-null  int64\n",
      " 3   BMI                   164444 non-null  int64\n",
      " 4   HeartDiseaseorAttack  164444 non-null  int64\n",
      " 5   Veggies               164444 non-null  int64\n",
      " 6   NoDocbcCost           164444 non-null  int64\n",
      " 7   GenHlth               164444 non-null  int64\n",
      " 8   MentHlth              164444 non-null  int64\n",
      " 9   PhysHlth              164444 non-null  int64\n",
      " 10  DiffWalk              164444 non-null  int64\n",
      " 11  Age                   164444 non-null  int64\n",
      " 12  Education             164444 non-null  int64\n",
      " 13  Income                164444 non-null  int64\n",
      "dtypes: int64(14)\n",
      "memory usage: 17.6 MB\n",
      "None\n",
      "        Diabetes_012         HighBP       HighChol            BMI  \\\n",
      "count  164444.000000  164444.000000  164444.000000  164444.000000   \n",
      "mean        0.223559       0.387457       0.399729      27.104242   \n",
      "std         0.618224       0.487171       0.489844       4.390891   \n",
      "min         0.000000       0.000000       0.000000      17.000000   \n",
      "25%         0.000000       0.000000       0.000000      24.000000   \n",
      "50%         0.000000       0.000000       0.000000      27.000000   \n",
      "75%         0.000000       1.000000       1.000000      30.000000   \n",
      "max         2.000000       1.000000       1.000000      38.000000   \n",
      "\n",
      "       HeartDiseaseorAttack        Veggies    NoDocbcCost        GenHlth  \\\n",
      "count         164444.000000  164444.000000  164444.000000  164444.000000   \n",
      "mean               0.070620       0.833767       0.048217       2.176814   \n",
      "std                0.256189       0.372291       0.214225       0.853608   \n",
      "min                0.000000       0.000000       0.000000       1.000000   \n",
      "25%                0.000000       1.000000       0.000000       2.000000   \n",
      "50%                0.000000       1.000000       0.000000       2.000000   \n",
      "75%                0.000000       1.000000       0.000000       3.000000   \n",
      "max                1.000000       1.000000       1.000000       4.000000   \n",
      "\n",
      "            MentHlth       PhysHlth       DiffWalk            Age  \\\n",
      "count  164444.000000  164444.000000  164444.000000  164444.000000   \n",
      "mean        0.318777       0.530168       0.073733       8.240763   \n",
      "std         0.846704       1.233307       0.261337       2.908681   \n",
      "min         0.000000       0.000000       0.000000       2.000000   \n",
      "25%         0.000000       0.000000       0.000000       6.000000   \n",
      "50%         0.000000       0.000000       0.000000       9.000000   \n",
      "75%         0.000000       0.000000       0.000000      10.000000   \n",
      "max         4.000000       6.000000       1.000000      13.000000   \n",
      "\n",
      "           Education         Income  \n",
      "count  164444.000000  164444.000000  \n",
      "mean        5.174631       6.543991  \n",
      "std         0.930704       1.690063  \n",
      "min         2.000000       2.000000  \n",
      "25%         4.000000       6.000000  \n",
      "50%         5.000000       7.000000  \n",
      "75%         6.000000       8.000000  \n",
      "max         6.000000       8.000000  \n"
     ]
    }
   ],
   "source": [
    "import pandas as pd\n",
    "\n",
    "df = pd.read_csv('cleaned_diabetes.csv')\n",
    "print(df.shape)\n",
    "print(df.columns)\n",
    "print(df.info())\n",
    "print(df.describe())"
   ]
  },
  {
   "cell_type": "code",
   "execution_count": null,
   "id": "5181b6f1",
   "metadata": {},
   "outputs": [],
   "source": []
  }
 ],
 "metadata": {
  "kernelspec": {
   "display_name": "diabetes-venv",
   "language": "python",
   "name": "python3"
  },
  "language_info": {
   "codemirror_mode": {
    "name": "ipython",
    "version": 3
   },
   "file_extension": ".py",
   "mimetype": "text/x-python",
   "name": "python",
   "nbconvert_exporter": "python",
   "pygments_lexer": "ipython3",
   "version": "3.11.12"
  }
 },
 "nbformat": 4,
 "nbformat_minor": 5
}
