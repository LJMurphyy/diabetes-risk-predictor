{
  "cells": [
    {
      "cell_type": "markdown",
      "id": "607754b7-66c1-4814-aa80-c5b42740037f",
      "metadata": {
        "id": "607754b7-66c1-4814-aa80-c5b42740037f"
      },
      "source": [
        "## Final Logistic Baseline Models (most updated dataset)\n",
        "\n",
        "Ran 4 different models, 2 with all 21 features and 2 with 13 features (8 removed)\n",
        "\n",
        "Important statistics:  \n",
        "\n",
        "- Model with best accuracy:  \n",
        "  - Binary Logistc Regression Model with 21 features, L1 reg, solver = 'lbfgs'  \n",
        "  - Accuracy = 91.06%"
      ]
    },
    {
      "cell_type": "code",
      "execution_count": null,
      "id": "233e7b6e-93a9-4590-abe7-52c6948f26de",
      "metadata": {
        "id": "233e7b6e-93a9-4590-abe7-52c6948f26de",
        "outputId": "b25ed7fb-c17d-477e-e5fa-704ffcdb9ae8"
      },
      "outputs": [
        {
          "name": "stdout",
          "output_type": "stream",
          "text": [
            "   Diabetes_binary  HighBP  HighChol  CholCheck  NEW_BMI_class  Smoker  \\\n",
            "0                0       1         0          1              0       0   \n",
            "1                0       1         1          1              0       1   \n",
            "2                0       0         0          1              0       0   \n",
            "3                0       1         1          1              0       1   \n",
            "4                0       0         0          1              0       1   \n",
            "\n",
            "   Stroke  HeartDiseaseorAttack  PhysActivity  Fruits  ...  AnyHealthcare  \\\n",
            "0       0                     0             1       0  ...              1   \n",
            "1       1                     0             0       1  ...              1   \n",
            "2       0                     0             1       1  ...              1   \n",
            "3       0                     0             1       1  ...              1   \n",
            "4       0                     0             1       1  ...              1   \n",
            "\n",
            "   NoDocbcCost  GenHlth  MetHlth_Class  PhyHlth_Class  DiffWalk  Sex  Age  \\\n",
            "0            0        3              1              3         0    1    4   \n",
            "1            0        3              0              0         0    1   12   \n",
            "2            0        1              0              1         0    1   13   \n",
            "3            0        3              0              1         0    1   11   \n",
            "4            0        2              0              0         0    0    8   \n",
            "\n",
            "   Education  Income  \n",
            "0          6       8  \n",
            "1          6       8  \n",
            "2          6       8  \n",
            "3          6       8  \n",
            "4          5       8  \n",
            "\n",
            "[5 rows x 22 columns]\n",
            "[[ 0  1  0 ...  4  6  8]\n",
            " [ 0  1  1 ... 12  6  8]\n",
            " [ 0  0  0 ... 13  6  8]\n",
            " ...\n",
            " [ 1  1  1 ... 13  6  4]\n",
            " [ 1  1  1 ... 11  2  4]\n",
            " [ 1  1  1 ...  9  6  2]]\n",
            "(70692, 22)\n"
          ]
        }
      ],
      "source": [
        "import pandas as pd\n",
        "import seaborn as sns\n",
        "import matplotlib.pyplot as plt\n",
        "from sklearn.preprocessing import StandardScaler\n",
        "from sklearn.model_selection import train_test_split\n",
        "from sklearn.linear_model import LogisticRegression\n",
        "from sklearn.metrics import accuracy_score\n",
        "from sklearn.metrics import classification_report, confusion_matrix, ConfusionMatrixDisplay\n",
        "import numpy as np\n",
        "\n",
        "df = pd.read_csv('C:/Users/acts5/Downloads/ECS 171/diabetes-risk-predictor/3_to_classes_.csv')\n",
        "\n",
        "print(df.head())\n",
        "print(df.to_numpy())\n",
        "print(df.shape)\n"
      ]
    },
    {
      "cell_type": "markdown",
      "id": "8d64dde8-7ce2-4da6-96ab-7a97dad31a53",
      "metadata": {
        "id": "8d64dde8-7ce2-4da6-96ab-7a97dad31a53"
      },
      "source": [
        "#### One-Hot Encoded All Features\n",
        "#### 21 Feature Dataset & 13 Feature Dataset (Remove 8)"
      ]
    },
    {
      "cell_type": "code",
      "execution_count": null,
      "id": "1b505b00-7356-43d4-bd1f-c0599df50739",
      "metadata": {
        "id": "1b505b00-7356-43d4-bd1f-c0599df50739",
        "outputId": "99f69959-b6cc-4f64-f307-abbd1a954cef"
      },
      "outputs": [
        {
          "name": "stdout",
          "output_type": "stream",
          "text": [
            "(56553, 73)\n",
            "(14139, 73)\n",
            "(56553, 57)\n",
            "(14139, 57)\n"
          ]
        }
      ],
      "source": [
        "\n",
        "#---------------- 21 Features Dataset -------------------\n",
        "\n",
        "#numpy arrays\n",
        "y_21 = df.iloc[ :, 0].values.astype(np.float32) #target variable column... just the first column\n",
        "X_21 = df.iloc[ :, 1:] #predictor variable columns... everything from the second to last column\n",
        "X_encoded = pd.get_dummies(X_21.astype(str), prefix=X_21.columns.astype(str))\n",
        "\n",
        "X_21 = X_encoded.values\n",
        "\n",
        "# Train/test split\n",
        "from sklearn.model_selection import train_test_split\n",
        "X_train_21, X_test_21, y_train_21, y_test_21 = train_test_split(X_21, y_21, test_size=0.2, random_state=42)\n",
        "\n",
        "print(X_train_21.shape)\n",
        "print(X_test_21.shape)\n",
        "\n",
        "# ---------------- 13 Features Dataset ------------------------\n",
        "\n",
        "#Remove 8 unecessary features\n",
        "df_8 = df.drop(columns=['Veggies','AnyHealthcare',\n",
        "                         'CholCheck', 'HvyAlcoholConsump',\n",
        "                         'Fruits', 'NoDocbcCost',\n",
        "                         'PhysActivity','Sex'])\n",
        "\n",
        "#numpy arrays\n",
        "y_8 = df_8.iloc[ :, 0].values.astype(np.float32) #target variable column... jus the first column\n",
        "X_8 = df_8.iloc[ :, 1:] #predictor variable columns... everything from the second to last column\n",
        "X_encoded = pd.get_dummies(X_8.astype(str), prefix=X_8.columns.astype(str))\n",
        "\n",
        "X_8 = X_encoded.values\n",
        "\n",
        "# Train/test split\n",
        "from sklearn.model_selection import train_test_split\n",
        "X_train_8, X_test_8, y_train_8, y_test_8 = train_test_split(X_8, y_8, test_size=0.2, random_state=42)\n",
        "\n",
        "print(X_train_8.shape)\n",
        "print(X_test_8.shape)\n"
      ]
    },
    {
      "cell_type": "markdown",
      "id": "c1e42d9b-2f35-4aa7-b64f-bed1931948f4",
      "metadata": {
        "id": "c1e42d9b-2f35-4aa7-b64f-bed1931948f4"
      },
      "source": [
        "### 21 Feature Models (a & b)"
      ]
    },
    {
      "cell_type": "markdown",
      "id": "f2e3182c-8920-463b-8971-3b5c46c3b70c",
      "metadata": {
        "id": "f2e3182c-8920-463b-8971-3b5c46c3b70c"
      },
      "source": [
        "#### a) 21 features, L2 reg, solver = 'lbfgs'"
      ]
    },
    {
      "cell_type": "code",
      "execution_count": null,
      "id": "c5df96c9-ad00-427a-84b0-c8ab25938444",
      "metadata": {
        "id": "c5df96c9-ad00-427a-84b0-c8ab25938444",
        "outputId": "75a67cbc-7060-405b-80dd-58ad731f4087"
      },
      "outputs": [
        {
          "name": "stdout",
          "output_type": "stream",
          "text": [
            "Binary Logistic Regression (21 features) accuracy: 0.9106018813211684\n",
            "Number Correct: 12875 out of 14139\n"
          ]
        },
        {
          "data": {
            "image/png": "[encoded data removed]",
            "text/plain": [
              "<Figure size 640x480 with 2 Axes>"
            ]
          },
          "metadata": {},
          "output_type": "display_data"
        },
        {
          "name": "stdout",
          "output_type": "stream",
          "text": [
            "              precision    recall  f1-score   support\n",
            "\n",
            "         0.0       0.90      0.93      0.91      7090\n",
            "         1.0       0.92      0.90      0.91      7049\n",
            "\n",
            "    accuracy                           0.91     14139\n",
            "   macro avg       0.91      0.91      0.91     14139\n",
            "weighted avg       0.91      0.91      0.91     14139\n",
            "\n",
            "Elapsed Time: 0.8231348991394043\n"
          ]
        }
      ],
      "source": [
        "import time\n",
        "start = time.time()\n",
        "BLR_a = LogisticRegression(\n",
        "                    penalty='l2',\n",
        "                    solver='lbfgs',\n",
        "                    random_state=42).fit(X_train_21, y_train_21)\n",
        "\n",
        "y_pred_a = BLR_a.predict(X_test_21)\n",
        "\n",
        "# accuracy\n",
        "acc = accuracy_score(y_test_21, y_pred_a)\n",
        "print(f\"Binary Logistic Regression (21 features) accuracy: {acc}\")\n",
        "\n",
        "# Number correct = accuracy * total samples\n",
        "num_total = len(y_test_21)\n",
        "num_correct = int(acc * num_total)\n",
        "\n",
        "print(f\"Number Correct: {num_correct} out of {num_total}\")\n",
        "\n",
        "# Confusion Matrix\n",
        "cm = confusion_matrix(y_test_21, y_pred_a)\n",
        "sns.heatmap(cm,\n",
        "            annot=True,\n",
        "            fmt='g',\n",
        "            cmap = 'YlGnBu',\n",
        "            xticklabels=['0','1'],\n",
        "            yticklabels=['0','1'])\n",
        "plt.ylabel('Actual', fontsize=13)\n",
        "plt.title('Confusion Matrix', fontsize=17, pad=20)\n",
        "plt.gca().xaxis.set_label_position('top')\n",
        "plt.xlabel('Prediction', fontsize=13)\n",
        "plt.gca().xaxis.tick_top()\n",
        "\n",
        "plt.gca().figure.subplots_adjust(bottom=0.2)\n",
        "plt.gca().figure.text(0.5, 0.05, 'Prediction', ha='center', fontsize=13)\n",
        "plt.show()\n",
        "\n",
        "print(classification_report(y_test_21, y_pred_a))\n",
        "end = time.time()\n",
        "print(\"Elapsed Time:\", end - start)"
      ]
    },
    {
      "cell_type": "markdown",
      "id": "636e549b-dc7d-4887-aa2a-6f0d01173b04",
      "metadata": {
        "id": "636e549b-dc7d-4887-aa2a-6f0d01173b04"
      },
      "source": [
        "#### **b)** 21 features, L1 reg, solver = 'liblinear'  "
      ]
    },
    {
      "cell_type": "code",
      "execution_count": null,
      "id": "d7592dda-c803-43cd-a7d8-85b7b18eddf1",
      "metadata": {
        "id": "d7592dda-c803-43cd-a7d8-85b7b18eddf1",
        "outputId": "a5061ab4-9257-46f8-ec67-0266ebff1b12"
      },
      "outputs": [
        {
          "name": "stdout",
          "output_type": "stream",
          "text": [
            "Binary Logistic Regression (21 features) accuracy: 0.9103189758823114\n",
            "Number Correct: 12871 out of 14139\n"
          ]
        },
        {
          "data": {
            "image/png": "[encoded data removed]",
            "text/plain": [
              "<Figure size 640x480 with 2 Axes>"
            ]
          },
          "metadata": {},
          "output_type": "display_data"
        },
        {
          "name": "stdout",
          "output_type": "stream",
          "text": [
            "              precision    recall  f1-score   support\n",
            "\n",
            "         0.0       0.90      0.93      0.91      7090\n",
            "         1.0       0.92      0.89      0.91      7049\n",
            "\n",
            "    accuracy                           0.91     14139\n",
            "   macro avg       0.91      0.91      0.91     14139\n",
            "weighted avg       0.91      0.91      0.91     14139\n",
            "\n"
          ]
        }
      ],
      "source": [
        "BLR_b = LogisticRegression(\n",
        "                    penalty='l1',\n",
        "                    solver='liblinear',\n",
        "                    random_state=42).fit(X_train_21, y_train_21)\n",
        "\n",
        "y_pred_b = BLR_b.predict(X_test_21)\n",
        "\n",
        "\n",
        "# accuracy\n",
        "acc = accuracy_score(y_test_21, y_pred_b)\n",
        "print(f\"Binary Logistic Regression (21 features) accuracy: {acc}\")\n",
        "\n",
        "# Number correct = accuracy * total samples\n",
        "num_total = len(y_test_21)\n",
        "num_correct = int(acc * num_total)\n",
        "\n",
        "print(f\"Number Correct: {num_correct} out of {num_total}\")\n",
        "\n",
        "# Confusion Matrix\n",
        "cm = confusion_matrix(y_test_21, y_pred_b)\n",
        "sns.heatmap(cm,\n",
        "            annot=True,\n",
        "            fmt='g',\n",
        "            cmap = 'YlGnBu',\n",
        "            xticklabels=['0','1'],\n",
        "            yticklabels=['0','1'])\n",
        "plt.ylabel('Actual', fontsize=13)\n",
        "plt.title('Confusion Matrix', fontsize=17, pad=20)\n",
        "plt.gca().xaxis.set_label_position('top')\n",
        "plt.xlabel('Prediction', fontsize=13)\n",
        "plt.gca().xaxis.tick_top()\n",
        "\n",
        "plt.gca().figure.subplots_adjust(bottom=0.2)\n",
        "plt.gca().figure.text(0.5, 0.05, 'Prediction', ha='center', fontsize=13)\n",
        "plt.show()\n",
        "\n",
        "print(classification_report(y_test_21, y_pred_b))\n",
        ""
      ]
    },
    {
      "cell_type": "markdown",
      "id": "acc54ff7-fddd-4051-9737-f4f633b1f35e",
      "metadata": {
        "id": "acc54ff7-fddd-4051-9737-f4f633b1f35e"
      },
      "source": [
        "### 13 Feature Models (c & d)"
      ]
    },
    {
      "cell_type": "markdown",
      "id": "765990c5-e972-4ea7-a262-fe69754695dd",
      "metadata": {
        "id": "765990c5-e972-4ea7-a262-fe69754695dd"
      },
      "source": [
        "#### c) 13 features, L2 reg, solver = 'lbfgs'"
      ]
    },
    {
      "cell_type": "code",
      "execution_count": null,
      "id": "4d6a3d62-9037-4309-8821-9bde6ce2028e",
      "metadata": {
        "id": "4d6a3d62-9037-4309-8821-9bde6ce2028e",
        "outputId": "c7dc395b-d201-491a-b9f0-edaccb813cc3"
      },
      "outputs": [
        {
          "name": "stdout",
          "output_type": "stream",
          "text": [
            "Binary Logistic Regression (13 features) accuracy: 0.9106018813211684\n",
            "Number Correct: 12875 out of 14139\n"
          ]
        },
        {
          "data": {
            "image/png": "[encoded data removed]",
            "text/plain": [
              "<Figure size 640x480 with 2 Axes>"
            ]
          },
          "metadata": {},
          "output_type": "display_data"
        },
        {
          "name": "stdout",
          "output_type": "stream",
          "text": [
            "              precision    recall  f1-score   support\n",
            "\n",
            "         0.0       0.90      0.93      0.91      7090\n",
            "         1.0       0.92      0.89      0.91      7049\n",
            "\n",
            "    accuracy                           0.91     14139\n",
            "   macro avg       0.91      0.91      0.91     14139\n",
            "weighted avg       0.91      0.91      0.91     14139\n",
            "\n"
          ]
        }
      ],
      "source": [
        "BLR_c = LogisticRegression(\n",
        "                    penalty='l2',\n",
        "                    solver='lbfgs',\n",
        "                    random_state=42).fit(X_train_8, y_train_8)\n",
        "\n",
        "y_pred_c = BLR_c.predict(X_test_8)\n",
        "\n",
        "# accuracy\n",
        "acc = accuracy_score(y_test_8, y_pred_c)\n",
        "print(f\"Binary Logistic Regression (13 features) accuracy: {acc}\")\n",
        "\n",
        "# Number correct = accuracy * total samples\n",
        "num_total = len(y_test_8)\n",
        "num_correct = int(acc * num_total)\n",
        "\n",
        "print(f\"Number Correct: {num_correct} out of {num_total}\")\n",
        "\n",
        "# Confusion Matrix\n",
        "cm = confusion_matrix(y_test_8, y_pred_c)\n",
        "sns.heatmap(cm,\n",
        "            annot=True,\n",
        "            fmt='g',\n",
        "            cmap = 'YlGnBu',\n",
        "            xticklabels=['0','1'],\n",
        "            yticklabels=['0','1'])\n",
        "plt.ylabel('Actual', fontsize=13)\n",
        "plt.title('Confusion Matrix', fontsize=17, pad=20)\n",
        "plt.gca().xaxis.set_label_position('top')\n",
        "plt.xlabel('Prediction', fontsize=13)\n",
        "plt.gca().xaxis.tick_top()\n",
        "\n",
        "plt.gca().figure.subplots_adjust(bottom=0.2)\n",
        "plt.gca().figure.text(0.5, 0.05, 'Prediction', ha='center', fontsize=13)\n",
        "plt.show()\n",
        "\n",
        "print(classification_report(y_test_8, y_pred_c))"
      ]
    },
    {
      "cell_type": "markdown",
      "id": "50cc4b87-8465-42ad-ad3f-a56a810b583d",
      "metadata": {
        "id": "50cc4b87-8465-42ad-ad3f-a56a810b583d"
      },
      "source": [
        "#### **d)** 13 features, L1 reg, solver = 'liblinear'"
      ]
    },
    {
      "cell_type": "code",
      "execution_count": null,
      "id": "06396dc0-8cb0-4192-b6e2-0b0c80b8ef36",
      "metadata": {
        "id": "06396dc0-8cb0-4192-b6e2-0b0c80b8ef36",
        "outputId": "8f660ad9-94b0-481d-b369-5d16b57b0e6e"
      },
      "outputs": [
        {
          "name": "stdout",
          "output_type": "stream",
          "text": [
            "Binary Logistic Regression (13 features) accuracy: 0.9106018813211684\n",
            "Number Correct: 12875 out of 14139\n"
          ]
        },
        {
          "data": {
            "image/png": "[encoded data removed]",
            "text/plain": [
              "<Figure size 640x480 with 2 Axes>"
            ]
          },
          "metadata": {},
          "output_type": "display_data"
        },
        {
          "name": "stdout",
          "output_type": "stream",
          "text": [
            "              precision    recall  f1-score   support\n",
            "\n",
            "         0.0       0.90      0.93      0.91      7090\n",
            "         1.0       0.92      0.89      0.91      7049\n",
            "\n",
            "    accuracy                           0.91     14139\n",
            "   macro avg       0.91      0.91      0.91     14139\n",
            "weighted avg       0.91      0.91      0.91     14139\n",
            "\n"
          ]
        }
      ],
      "source": [
        "BLR_d = LogisticRegression(\n",
        "                   penalty='l2',\n",
        "                    solver='lbfgs',\n",
        "                    random_state=42).fit(X_train_8, y_train_8)\n",
        "\n",
        "y_pred_d = BLR_d.predict(X_test_8)\n",
        "\n",
        "# accuracy\n",
        "acc = accuracy_score(y_test_8, y_pred_c)\n",
        "print(f\"Binary Logistic Regression (13 features) accuracy: {acc}\")\n",
        "\n",
        "# Number correct = accuracy * total samples\n",
        "num_total = len(y_test_8)\n",
        "num_correct = int(acc * num_total)\n",
        "\n",
        "print(f\"Number Correct: {num_correct} out of {num_total}\")\n",
        "\n",
        "# Confusion Matrix\n",
        "cm = confusion_matrix(y_test_8, y_pred_d)\n",
        "sns.heatmap(cm,\n",
        "            annot=True,\n",
        "            fmt='g',\n",
        "            cmap = 'YlGnBu',\n",
        "            xticklabels=['0','1'],\n",
        "            yticklabels=['0','1'])\n",
        "plt.ylabel('Actual', fontsize=13)\n",
        "plt.title('Confusion Matrix', fontsize=17, pad=20)\n",
        "plt.gca().xaxis.set_label_position('top')\n",
        "plt.xlabel('Prediction', fontsize=13)\n",
        "plt.gca().xaxis.tick_top()\n",
        "\n",
        "plt.gca().figure.subplots_adjust(bottom=0.2)\n",
        "plt.gca().figure.text(0.5, 0.05, 'Prediction', ha='center', fontsize=13)\n",
        "plt.show()\n",
        "\n",
        "print(classification_report(y_test_8, y_pred_d))"
      ]
    },
    {
      "cell_type": "markdown",
      "id": "c6f3d275-cfc5-4e09-b378-de4c903fa32c",
      "metadata": {
        "id": "c6f3d275-cfc5-4e09-b378-de4c903fa32c"
      },
      "source": [
        "### AIC and Final Statistics"
      ]
    },
    {
      "cell_type": "code",
      "execution_count": null,
      "id": "8d4105cd-62cc-4282-8df2-c0cde0ca271d",
      "metadata": {
        "id": "8d4105cd-62cc-4282-8df2-c0cde0ca271d",
        "outputId": "f69cf71d-0494-44b6-b0fd-65abf307f199"
      },
      "outputs": [
        {
          "name": "stdout",
          "output_type": "stream",
          "text": [
            "Model a) Accuracy: 0.9106, AIC: 5123.8258\n",
            "Model b) Accuracy: 0.9103, AIC: 5113.1011\n",
            "Model c) Accuracy: 0.9106, AIC: 5138.8981\n",
            "Model d) Accuracy: 0.9106, AIC: 5138.8981\n",
            "\n",
            "\n",
            "Lowest AIC Model:\n",
            "Model b) AIC = 5113.10 and Accuracy = 0.9103\n",
            "\n",
            "Highest Accuracy Model:\n",
            "Model a) AIC = 5123.83 and Accuracy = 0.9106\n",
            "\n"
          ]
        }
      ],
      "source": [
        "# AIC\n",
        "models = [BLR_a, BLR_b, BLR_c, BLR_d]\n",
        "X_tests = [X_test_21, X_test_21, X_test_8, X_test_8]\n",
        "y_tests = [y_test_21, y_test_21, y_test_8, y_test_8]\n",
        "\n",
        "aic = []\n",
        "accuracy = []\n",
        "\n",
        "for i, model in enumerate(models):\n",
        "    X_test = X_tests[i]\n",
        "    y_test = y_tests[i]\n",
        "\n",
        "    k = len(model.coef_.ravel()) + 1\n",
        "    probs = model.predict_proba(X_test)[:, 1]\n",
        "    probs = np.clip(probs, 1e-15, 1 - 1e-15)\n",
        "    log_likelihood = np.sum(y_test * np.log(probs) + (1 - y_test) * np.log(1 - probs))\n",
        "    AIC = 2 * k - 2 * log_likelihood\n",
        "\n",
        "    acc = accuracy_score(y_test, model.predict(X_test))\n",
        "\n",
        "    aic.append(AIC)\n",
        "    accuracy.append(acc)\n",
        "\n",
        "    print(f\"Model {chr(ord('a') + i)}) Accuracy: {acc:.4f}, AIC: {AIC:.4f}\")\n",
        "\n",
        "lowest_aic = np.argmin(aic)\n",
        "highest_accuracy = np.argmax(accuracy)\n",
        "\n",
        "print(\"\\n\")\n",
        "print(\"Lowest AIC Model:\")\n",
        "print(f\"Model {chr(ord('a') + lowest_aic)}) AIC = {aic[lowest_aic]:.2f} and Accuracy = {accuracy[lowest_aic]:.4f}\\n\")\n",
        "print(\"Highest Accuracy Model:\")\n",
        "print(f\"Model {chr(ord('a') + highest_accuracy)}) AIC = {aic[highest_accuracy]:.2f} and Accuracy = {accuracy[highest_accuracy]:.4f}\\n\")"
      ]
    },
    {
      "cell_type": "code",
      "execution_count": null,
      "id": "d9f95db0",
      "metadata": {
        "colab": {
          "base_uri": "https://localhost:8080/",
          "height": 1000
        },
        "id": "d9f95db0",
        "outputId": "1743f035-9877-460e-b368-5d3b5aaaf101"
      },
      "outputs": [
        {
          "data": {
            "image/png": "[encoded data removed]",
            "text/plain": [
              "<Figure size 640x480 with 1 Axes>"
            ]
          },
          "metadata": {},
          "output_type": "display_data"
        },
        {
          "name": "stdout",
          "output_type": "stream",
          "text": [
            "\n",
            "--- CV results for RandomForest ---\n",
            "accuracy  : 0.9057 ± 0.0013\n",
            "precision : 0.9137 ± 0.0012\n",
            "recall    : 0.8962 ± 0.0036\n",
            "f1        : 0.9048 ± 0.0015\n",
            "Average testing time per fold: 0.2298 seconds\n",
            "\n",
            "--- CV results for XGBoost ---\n"
          ]
        },
        {
          "name": "stderr",
          "output_type": "stream",
          "text": [
            "/usr/local/lib/python3.11/dist-packages/xgboost/core.py:158: UserWarning: [20:18:27] WARNING: /workspace/src/learner.cc:740: \n",
            "Parameters: { \"use_label_encoder\" } are not used.\n",
            "\n",
            "  warnings.warn(smsg, UserWarning)\n",
            "/usr/local/lib/python3.11/dist-packages/xgboost/core.py:158: UserWarning: [20:18:28] WARNING: /workspace/src/learner.cc:740: \n",
            "Parameters: { \"use_label_encoder\" } are not used.\n",
            "\n",
            "  warnings.warn(smsg, UserWarning)\n",
            "/usr/local/lib/python3.11/dist-packages/xgboost/core.py:158: UserWarning: [20:18:30] WARNING: /workspace/src/learner.cc:740: \n",
            "Parameters: { \"use_label_encoder\" } are not used.\n",
            "\n",
            "  warnings.warn(smsg, UserWarning)\n",
            "/usr/local/lib/python3.11/dist-packages/xgboost/core.py:158: UserWarning: [20:18:33] WARNING: /workspace/src/learner.cc:740: \n",
            "Parameters: { \"use_label_encoder\" } are not used.\n",
            "\n",
            "  warnings.warn(smsg, UserWarning)\n",
            "/usr/local/lib/python3.11/dist-packages/xgboost/core.py:158: UserWarning: [20:18:34] WARNING: /workspace/src/learner.cc:740: \n",
            "Parameters: { \"use_label_encoder\" } are not used.\n",
            "\n",
            "  warnings.warn(smsg, UserWarning)\n"
          ]
        },
        {
          "name": "stdout",
          "output_type": "stream",
          "text": [
            "accuracy  : 0.9101 ± 0.0018\n",
            "precision : 0.9225 ± 0.0037\n",
            "recall    : 0.8955 ± 0.0042\n",
            "f1        : 0.9088 ± 0.0019\n",
            "Average testing time per fold: 0.0694 seconds\n",
            "\n",
            "--- CV results for LightGBM ---\n",
            "[LightGBM] [Info] Number of positive: 22621, number of negative: 22621\n",
            "[LightGBM] [Info] Auto-choosing row-wise multi-threading, the overhead of testing was 0.013972 seconds.\n",
            "You can set `force_row_wise=true` to remove the overhead.\n",
            "And if memory is not enough, you can set `force_col_wise=true`.\n",
            "[LightGBM] [Info] Total Bins 218\n",
            "[LightGBM] [Info] Number of data points in the train set: 45242, number of used features: 109\n",
            "[LightGBM] [Info] [binary:BoostFromScore]: pavg=0.500000 -> initscore=0.000000\n",
            "[LightGBM] [Info] Number of positive: 22621, number of negative: 22621\n",
            "[LightGBM] [Info] Auto-choosing row-wise multi-threading, the overhead of testing was 0.011239 seconds.\n",
            "You can set `force_row_wise=true` to remove the overhead.\n",
            "And if memory is not enough, you can set `force_col_wise=true`.\n",
            "[LightGBM] [Info] Total Bins 220\n",
            "[LightGBM] [Info] Number of data points in the train set: 45242, number of used features: 110\n",
            "[LightGBM] [Info] [binary:BoostFromScore]: pavg=0.500000 -> initscore=0.000000\n",
            "[LightGBM] [Info] Number of positive: 22622, number of negative: 22620\n",
            "[LightGBM] [Info] Auto-choosing row-wise multi-threading, the overhead of testing was 0.012222 seconds.\n",
            "You can set `force_row_wise=true` to remove the overhead.\n",
            "And if memory is not enough, you can set `force_col_wise=true`.\n",
            "[LightGBM] [Info] Total Bins 220\n",
            "[LightGBM] [Info] Number of data points in the train set: 45242, number of used features: 110\n",
            "[LightGBM] [Info] [binary:BoostFromScore]: pavg=0.500000 -> initscore=-0.000000\n",
            "[LightGBM] [Info] Start training from score -0.000000\n",
            "[LightGBM] [Info] Number of positive: 22622, number of negative: 22621\n",
            "[LightGBM] [Info] Auto-choosing row-wise multi-threading, the overhead of testing was 0.012955 seconds.\n",
            "You can set `force_row_wise=true` to remove the overhead.\n",
            "And if memory is not enough, you can set `force_col_wise=true`.\n",
            "[LightGBM] [Info] Total Bins 220\n",
            "[LightGBM] [Info] Number of data points in the train set: 45243, number of used features: 110\n",
            "[LightGBM] [Info] [binary:BoostFromScore]: pavg=0.500000 -> initscore=0.000000\n",
            "[LightGBM] [Info] Start training from score 0.000000\n",
            "[LightGBM] [Info] Number of positive: 22622, number of negative: 22621\n",
            "[LightGBM] [Info] Auto-choosing row-wise multi-threading, the overhead of testing was 0.011218 seconds.\n",
            "You can set `force_row_wise=true` to remove the overhead.\n",
            "And if memory is not enough, you can set `force_col_wise=true`.\n",
            "[LightGBM] [Info] Total Bins 226\n",
            "[LightGBM] [Info] Number of data points in the train set: 45243, number of used features: 113\n",
            "[LightGBM] [Info] [binary:BoostFromScore]: pavg=0.500000 -> initscore=0.000000\n",
            "[LightGBM] [Info] Start training from score 0.000000\n",
            "accuracy  : 0.9119 ± 0.0012\n",
            "precision : 0.9222 ± 0.0026\n",
            "recall    : 0.8998 ± 0.0037\n",
            "f1        : 0.9109 ± 0.0014\n",
            "Average testing time per fold: 0.0619 seconds\n",
            "\n",
            "=== Final evaluation for RandomForest ===\n",
            "Testing time: 0.2646 seconds\n",
            "Confusion Matrix:\n",
            "[[6458  612]\n",
            " [ 736 6333]]\n",
            "\n",
            "Classification Report:\n",
            "              precision    recall  f1-score   support\n",
            "\n",
            "           0     0.8977    0.9134    0.9055      7070\n",
            "           1     0.9119    0.8959    0.9038      7069\n",
            "\n",
            "    accuracy                         0.9047     14139\n",
            "   macro avg     0.9048    0.9047    0.9047     14139\n",
            "weighted avg     0.9048    0.9047    0.9047     14139\n",
            "\n",
            "\n",
            "=== Final evaluation for XGBoost ===\n"
          ]
        },
        {
          "name": "stderr",
          "output_type": "stream",
          "text": [
            "/usr/local/lib/python3.11/dist-packages/xgboost/core.py:158: UserWarning: [20:18:46] WARNING: /workspace/src/learner.cc:740: \n",
            "Parameters: { \"use_label_encoder\" } are not used.\n",
            "\n",
            "  warnings.warn(smsg, UserWarning)\n"
          ]
        },
        {
          "name": "stdout",
          "output_type": "stream",
          "text": [
            "Testing time: 0.0876 seconds\n",
            "Confusion Matrix:\n",
            "[[6523  547]\n",
            " [ 713 6356]]\n",
            "\n",
            "Classification Report:\n",
            "              precision    recall  f1-score   support\n",
            "\n",
            "           0     0.9015    0.9226    0.9119      7070\n",
            "           1     0.9208    0.8991    0.9098      7069\n",
            "\n",
            "    accuracy                         0.9109     14139\n",
            "   macro avg     0.9111    0.9109    0.9109     14139\n",
            "weighted avg     0.9111    0.9109    0.9109     14139\n",
            "\n",
            "\n",
            "=== Final evaluation for LightGBM ===\n",
            "[LightGBM] [Info] Number of positive: 28277, number of negative: 28276\n",
            "[LightGBM] [Info] Auto-choosing row-wise multi-threading, the overhead of testing was 0.013723 seconds.\n",
            "You can set `force_row_wise=true` to remove the overhead.\n",
            "And if memory is not enough, you can set `force_col_wise=true`.\n",
            "[LightGBM] [Info] Total Bins 228\n",
            "[LightGBM] [Info] Number of data points in the train set: 56553, number of used features: 114\n",
            "[LightGBM] [Info] [binary:BoostFromScore]: pavg=0.500000 -> initscore=0.000000\n",
            "[LightGBM] [Info] Start training from score 0.000000\n",
            "Testing time: 0.0680 seconds\n",
            "Confusion Matrix:\n",
            "[[6515  555]\n",
            " [ 684 6385]]\n",
            "\n",
            "Classification Report:\n",
            "              precision    recall  f1-score   support\n",
            "\n",
            "           0     0.9050    0.9215    0.9132      7070\n",
            "           1     0.9200    0.9032    0.9116      7069\n",
            "\n",
            "    accuracy                         0.9124     14139\n",
            "   macro avg     0.9125    0.9124    0.9124     14139\n",
            "weighted avg     0.9125    0.9124    0.9124     14139\n",
            "\n"
          ]
        }
      ],
      "source": [
        "import pandas as pd\n",
        "import numpy as np\n",
        "import matplotlib.pyplot as plt\n",
        "import seaborn as sns\n",
        "import time\n",
        "\n",
        "from sklearn.model_selection import train_test_split, StratifiedKFold\n",
        "from sklearn.preprocessing import OneHotEncoder\n",
        "from sklearn.metrics import accuracy_score, precision_score, recall_score, f1_score, confusion_matrix, classification_report\n",
        "from sklearn.utils.class_weight import compute_class_weight\n",
        "\n",
        "from sklearn.ensemble import RandomForestClassifier\n",
        "from xgboost import XGBClassifier\n",
        "from lightgbm import LGBMClassifier\n",
        "\n",
        "# --- LOAD DATA ---\n",
        "url = 'https://drive.google.com/uc?id=1d21XE-eTEJHvyneON2MVs0LuUM3loZgg'\n",
        "df = pd.read_csv(url)\n",
        "\n",
        "df = df.rename(columns={\"Diabetes_binary\": \"Target\"})\n",
        "df['Target'] = df['Target'].astype(int)\n",
        "\n",
        "# --- EDA (optional) ---\n",
        "sns.countplot(x='Target', data=df)\n",
        "plt.title(\"Target Distribution\")\n",
        "plt.show()\n",
        "\n",
        "# --- FEATURES / LABELS ---\n",
        "X_raw = df.drop('Target', axis=1)\n",
        "y = df['Target']\n",
        "\n",
        "# One-Hot Encode categorical columns (treat all columns as categorical for safety)\n",
        "X_encoded = pd.get_dummies(X_raw.astype(str), prefix=X_raw.columns.astype(str))\n",
        "X = X_encoded\n",
        "\n",
        "# --- TRAIN/TEST SPLIT ---\n",
        "X_train, X_test, y_train, y_test = train_test_split(\n",
        "    X, y, test_size=0.2, stratify=y, random_state=42\n",
        ")\n",
        "\n",
        "# --- CLASS WEIGHTS ---\n",
        "classes = np.unique(y_train)\n",
        "weights = compute_class_weight('balanced', classes=classes, y=y_train)\n",
        "class_weight_dict = dict(zip(classes, weights))\n",
        "\n",
        "# --- MODELS ---\n",
        "models = {\n",
        "    'RandomForest': RandomForestClassifier(\n",
        "        class_weight=class_weight_dict, random_state=42\n",
        "    ),\n",
        "    'XGBoost': XGBClassifier(\n",
        "        objective='binary:logistic',\n",
        "        eval_metric='logloss',\n",
        "        tree_method='hist',\n",
        "        use_label_encoder=False,\n",
        "        random_state=42\n",
        "    ),\n",
        "    'LightGBM': LGBMClassifier(\n",
        "        objective='binary',\n",
        "        class_weight='balanced',\n",
        "        n_estimators=100,\n",
        "        random_state=42\n",
        "    )\n",
        "}\n",
        "\n",
        "# --- CROSS-VALIDATION ---\n",
        "cv = StratifiedKFold(n_splits=5, shuffle=True, random_state=42)\n",
        "scoring = ['accuracy', 'precision', 'recall', 'f1']\n",
        "\n",
        "for name, model in models.items():\n",
        "    print(f\"\\n--- CV results for {name} ---\")\n",
        "    scores = {metric: [] for metric in scoring}\n",
        "    total_time = 0\n",
        "\n",
        "    for train_idx, val_idx in cv.split(X_train, y_train):\n",
        "        X_tr, X_val = X_train.iloc[train_idx], X_train.iloc[val_idx]\n",
        "        y_tr, y_val = y_train.iloc[train_idx], y_train.iloc[val_idx]\n",
        "\n",
        "        if name == 'XGBoost':\n",
        "            sw = y_tr.map(class_weight_dict)\n",
        "            model.fit(X_tr, y_tr, sample_weight=sw)\n",
        "        else:\n",
        "            model.fit(X_tr, y_tr)\n",
        "\n",
        "        start_time = time.time()\n",
        "        y_pred = model.predict(X_val)\n",
        "        elapsed_time = time.time() - start_time\n",
        "        total_time += elapsed_time\n",
        "\n",
        "        scores['accuracy'].append(accuracy_score(y_val, y_pred))\n",
        "        scores['precision'].append(precision_score(y_val, y_pred))\n",
        "        scores['recall'].append(recall_score(y_val, y_pred))\n",
        "        scores['f1'].append(f1_score(y_val, y_pred))\n",
        "\n",
        "    for metric in scoring:\n",
        "        mean = np.mean(scores[metric])\n",
        "        std = np.std(scores[metric])\n",
        "        print(f\"{metric:10s}: {mean:.4f} ± {std:.4f}\")\n",
        "    print(f\"Average testing time per fold: {total_time / cv.get_n_splits():.4f} seconds\")\n",
        "\n",
        "# --- FINAL EVALUATION ON TEST SET ---\n",
        "for name, model in models.items():\n",
        "    print(f\"\\n=== Final evaluation for {name} ===\")\n",
        "    if name == 'XGBoost':\n",
        "        sw = y_train.map(class_weight_dict)\n",
        "        model.fit(X_train, y_train, sample_weight=sw)\n",
        "    else:\n",
        "        model.fit(X_train, y_train)\n",
        "\n",
        "    start_time = time.time()\n",
        "    y_pred = model.predict(X_test)\n",
        "    total_time = time.time() - start_time\n",
        "    print(f\"Testing time: {total_time:.4f} seconds\")\n",
        "\n",
        "    print(\"Confusion Matrix:\")\n",
        "    print(confusion_matrix(y_test, y_pred))\n",
        "    print(\"\\nClassification Report:\")\n",
        "    print(classification_report(y_test, y_pred, digits=4))\n"
      ]
    },
    {
      "cell_type": "code",
      "execution_count": null,
      "id": "e0bbcfcf-4467-4688-af5f-69cf67b17a6f",
      "metadata": {
        "id": "e0bbcfcf-4467-4688-af5f-69cf67b17a6f",
        "outputId": "fdcec8d1-edc7-4e52-f70c-8be019251eff"
      },
      "outputs": [
        {
          "name": "stdout",
          "output_type": "stream",
          "text": [
            "Trial 10 Complete [00h 01m 02s]\n",
            "val_accuracy: 0.9078772664070129\n",
            "\n",
            "Best val_accuracy So Far: 0.9110600352287292\n",
            "Total elapsed time: 00h 09m 53s\n"
          ]
        },
        {
          "name": "stderr",
          "output_type": "stream",
          "text": [
            "C:\\Users\\ayush\\miniconda3\\envs\\cenv4py310\\lib\\site-packages\\keras\\src\\saving\\saving_lib.py:757: UserWarning: Skipping variable loading for optimizer 'adam', because it has 2 variables whereas the saved optimizer has 22 variables. \n",
            "  saveable.load_own_variables(weights_store.get(inner_path))\n"
          ]
        },
        {
          "name": "stdout",
          "output_type": "stream",
          "text": [
            "\u001b[1m442/442\u001b[0m \u001b[32m━━━━━━━━━━━━━━━━━━━━\u001b[0m\u001b[37m\u001b[0m \u001b[1m1s\u001b[0m 1ms/step - accuracy: 0.9078 - loss: 0.1806\n",
            "\n",
            " Best model test accuracy: 0.9102\n",
            "\n",
            "🎯 Best Hyperparameters Found:\n",
            "units1: 16\n",
            "num_layers: 3\n",
            "units_0: 16\n",
            "activation: relu\n",
            "learning_rate: 0.006156805850411143\n",
            "units_1: 80\n",
            "units_2: 128\n"
          ]
        }
      ],
      "source": [
        "# --- Import libraries ---\n",
        "%matplotlib inline\n",
        "import pandas as pd\n",
        "import numpy as np\n",
        "import keras_tuner as kt\n",
        "import matplotlib.pyplot as plt\n",
        "from sklearn.model_selection import train_test_split\n",
        "from sklearn.preprocessing import StandardScaler, LabelEncoder\n",
        "from tensorflow.keras.models import Sequential\n",
        "from tensorflow.keras.layers import Dense\n",
        "from tensorflow.keras.optimizers import Adam\n",
        "\n",
        "# --- Load and preprocess data ---\n",
        "df = pd.read_csv(\"C:/Users/ayush/ecs171/TeamProject/BMIClassGege.csv\")\n",
        "\n",
        "# Assume first column is the label\n",
        "y = df.iloc[:, 0].values\n",
        "X = df.iloc[:, 1:].values\n",
        "\n",
        "label_encoder = LabelEncoder()\n",
        "y_encoded = label_encoder.fit_transform(y)  # Should be 0 or 1 for binary\n",
        "\n",
        "X_train, X_test, y_train, y_test = train_test_split(X, y_encoded, test_size=0.2, random_state=42)\n",
        "scaler = StandardScaler()\n",
        "X_train = scaler.fit_transform(X_train)\n",
        "X_test = scaler.transform(X_test)\n",
        "\n",
        "# --- Define model builder for KerasTuner ---\n",
        "def build_model(hp):\n",
        "    model = Sequential()\n",
        "    model.add(Dense(\n",
        "        units=hp.Int('units1', min_value=16, max_value=128, step=16),\n",
        "        activation='relu',\n",
        "        input_shape=(X_train.shape[1],)\n",
        "    ))\n",
        "\n",
        "    for i in range(hp.Int('num_layers', 1, 3)):\n",
        "        model.add(Dense(\n",
        "            units=hp.Int(f'units_{i}', min_value=16, max_value=128, step=16),\n",
        "            activation=hp.Choice('activation', ['relu', 'tanh'])\n",
        "        ))\n",
        "\n",
        "    model.add(Dense(1, activation='sigmoid'))\n",
        "\n",
        "    model.compile(\n",
        "        optimizer=Adam(hp.Float('learning_rate', 1e-4, 1e-2, sampling='log')),\n",
        "        loss='binary_crossentropy',\n",
        "        metrics=['accuracy']\n",
        "    )\n",
        "\n",
        "    return model\n",
        "\n",
        "# --- Run the tuner ---\n",
        "tuner = kt.RandomSearch(\n",
        "    build_model,\n",
        "    objective='val_accuracy',\n",
        "    max_trials=10,\n",
        "    executions_per_trial=1,\n",
        "    overwrite=True,\n",
        "    directory='.',\n",
        "    project_name='bmi_tuning'\n",
        ")\n",
        "\n",
        "tuner.search(X_train, y_train, epochs=30, validation_split=0.2, batch_size=64, verbose=1)\n",
        "\n",
        "# --- Evaluate best model ---\n",
        "best_model = tuner.get_best_models(1)[0]\n",
        "test_loss, test_acc = best_model.evaluate(X_test, y_test)\n",
        "print(f\"\\n Best model test accuracy: {test_acc:.4f}\")\n",
        "\n",
        "# --- Show best hyperparameters ---\n",
        "best_hps = tuner.get_best_hyperparameters(1)[0]\n",
        "print(\"\\nBest Hyperparameters Found:\")\n",
        "for k, v in best_hps.values.items():\n",
        "    print(f\"{k}: {v}\")\n"
      ]
    }
  ],
  "metadata": {
    "colab": {
      "provenance": []
    }
  },
  "nbformat": 4,
  "nbformat_minor": 5
}
