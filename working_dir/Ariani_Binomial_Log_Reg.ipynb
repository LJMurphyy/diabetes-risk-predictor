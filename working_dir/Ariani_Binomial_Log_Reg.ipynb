{
 "cells": [
  {
   "cell_type": "markdown",
   "id": "faf6d458-8454-4f46-9919-5d66a0bbcc15",
   "metadata": {},
   "source": [
    "Logistic Regression (3-class vs 2-class)\n",
    "Apply Normalization on Dataset\n",
    "Use this as a baseline.\n",
    "\n",
    "Models:\n",
    "\n",
    "**a)** 21 features, L2 reg, solver = 'lbfgs'  \n",
    "**b)** 13 features, L2 reg, solver = 'lbfgs'\n",
    "\n",
    "**c)** 21 features, L1 reg, solver = 'liblinear'  \n",
    "**d)** 13 features, L1 reg, solver = 'liblinear'  \n",
    "\n",
    "**e)** 21 features, L2 reg, solver = 'liblinear'  \n",
    "**f)** 13 features, L2 reg, solver = 'liblinear'  \n",
    "\n",
    "**g)** 21 features, L2 reg, solver='newton-cg',   \n",
    "**h)** 13 features, L2 reg, solver='newton-cg  \n",
    "\n",
    "**i)** 21 features, L1 reg, solver='saga',   \n",
    "**j)** 13 features, L1 reg, solver='saga'  \n",
    "\n",
    "Different:\n",
    "1) optimization techniques\n",
    "2) regularization (L2 vs L1 vs none) aka penalty\n",
    "4) all predictors vs only uncorrelated ones\n",
    "   \n",
    "Measure:\n",
    "1) accuracy (correct/total)\n",
    "2) train time\n",
    "3) AIC -> low is good\n",
    "4) Confusion Matrix\n",
    "5) ROC curve later (read up on it)"
   ]
  },
  {
   "cell_type": "code",
   "execution_count": 93,
   "id": "a5735296-4238-4dcd-b658-c204dd96963c",
   "metadata": {},
   "outputs": [
    {
     "name": "stdout",
     "output_type": "stream",
     "text": [
      "[main af3b12c] Added Binary Logistic Regression Models with Stats\n",
      " 5 files changed, 2122 insertions(+), 143 deletions(-)\n",
      " create mode 100644 .ipynb_checkpoints/Ariani_Binomial_Log_Reg-checkpoint.ipynb\n",
      " create mode 100644 .ipynb_checkpoints/Ariani_Multinomial_Log_reg-checkpoint.ipynb\n",
      " create mode 100644 .ipynb_checkpoints/varsha-checkpoint.ipynb\n"
     ]
    }
   ],
   "source": [
    "!git commit -m \"Added Binary Logistic Regression Models with Stats\""
   ]
  },
  {
   "cell_type": "markdown",
   "id": "c5c7de5e-0756-4dda-ad36-e6b9e8a69b94",
   "metadata": {},
   "source": [
    "#### Standardize All Features\n",
    "- Transform data, both categorical and continuous to be on same scale.. mean of 0 and standard deviation of 1... btwn [-1, 1]\n",
    "- Aka z-score normalization\n",
    "- Create Test and Training sets"
   ]
  },
  {
   "cell_type": "code",
   "execution_count": 7,
   "id": "7d64420a-d39a-46fa-9bc4-f5a5c053148b",
   "metadata": {},
   "outputs": [
    {
     "name": "stdout",
     "output_type": "stream",
     "text": [
      "   Diabetes_binary  HighBP  HighChol  CholCheck   BMI  Smoker  Stroke  \\\n",
      "0              0.0     1.0       0.0        1.0  26.0     0.0     0.0   \n",
      "1              0.0     1.0       1.0        1.0  26.0     1.0     1.0   \n",
      "2              0.0     0.0       0.0        1.0  26.0     0.0     0.0   \n",
      "3              0.0     1.0       1.0        1.0  28.0     1.0     0.0   \n",
      "4              0.0     0.0       0.0        1.0  29.0     1.0     0.0   \n",
      "\n",
      "   HeartDiseaseorAttack  PhysActivity  Fruits  ...  AnyHealthcare  \\\n",
      "0                   0.0           1.0     0.0  ...            1.0   \n",
      "1                   0.0           0.0     1.0  ...            1.0   \n",
      "2                   0.0           1.0     1.0  ...            1.0   \n",
      "3                   0.0           1.0     1.0  ...            1.0   \n",
      "4                   0.0           1.0     1.0  ...            1.0   \n",
      "\n",
      "   NoDocbcCost  GenHlth  MentHlth  PhysHlth  DiffWalk  Sex   Age  Education  \\\n",
      "0          0.0      3.0       5.0      30.0       0.0  1.0   4.0        6.0   \n",
      "1          0.0      3.0       0.0       0.0       0.0  1.0  12.0        6.0   \n",
      "2          0.0      1.0       0.0      10.0       0.0  1.0  13.0        6.0   \n",
      "3          0.0      3.0       0.0       3.0       0.0  1.0  11.0        6.0   \n",
      "4          0.0      2.0       0.0       0.0       0.0  0.0   8.0        5.0   \n",
      "\n",
      "   Income  \n",
      "0     8.0  \n",
      "1     8.0  \n",
      "2     8.0  \n",
      "3     8.0  \n",
      "4     8.0  \n",
      "\n",
      "[5 rows x 22 columns]\n",
      "[[ 0.  1.  0. ...  4.  6.  8.]\n",
      " [ 0.  1.  1. ... 12.  6.  8.]\n",
      " [ 0.  0.  0. ... 13.  6.  8.]\n",
      " ...\n",
      " [ 1.  1.  1. ... 13.  6.  4.]\n",
      " [ 1.  1.  1. ... 11.  2.  4.]\n",
      " [ 1.  1.  1. ...  9.  6.  2.]]\n",
      "(70692, 22)\n"
     ]
    }
   ],
   "source": [
    "df = pd.read_csv('diabetes_binary_5050split_health_indicators_BRFSS2015.csv')\n",
    "print(df.head())\n",
    "print(df.to_numpy())\n",
    "print(df.shape)"
   ]
  },
  {
   "cell_type": "code",
   "execution_count": 32,
   "id": "789d494a-7a7e-4248-838b-e3d937abdd1b",
   "metadata": {},
   "outputs": [
    {
     "name": "stdout",
     "output_type": "stream",
     "text": [
      "(56553, 21)\n",
      "(14139, 21)\n",
      "(56553, 14)\n",
      "(14139, 14)\n"
     ]
    }
   ],
   "source": [
    "import pandas as pd\n",
    "import seaborn as sns\n",
    "import matplotlib.pyplot as plt\n",
    "from sklearn.preprocessing import StandardScaler\n",
    "from sklearn.model_selection import train_test_split\n",
    "\n",
    "#---------------- 21 Features Dataset -------------------\n",
    "\n",
    "df_21 = pd.read_csv('diabetes_binary_5050split_health_indicators_BRFSS2015.csv')\n",
    "\n",
    "#numpy arrays\n",
    "y_21 = df_21.iloc[ :, 0].values #target variable column... jus the first column\n",
    "X_21 = df_21.iloc[ :, 1:].values #predictor variable columns... everything from the second to last column\n",
    "\n",
    "# Train/test split\n",
    "from sklearn.model_selection import train_test_split\n",
    "X_train_21, X_test_21, y_train_21, y_test_21 = train_test_split(X_21, y_21, test_size=0.2, random_state=42)\n",
    "\n",
    "scaler = StandardScaler()\n",
    "X_train_21 = scaler.fit_transform(X_train_21)\n",
    "X_test_21 = scaler.fit_transform(X_test_21)\n",
    "\n",
    "print(X_train_21.shape)\n",
    "print(X_test_21.shape)\n",
    "\n",
    "# ---------------- 13 Features Dataset ------------------------\n",
    "\n",
    "df_13 = pd.read_csv('5050_clean_diabetes_dataset.csv')\n",
    "\n",
    "#numpy arrays\n",
    "y_13 = df_13.iloc[ :, 0].values #target variable column... jus the first column\n",
    "X_13 = df_13.iloc[ :, 1:].values #predictor variable columns... everything from the second to last column\n",
    "\n",
    "# Train/test split\n",
    "from sklearn.model_selection import train_test_split\n",
    "X_train_13, X_test_13, y_train_13, y_test_13 = train_test_split(X_13, y_13, test_size=0.2, random_state=42)\n",
    "\n",
    "scaler = StandardScaler()\n",
    "X_train_13 = scaler.fit_transform(X_train_13)\n",
    "X_test_13 = scaler.fit_transform(X_test_13)\n",
    "\n",
    "print(X_train_13.shape)\n",
    "print(X_test_13.shape)"
   ]
  },
  {
   "cell_type": "markdown",
   "id": "0ae14108-bc2c-457c-bf52-2be73d407bb5",
   "metadata": {},
   "source": [
    "#### a) 21 features, L2 reg, solver = 'lbfgs'"
   ]
  },
  {
   "cell_type": "code",
   "execution_count": 88,
   "id": "108ca0a4-5fba-4b5f-a133-a88bdde4f0df",
   "metadata": {},
   "outputs": [
    {
     "name": "stdout",
     "output_type": "stream",
     "text": [
      "Binary Logistic Regression (21 features) accuracy: 0.7475776221797864\n",
      "Number Correct: 10570 out of 14139\n"
     ]
    },
    {
     "data": {
      "image/png": "[encoded data removed]",
      "text/plain": [
       "<Figure size 640x480 with 2 Axes>"
      ]
     },
     "metadata": {},
     "output_type": "display_data"
    },
    {
     "name": "stdout",
     "output_type": "stream",
     "text": [
      "              precision    recall  f1-score   support\n",
      "\n",
      "           0       0.76      0.73      0.74      7090\n",
      "           1       0.74      0.77      0.75      7049\n",
      "\n",
      "    accuracy                           0.75     14139\n",
      "   macro avg       0.75      0.75      0.75     14139\n",
      "weighted avg       0.75      0.75      0.75     14139\n",
      "\n"
     ]
    }
   ],
   "source": [
    "from sklearn.linear_model import LogisticRegression\n",
    "from sklearn.metrics import accuracy_score\n",
    "import matplotlib.pyplot as plt\n",
    "from sklearn.metrics import classification_report, confusion_matrix, ConfusionMatrixDisplay\n",
    "import numpy as np\n",
    "import seaborn as sns\n",
    "\n",
    "BLR_a = LogisticRegression(\n",
    "                    penalty='l2',\n",
    "                    solver='lbfgs',\n",
    "                    random_state=42).fit(X_train_21, y_train_21)\n",
    "\n",
    "y_pred_a = BLR_a.predict(X_test_21)\n",
    "\n",
    "# accuracy\n",
    "acc = accuracy_score(y_test, y_pred)\n",
    "print(f\"Binary Logistic Regression (21 features) accuracy: {acc}\")\n",
    "\n",
    "# Number correct = accuracy * total samples\n",
    "num_total = len(y_test_21)\n",
    "num_correct = int(acc * num_total)\n",
    "\n",
    "print(f\"Number Correct: {num_correct} out of {num_total}\")\n",
    "\n",
    "# Confusion Matrix\n",
    "cm = confusion_matrix(y_test_21, y_pred_a)\n",
    "sns.heatmap(cm, \n",
    "            annot=True,\n",
    "            fmt='g', \n",
    "            cmap = 'YlGnBu',\n",
    "            xticklabels=['0','1'],\n",
    "            yticklabels=['0','1'])\n",
    "plt.ylabel('Actual', fontsize=13)\n",
    "plt.title('Confusion Matrix', fontsize=17, pad=20)\n",
    "plt.gca().xaxis.set_label_position('top') \n",
    "plt.xlabel('Prediction', fontsize=13)\n",
    "plt.gca().xaxis.tick_top()\n",
    "\n",
    "plt.gca().figure.subplots_adjust(bottom=0.2)\n",
    "plt.gca().figure.text(0.5, 0.05, 'Prediction', ha='center', fontsize=13)\n",
    "plt.show()\n",
    "\n",
    "print(classification_report(y_test, y_pred_a))\n",
    "#-------------------plot----------------------\n",
    "\n",
    "#Measure:\n",
    "#3) AIC -> low is good\n",
    "#4) Confusion Matrix\n",
    "#5) ROC curve later (read up on it)\n"
   ]
  },
  {
   "cell_type": "markdown",
   "id": "fc7abf10-54ef-437d-97ae-3cec9d54672a",
   "metadata": {},
   "source": [
    "#### b) 13 features, L2 reg, solver = 'lbfgs'"
   ]
  },
  {
   "cell_type": "code",
   "execution_count": 87,
   "id": "6feb093d-eda5-4689-8a85-7772ea01ce94",
   "metadata": {},
   "outputs": [
    {
     "name": "stdout",
     "output_type": "stream",
     "text": [
      "Binary Logistic Regression (13 features) accuracy: 0.7435462196760733\n",
      "Number Correct: 10513 out of 14139\n"
     ]
    },
    {
     "data": {
      "image/png": "[encoded data removed]",
      "text/plain": [
       "<Figure size 640x480 with 2 Axes>"
      ]
     },
     "metadata": {},
     "output_type": "display_data"
    },
    {
     "name": "stdout",
     "output_type": "stream",
     "text": [
      "              precision    recall  f1-score   support\n",
      "\n",
      "           0       0.75      0.73      0.74      7090\n",
      "           1       0.73      0.76      0.75      7049\n",
      "\n",
      "    accuracy                           0.74     14139\n",
      "   macro avg       0.74      0.74      0.74     14139\n",
      "weighted avg       0.74      0.74      0.74     14139\n",
      "\n"
     ]
    }
   ],
   "source": [
    "BLR_b = LogisticRegression(\n",
    "                    penalty='l2',\n",
    "                    solver='lbfgs',\n",
    "                    random_state=42).fit(X_train_13, y_train_13)\n",
    "\n",
    "y_pred_b = BLR_b.predict(X_test_13)\n",
    "\n",
    "\n",
    "# accuracy\n",
    "acc = accuracy_score(y_test, y_pred_b)\n",
    "print(f\"Binary Logistic Regression (13 features) accuracy: {acc}\")\n",
    "\n",
    "# Number correct = accuracy * total samples\n",
    "num_total = len(y_test_13)\n",
    "num_correct = int(acc * num_total)\n",
    "\n",
    "print(f\"Number Correct: {num_correct} out of {num_total}\")\n",
    "\n",
    "# Confusion Matrix\n",
    "cm = confusion_matrix(y_test_13, y_pred_b)\n",
    "sns.heatmap(cm, \n",
    "            annot=True,\n",
    "            fmt='g', \n",
    "            cmap = 'YlGnBu',\n",
    "            xticklabels=['0','1'],\n",
    "            yticklabels=['0','1'])\n",
    "plt.ylabel('Actual', fontsize=13)\n",
    "plt.title('Confusion Matrix', fontsize=17, pad=20)\n",
    "plt.gca().xaxis.set_label_position('top') \n",
    "plt.xlabel('Prediction', fontsize=13)\n",
    "plt.gca().xaxis.tick_top()\n",
    "\n",
    "plt.gca().figure.subplots_adjust(bottom=0.2)\n",
    "plt.gca().figure.text(0.5, 0.05, 'Prediction', ha='center', fontsize=13)\n",
    "plt.show()\n",
    "\n",
    "print(classification_report(y_test, y_pred_b))\n"
   ]
  },
  {
   "cell_type": "markdown",
   "id": "7bd58e06-815d-4c30-9507-8d17860c872c",
   "metadata": {},
   "source": [
    "#### **c)** 21 features, L1 reg, solver = 'liblinear'  "
   ]
  },
  {
   "cell_type": "code",
   "execution_count": 89,
   "id": "37195f01-0382-4334-90e5-9593b482c2ac",
   "metadata": {},
   "outputs": [
    {
     "name": "stdout",
     "output_type": "stream",
     "text": [
      "Binary Logistic Regression (13 features) accuracy: 0.7478605276186435\n",
      "Number Correct: 10574 out of 14139\n"
     ]
    },
    {
     "data": {
      "image/png": "[encoded data removed]",
      "text/plain": [
       "<Figure size 640x480 with 2 Axes>"
      ]
     },
     "metadata": {},
     "output_type": "display_data"
    },
    {
     "name": "stdout",
     "output_type": "stream",
     "text": [
      "              precision    recall  f1-score   support\n",
      "\n",
      "           0       0.76      0.73      0.74      7090\n",
      "           1       0.74      0.77      0.75      7049\n",
      "\n",
      "    accuracy                           0.75     14139\n",
      "   macro avg       0.75      0.75      0.75     14139\n",
      "weighted avg       0.75      0.75      0.75     14139\n",
      "\n"
     ]
    }
   ],
   "source": [
    "BLR_c = LogisticRegression(\n",
    "                    penalty='l1',\n",
    "                    solver='liblinear',\n",
    "                    random_state=42).fit(X_train_21, y_train_21)\n",
    "\n",
    "y_pred_c = BLR_c.predict(X_test_21)\n",
    "\n",
    "\n",
    "# accuracy\n",
    "acc = accuracy_score(y_test, y_pred_c)\n",
    "print(f\"Binary Logistic Regression (13 features) accuracy: {acc}\")\n",
    "\n",
    "# Number correct = accuracy * total samples\n",
    "num_total = len(y_test_21)\n",
    "num_correct = int(acc * num_total)\n",
    "\n",
    "print(f\"Number Correct: {num_correct} out of {num_total}\")\n",
    "\n",
    "# Confusion Matrix\n",
    "cm = confusion_matrix(y_test, y_pred_c)\n",
    "sns.heatmap(cm, \n",
    "            annot=True,\n",
    "            fmt='g', \n",
    "            cmap = 'YlGnBu',\n",
    "            xticklabels=['0','1'],\n",
    "            yticklabels=['0','1'])\n",
    "plt.ylabel('Actual', fontsize=13)\n",
    "plt.title('Confusion Matrix', fontsize=17, pad=20)\n",
    "plt.gca().xaxis.set_label_position('top') \n",
    "plt.xlabel('Prediction', fontsize=13)\n",
    "plt.gca().xaxis.tick_top()\n",
    "\n",
    "plt.gca().figure.subplots_adjust(bottom=0.2)\n",
    "plt.gca().figure.text(0.5, 0.05, 'Prediction', ha='center', fontsize=13)\n",
    "plt.show()\n",
    "\n",
    "print(classification_report(y_test, y_pred_c))"
   ]
  },
  {
   "cell_type": "markdown",
   "id": "42024661-bc7a-4ab4-bbf7-ee8de05da289",
   "metadata": {},
   "source": [
    "#### **d)** 13 features, L1 reg, solver = 'liblinear' "
   ]
  },
  {
   "cell_type": "code",
   "execution_count": 61,
   "id": "23e0dac5-b2cf-4237-925c-ba2fa4f03c31",
   "metadata": {},
   "outputs": [
    {
     "name": "stdout",
     "output_type": "stream",
     "text": [
      "Binary Logistic Regression (13 features) accuracy: 0.7436169460357875\n"
     ]
    }
   ],
   "source": [
    "BLR_d = LogisticRegression(\n",
    "                    penalty='l1',\n",
    "                    solver='liblinear',\n",
    "                    random_state=42).fit(X_train_13, y_train_13)\n",
    "\n",
    "y_pred_d = BLR_d.predict(X_test_13)\n",
    "\n",
    "\n",
    "# accuracy\n",
    "acc = accuracy_score(y_test, y_pred_d)\n",
    "print(f\"Binary Logistic Regression (13 features) accuracy: {acc}\")"
   ]
  },
  {
   "cell_type": "markdown",
   "id": "ac90e743-a27f-466f-9ed1-78aa84576315",
   "metadata": {},
   "source": [
    "#### **e)** 21 features, L2 reg, solver = 'liblinear' "
   ]
  },
  {
   "cell_type": "code",
   "execution_count": 62,
   "id": "6f354db6-1a13-471c-930c-f1ff51a21b54",
   "metadata": {},
   "outputs": [
    {
     "name": "stdout",
     "output_type": "stream",
     "text": [
      "Binary Logistic Regression (21 features) accuracy: 0.7478605276186435\n"
     ]
    }
   ],
   "source": [
    "BLR_e = LogisticRegression(\n",
    "                    penalty='l2',\n",
    "                    solver='liblinear',\n",
    "                    random_state=42).fit(X_train_21, y_train_21)\n",
    "\n",
    "y_pred_e = BLR_e.predict(X_test_21)\n",
    "\n",
    "\n",
    "# accuracy\n",
    "acc = accuracy_score(y_test, y_pred_e)\n",
    "print(f\"Binary Logistic Regression (21 features) accuracy: {acc}\")"
   ]
  },
  {
   "cell_type": "markdown",
   "id": "f9cd5d15-7080-40f9-a6f2-dafaca65f680",
   "metadata": {},
   "source": [
    "#### **f)** 13 features, L2 reg, solver = 'liblinear'  "
   ]
  },
  {
   "cell_type": "code",
   "execution_count": 64,
   "id": "be53c60a-f74c-432c-9fbf-3a7b742b0972",
   "metadata": {},
   "outputs": [
    {
     "name": "stdout",
     "output_type": "stream",
     "text": [
      "Binary Logistic Regression (13 features) accuracy: 0.7435462196760733\n"
     ]
    }
   ],
   "source": [
    "BLR_f = LogisticRegression(\n",
    "                    penalty='l2',\n",
    "                    solver='liblinear',\n",
    "                    random_state=42).fit(X_train_13, y_train_13)\n",
    "\n",
    "y_pred_f = BLR_f.predict(X_test_13)\n",
    "\n",
    "\n",
    "# accuracy\n",
    "acc = accuracy_score(y_test, y_pred_f)\n",
    "print(f\"Binary Logistic Regression (13 features) accuracy: {acc}\")"
   ]
  },
  {
   "cell_type": "markdown",
   "id": "ee8b72f1-6f66-4aa8-872a-fdd1cd38de87",
   "metadata": {},
   "source": [
    "#### **g)** 21 features, L2 reg, solver='newton-cg'"
   ]
  },
  {
   "cell_type": "code",
   "execution_count": 66,
   "id": "6402ca96-8cdb-4cd0-afde-825597fd2144",
   "metadata": {},
   "outputs": [
    {
     "name": "stdout",
     "output_type": "stream",
     "text": [
      "Binary Logistic Regression (21 features) accuracy: 0.7478605276186435\n"
     ]
    }
   ],
   "source": [
    "BLR_g = LogisticRegression(\n",
    "                    penalty='l2',\n",
    "                    solver='newton-cg',\n",
    "                    random_state=42).fit(X_train_21, y_train_21)\n",
    "\n",
    "y_pred_g = BLR_g.predict(X_test_21)\n",
    "\n",
    "\n",
    "# accuracy\n",
    "acc = accuracy_score(y_test, y_pred_g)\n",
    "print(f\"Binary Logistic Regression (21 features) accuracy: {acc}\")"
   ]
  },
  {
   "cell_type": "markdown",
   "id": "454ad634-043b-49a1-bde2-53a445b0afaf",
   "metadata": {},
   "source": [
    "#### **h)** 13 features, L2 reg, solver='newton-cg  "
   ]
  },
  {
   "cell_type": "code",
   "execution_count": 67,
   "id": "e8fd5a13-5c10-4460-abcc-c5bf05d0b4ab",
   "metadata": {},
   "outputs": [
    {
     "name": "stdout",
     "output_type": "stream",
     "text": [
      "Binary Logistic Regression (13 features) accuracy: 0.7435462196760733\n"
     ]
    }
   ],
   "source": [
    "BLR_h = LogisticRegression(\n",
    "                    penalty='l2',\n",
    "                    solver='newton-cg',\n",
    "                    random_state=42).fit(X_train_13, y_train_13)\n",
    "\n",
    "y_pred_h = BLR_h.predict(X_test_13)\n",
    "\n",
    "\n",
    "# accuracy\n",
    "acc = accuracy_score(y_test, y_pred_h)\n",
    "print(f\"Binary Logistic Regression (13 features) accuracy: {acc}\")"
   ]
  },
  {
   "cell_type": "markdown",
   "id": "e9d42039-0d82-4127-8b8f-5ec4468c9fa5",
   "metadata": {},
   "source": [
    "#### **i)** 21 features, L1 reg, solver='saga'   "
   ]
  },
  {
   "cell_type": "code",
   "execution_count": 69,
   "id": "bc5b800d-bb9c-4372-8921-2f3418f1decb",
   "metadata": {},
   "outputs": [
    {
     "name": "stdout",
     "output_type": "stream",
     "text": [
      "Binary Logistic Regression (21 features) accuracy: 0.7478605276186435\n"
     ]
    }
   ],
   "source": [
    "BLR_i = LogisticRegression(\n",
    "                    solver='saga',\n",
    "                    penalty='elasticnet',\n",
    "                    l1_ratio=0.5,\n",
    "                    random_state=42).fit(X_train_21, y_train_21)\n",
    "\n",
    "y_pred_i = BLR_i.predict(X_test_21)\n",
    "\n",
    "\n",
    "# accuracy\n",
    "acc = accuracy_score(y_test, y_pred_i)\n",
    "print(f\"Binary Logistic Regression (21 features) accuracy: {acc}\")"
   ]
  },
  {
   "cell_type": "markdown",
   "id": "16bba330-f6f0-47a2-8dd5-06d49d23a6f5",
   "metadata": {},
   "source": [
    "#### **j)** 13 features, L1 reg, solver='saga'  "
   ]
  },
  {
   "cell_type": "code",
   "execution_count": 70,
   "id": "80674675-a26d-4ab3-a42c-25b8ac40fb57",
   "metadata": {},
   "outputs": [
    {
     "name": "stdout",
     "output_type": "stream",
     "text": [
      "Binary Logistic Regression (13 features) accuracy: 0.7435462196760733\n"
     ]
    }
   ],
   "source": [
    "BLR_j = LogisticRegression(\n",
    "                    solver='saga',\n",
    "                    penalty='elasticnet',\n",
    "                    l1_ratio=0.5,\n",
    "                    random_state=42).fit(X_train_13, y_train_13)\n",
    "\n",
    "y_pred_j = BLR_j.predict(X_test_13)\n",
    "\n",
    "\n",
    "# accuracy\n",
    "acc = accuracy_score(y_test, y_pred_j)\n",
    "print(f\"Binary Logistic Regression (13 features) accuracy: {acc}\")"
   ]
  },
  {
   "cell_type": "code",
   "execution_count": 84,
   "id": "267ffb1b-9b73-48c4-a3d1-fdbcd143b0f7",
   "metadata": {},
   "outputs": [
    {
     "name": "stdout",
     "output_type": "stream",
     "text": [
      "Model a) Accuracy: 0.7476, AIC: 14510.7898\n",
      "Model b) Accuracy: 0.7435, AIC: 14662.6875\n",
      "Model c) Accuracy: 0.7479, AIC: 14510.8793\n",
      "Model d) Accuracy: 0.7436, AIC: 14662.6901\n",
      "Model e) Accuracy: 0.7479, AIC: 14510.8752\n",
      "Model f) Accuracy: 0.7435, AIC: 14662.7258\n",
      "Model g) Accuracy: 0.7479, AIC: 14510.8417\n",
      "Model h) Accuracy: 0.7435, AIC: 14662.7267\n",
      "Model i) Accuracy: 0.7479, AIC: 14510.8716\n",
      "Model j) Accuracy: 0.7435, AIC: 14662.7357\n",
      "\n",
      "\n",
      "Lowest AIC Model:\n",
      "Model a) AIC = 14510.79 and Accuracy = 0.7476\n",
      "\n",
      "Highest Accuracy Model:\n",
      "Model c) AIC = 14510.88 and Accuracy = 0.7479\n",
      "\n"
     ]
    }
   ],
   "source": [
    "# AIC\n",
    "import numpy as np\n",
    "\n",
    "models = [BLR_a, BLR_b, BLR_c, BLR_d, BLR_e, BLR_f, BLR_g, BLR_h, BLR_i, BLR_j]\n",
    "X_tests = [X_test_21, X_test_13, X_test_21, X_test_13, X_test_21, X_test_13, X_test_21, X_test_13, X_test_21, X_test_13]\n",
    "y_tests = [y_test_21, y_test_13, y_test_21, y_test_13, y_test_21, y_test_13, y_test_21, y_test_13, y_test_21, y_test_13]\n",
    "\n",
    "aic = []\n",
    "accuracy = []\n",
    "\n",
    "for i, model in enumerate(models):\n",
    "    X_test = X_tests[i]\n",
    "    y_test = y_tests[i]\n",
    "    \n",
    "    k = len(model.coef_.ravel()) + 1\n",
    "    probs = model.predict_proba(X_test)[:, 1]\n",
    "    probs = np.clip(probs, 1e-15, 1 - 1e-15)\n",
    "    log_likelihood = np.sum(y_test * np.log(probs) + (1 - y_test) * np.log(1 - probs))\n",
    "    AIC = 2 * k - 2 * log_likelihood\n",
    "    \n",
    "    acc = accuracy_score(y_test, model.predict(X_test))\n",
    "\n",
    "    aic.append(AIC)\n",
    "    accuracy.append(acc)\n",
    "    \n",
    "    print(f\"Model {chr(ord('a') + i)}) Accuracy: {acc:.4f}, AIC: {AIC:.4f}\")\n",
    "\n",
    "lowest_aic = np.argmin(aic)\n",
    "highest_accuracy = np.argmax(accuracy)\n",
    "\n",
    "print(\"\\n\")\n",
    "print(\"Lowest AIC Model:\")\n",
    "print(f\"Model {chr(ord('a') + lowest_aic)}) AIC = {aic[lowest_aic]:.2f} and Accuracy = {accuracy[lowest_aic]:.4f}\\n\")\n",
    "print(\"Highest Accuracy Model:\")\n",
    "print(f\"Model {chr(ord('a') + highest_accuracy)}) AIC = {aic[highest_accuracy]:.2f} and Accuracy = {accuracy[highest_accuracy]:.4f}\\n\")"
   ]
  }
 ],
 "metadata": {
  "kernelspec": {
   "display_name": "Python 3 (ipykernel)",
   "language": "python",
   "name": "python3"
  },
  "language_info": {
   "codemirror_mode": {
    "name": "ipython",
    "version": 3
   },
   "file_extension": ".py",
   "mimetype": "text/x-python",
   "name": "python",
   "nbconvert_exporter": "python",
   "pygments_lexer": "ipython3",
   "version": "3.10.16"
  }
 },
 "nbformat": 4,
 "nbformat_minor": 5
}
